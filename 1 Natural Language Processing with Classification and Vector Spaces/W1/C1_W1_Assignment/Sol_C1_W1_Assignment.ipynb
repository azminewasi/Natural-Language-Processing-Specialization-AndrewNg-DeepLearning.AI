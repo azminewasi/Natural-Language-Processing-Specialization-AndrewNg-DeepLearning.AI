{
 "cells": [
  {
   "cell_type": "markdown",
   "metadata": {},
   "source": [
    "# Assignment 1: Logistic Regression\n",
    "Welcome to week one of this specialization. You will learn about logistic regression. Concretely, you will be implementing logistic regression for sentiment analysis on tweets. Given a tweet, you will decide if it has a positive sentiment or a negative one. Specifically you will: \n",
    "\n",
    "* Learn how to extract features for logistic regression given some text\n",
    "* Implement logistic regression from scratch\n",
    "* Apply logistic regression on a natural language processing task\n",
    "* Test using your logistic regression\n",
    "* Perform error analysis\n",
    "\n",
    "## Important Note on Submission to the AutoGrader\n",
    "\n",
    "Before submitting your assignment to the AutoGrader, please make sure you are not doing the following:\n",
    "\n",
    "1. You have not added any _extra_ `print` statement(s) in the assignment.\n",
    "2. You have not added any _extra_ code cell(s) in the assignment.\n",
    "3. You have not changed any of the function parameters.\n",
    "4. You are not using any global variables inside your graded exercises. Unless specifically instructed to do so, please refrain from it and use the local variables instead.\n",
    "5. You are not changing the assignment code where it is not required, like creating _extra_ variables.\n",
    "\n",
    "If you do any of the following, you will get something like, `Grader not found` (or similarly unexpected) error upon submitting your assignment. Before asking for help/debugging the errors in your assignment, check for these first. If this is the case, and you don't remember the changes you have made, you can get a fresh copy of the assignment by following these [instructions](https://www.coursera.org/learn/classification-vector-spaces-in-nlp/supplement/YLuAg/h-ow-to-refresh-your-workspace).\n",
    "\n",
    "Lets get started!\n",
    "\n",
    "We will be using a data set of tweets. Hopefully you will get more than 99% accuracy.  \n",
    "Run the cell below to load in the packages."
   ]
  },
  {
   "cell_type": "markdown",
   "metadata": {},
   "source": [
    "## Import functions and data"
   ]
  },
  {
   "cell_type": "code",
   "execution_count": 1,
   "metadata": {},
   "outputs": [
    {
     "name": "stderr",
     "output_type": "stream",
     "text": [
      "[nltk_data] Downloading package twitter_samples to\n",
      "[nltk_data]     /home/jovyan/nltk_data...\n",
      "[nltk_data]   Unzipping corpora/twitter_samples.zip.\n",
      "[nltk_data] Downloading package stopwords to /home/jovyan/nltk_data...\n",
      "[nltk_data]   Unzipping corpora/stopwords.zip.\n"
     ]
    },
    {
     "data": {
      "text/plain": [
       "True"
      ]
     },
     "execution_count": 1,
     "metadata": {},
     "output_type": "execute_result"
    }
   ],
   "source": [
    "# run this cell to import nltk\n",
    "import nltk\n",
    "from os import getcwd\n",
    "import w1_unittest\n",
    "\n",
    "nltk.download('twitter_samples')\n",
    "nltk.download('stopwords')"
   ]
  },
  {
   "cell_type": "markdown",
   "metadata": {},
   "source": [
    "### Imported functions\n",
    "\n",
    "Download the data needed for this assignment. Check out the [documentation for the twitter_samples dataset](http://www.nltk.org/howto/twitter.html).\n",
    "\n",
    "* twitter_samples: if you're running this notebook on your local computer, you will need to download it using:\n",
    "```Python\n",
    "nltk.download('twitter_samples')\n",
    "```\n",
    "\n",
    "* stopwords: if you're running this notebook on your local computer, you will need to download it using:\n",
    "```python\n",
    "nltk.download('stopwords')\n",
    "```\n",
    "\n",
    "#### Import some helper functions that we provided in the utils.py file:\n",
    "* process_tweet: cleans the text, tokenizes it into separate words, removes stopwords, and converts words to stems.\n",
    "* build_freqs: this counts how often a word in the 'corpus' (the entire set of tweets) was associated with a positive label '1' or a negative label '0', then builds the 'freqs' dictionary, where each key is the (word,label) tuple, and the value is the count of its frequency within the corpus of tweets."
   ]
  },
  {
   "cell_type": "code",
   "execution_count": 2,
   "metadata": {},
   "outputs": [],
   "source": [
    "filePath = f\"{getcwd()}/../tmp2/\"\n",
    "nltk.data.path.append(filePath)"
   ]
  },
  {
   "cell_type": "code",
   "execution_count": 3,
   "metadata": {},
   "outputs": [],
   "source": [
    "import numpy as np\n",
    "import pandas as pd\n",
    "from nltk.corpus import twitter_samples \n",
    "\n",
    "from utils import process_tweet, build_freqs"
   ]
  },
  {
   "cell_type": "markdown",
   "metadata": {},
   "source": [
    "### Prepare the data\n",
    "* The `twitter_samples` contains subsets of five thousand positive_tweets, five thousand negative_tweets, and the full set of 10,000 tweets.  \n",
    "    * If you used all three datasets, we would introduce duplicates of the positive tweets and negative tweets.  \n",
    "    * You will select just the five thousand positive tweets and five thousand negative tweets."
   ]
  },
  {
   "cell_type": "code",
   "execution_count": 4,
   "metadata": {},
   "outputs": [],
   "source": [
    "# select the set of positive and negative tweets\n",
    "all_positive_tweets = twitter_samples.strings('positive_tweets.json')\n",
    "all_negative_tweets = twitter_samples.strings('negative_tweets.json')"
   ]
  },
  {
   "cell_type": "markdown",
   "metadata": {},
   "source": [
    "* Train test split: 20% will be in the test set, and 80% in the training set.\n"
   ]
  },
  {
   "cell_type": "code",
   "execution_count": 5,
   "metadata": {},
   "outputs": [],
   "source": [
    "# split the data into two pieces, one for training and one for testing (validation set) \n",
    "test_pos = all_positive_tweets[4000:]\n",
    "train_pos = all_positive_tweets[:4000]\n",
    "test_neg = all_negative_tweets[4000:]\n",
    "train_neg = all_negative_tweets[:4000]\n",
    "\n",
    "train_x = train_pos + train_neg \n",
    "test_x = test_pos + test_neg"
   ]
  },
  {
   "cell_type": "markdown",
   "metadata": {},
   "source": [
    "* Create the numpy array of positive labels and negative labels."
   ]
  },
  {
   "cell_type": "code",
   "execution_count": 6,
   "metadata": {},
   "outputs": [],
   "source": [
    "# combine positive and negative labels\n",
    "train_y = np.append(np.ones((len(train_pos), 1)), np.zeros((len(train_neg), 1)), axis=0)\n",
    "test_y = np.append(np.ones((len(test_pos), 1)), np.zeros((len(test_neg), 1)), axis=0)"
   ]
  },
  {
   "cell_type": "code",
   "execution_count": 7,
   "metadata": {},
   "outputs": [
    {
     "name": "stdout",
     "output_type": "stream",
     "text": [
      "train_y.shape = (8000, 1)\n",
      "test_y.shape = (2000, 1)\n"
     ]
    }
   ],
   "source": [
    "# Print the shape train and test sets\n",
    "print(\"train_y.shape = \" + str(train_y.shape))\n",
    "print(\"test_y.shape = \" + str(test_y.shape))"
   ]
  },
  {
   "cell_type": "markdown",
   "metadata": {},
   "source": [
    "* Create the frequency dictionary using the imported build_freqs function.  \n",
    "    * We highly recommend that you open utils.py and read the build_freqs function to understand what it is doing.\n",
    "    * To view the file directory, go to the menu and click File->Open.\n",
    "\n",
    "```Python\n",
    "    for y,tweet in zip(ys, tweets):\n",
    "        for word in process_tweet(tweet):\n",
    "            pair = (word, y)\n",
    "            if pair in freqs:\n",
    "                freqs[pair] += 1\n",
    "            else:\n",
    "                freqs[pair] = 1\n",
    "```\n",
    "* Notice how the outer for loop goes through each tweet, and the inner for loop steps through each word in a tweet.\n",
    "* The 'freqs' dictionary is the frequency dictionary that's being built. \n",
    "* The key is the tuple (word, label), such as (\"happy\",1) or (\"happy\",0).  The value stored for each key is the count of how many times the word \"happy\" was associated with a positive label, or how many times \"happy\" was associated with a negative label."
   ]
  },
  {
   "cell_type": "code",
   "execution_count": 8,
   "metadata": {},
   "outputs": [
    {
     "name": "stdout",
     "output_type": "stream",
     "text": [
      "type(freqs) = <class 'dict'>\n",
      "len(freqs) = 11436\n"
     ]
    }
   ],
   "source": [
    "# create frequency dictionary\n",
    "freqs = build_freqs(train_x, train_y)\n",
    "\n",
    "# check the output\n",
    "print(\"type(freqs) = \" + str(type(freqs)))\n",
    "print(\"len(freqs) = \" + str(len(freqs.keys())))"
   ]
  },
  {
   "cell_type": "markdown",
   "metadata": {},
   "source": [
    "#### Expected output\n",
    "```\n",
    "type(freqs) = <class 'dict'>\n",
    "len(freqs) = 11436\n",
    "```"
   ]
  },
  {
   "cell_type": "markdown",
   "metadata": {},
   "source": [
    "### Process tweet\n",
    "The given function 'process_tweet' tokenizes the tweet into individual words, removes stop words and applies stemming."
   ]
  },
  {
   "cell_type": "code",
   "execution_count": 9,
   "metadata": {},
   "outputs": [
    {
     "name": "stdout",
     "output_type": "stream",
     "text": [
      "This is an example of a positive tweet: \n",
      " #FollowFriday @France_Inte @PKuchly57 @Milipol_Paris for being top engaged members in my community this week :)\n",
      "\n",
      "This is an example of the processed version of the tweet: \n",
      " ['followfriday', 'top', 'engag', 'member', 'commun', 'week', ':)']\n"
     ]
    }
   ],
   "source": [
    "# test the function below\n",
    "print('This is an example of a positive tweet: \\n', train_x[0])\n",
    "print('\\nThis is an example of the processed version of the tweet: \\n', process_tweet(train_x[0]))"
   ]
  },
  {
   "cell_type": "markdown",
   "metadata": {},
   "source": [
    "#### Expected output\n",
    "```\n",
    "This is an example of a positive tweet: \n",
    " #FollowFriday @France_Inte @PKuchly57 @Milipol_Paris for being top engaged members in my community this week :)\n",
    " \n",
    "This is an example of the processes version: \n",
    " ['followfriday', 'top', 'engag', 'member', 'commun', 'week', ':)']\n",
    "```"
   ]
  },
  {
   "cell_type": "markdown",
   "metadata": {},
   "source": [
    "# Part 1: Logistic regression \n",
    "\n",
    "\n",
    "### Part 1.1: Sigmoid\n",
    "You will learn to use logistic regression for text classification. \n",
    "* The sigmoid function is defined as: \n",
    "\n",
    "$$ h(z) = \\frac{1}{1+\\exp^{-z}} \\tag{1}$$\n",
    "\n",
    "It maps the input 'z' to a value that ranges between 0 and 1, and so it can be treated as a probability. \n",
    "\n",
    "<div style=\"width:image width px; font-size:100%; text-align:center;\"><img src='./images/sigmoid_plot.jpg' alt=\"alternate text\" width=\"width\" height=\"height\" style=\"width:300px;height:200px;\" /> Figure 1 </div>"
   ]
  },
  {
   "cell_type": "markdown",
   "metadata": {},
   "source": [
    "#### Instructions: Implement the sigmoid function\n",
    "* You will want this function to work if z is a scalar as well as if it is an array."
   ]
  },
  {
   "cell_type": "markdown",
   "metadata": {},
   "source": [
    "<details>    \n",
    "<summary>\n",
    "    <font size=\"3\" color=\"darkgreen\"><b>Hints</b></font>\n",
    "</summary>\n",
    "<p>\n",
    "<ul>\n",
    "    <li><a href=\"https://docs.scipy.org/doc/numpy/reference/generated/numpy.exp.html\" > numpy.exp </a> </li>\n",
    "\n",
    "</ul>\n",
    "</p>\n",
    "\n"
   ]
  },
  {
   "cell_type": "code",
   "execution_count": 10,
   "metadata": {},
   "outputs": [],
   "source": [
    "# UNQ_C1 GRADED FUNCTION: sigmoid\n",
    "def sigmoid(z): \n",
    "    '''\n",
    "    Input:\n",
    "        z: is the input (can be a scalar or an array)\n",
    "    Output:\n",
    "        h: the sigmoid of z\n",
    "    '''\n",
    "    \n",
    "    ### START CODE HERE ###\n",
    "    # calculate the sigmoid of z\n",
    "    h = 1/(1+np.exp(-z))\n",
    "    ### END CODE HERE ###\n",
    "    \n",
    "    return h"
   ]
  },
  {
   "cell_type": "code",
   "execution_count": 11,
   "metadata": {},
   "outputs": [
    {
     "name": "stdout",
     "output_type": "stream",
     "text": [
      "SUCCESS!\n",
      "CORRECT!\n"
     ]
    }
   ],
   "source": [
    "# Testing your function \n",
    "if (sigmoid(0) == 0.5):\n",
    "    print('SUCCESS!')\n",
    "else:\n",
    "    print('Oops!')\n",
    "\n",
    "if (sigmoid(4.92) == 0.9927537604041685):\n",
    "    print('CORRECT!')\n",
    "else:\n",
    "    print('Oops again!')"
   ]
  },
  {
   "cell_type": "code",
   "execution_count": 12,
   "metadata": {},
   "outputs": [
    {
     "name": "stdout",
     "output_type": "stream",
     "text": [
      "\u001b[92m All tests passed\n"
     ]
    }
   ],
   "source": [
    "# Test your function\n",
    "w1_unittest.test_sigmoid(sigmoid)"
   ]
  },
  {
   "cell_type": "markdown",
   "metadata": {},
   "source": [
    "### Logistic regression: regression and a sigmoid\n",
    "\n",
    "Logistic regression takes a regular linear regression, and applies a sigmoid to the output of the linear regression.\n",
    "\n",
    "Regression:\n",
    "$$z = \\theta_0 x_0 + \\theta_1 x_1 + \\theta_2 x_2 + ... \\theta_N x_N$$\n",
    "Note that the $\\theta$ values are \"weights\". If you took the deep learning specialization, we referred to the weights with the 'w' vector.  In this course, we're using a different variable $\\theta$ to refer to the weights.\n",
    "\n",
    "Logistic regression\n",
    "$$ h(z) = \\frac{1}{1+\\exp^{-z}}$$\n",
    "$$z = \\theta_0 x_0 + \\theta_1 x_1 + \\theta_2 x_2 + ... \\theta_N x_N$$\n",
    "We will refer to 'z' as the 'logits'."
   ]
  },
  {
   "cell_type": "markdown",
   "metadata": {},
   "source": [
    "### Part 1.2 Cost function and Gradient\n",
    "\n",
    "The cost function used for logistic regression is the average of the log loss across all training examples:\n",
    "\n",
    "$$J(\\theta) = -\\frac{1}{m} \\sum_{i=1}^m y^{(i)}\\log (h(z(\\theta)^{(i)})) + (1-y^{(i)})\\log (1-h(z(\\theta)^{(i)}))\\tag{5} $$\n",
    "* $m$ is the number of training examples\n",
    "* $y^{(i)}$ is the actual label of training example 'i'.\n",
    "* $h(z^{(i)})$ is the model's prediction for the training example 'i'.\n",
    "\n",
    "The loss function for a single training example is\n",
    "$$ Loss = -1 \\times \\left( y^{(i)}\\log (h(z(\\theta)^{(i)})) + (1-y^{(i)})\\log (1-h(z(\\theta)^{(i)})) \\right)$$\n",
    "\n",
    "* All the $h$ values are between 0 and 1, so the logs will be negative. That is the reason for the factor of -1 applied to the sum of the two loss terms.\n",
    "* Note that when the model predicts 1 ($h(z(\\theta)) = 1$) and the label 'y' is also 1, the loss for that training example is 0. \n",
    "* Similarly, when the model predicts 0 ($h(z(\\theta)) = 0$) and the actual label is also 0, the loss for that training example is 0. \n",
    "* However, when the model prediction is close to 1 ($h(z(\\theta)) = 0.9999$) and the label is 0, the second term of the log loss becomes a large negative number, which is then multiplied by the overall factor of -1 to convert it to a positive loss value. $-1 \\times (1 - 0) \\times log(1 - 0.9999) \\approx 9.2$ The closer the model prediction gets to 1, the larger the loss."
   ]
  },
  {
   "cell_type": "code",
   "execution_count": 13,
   "metadata": {},
   "outputs": [
    {
     "data": {
      "text/plain": [
       "9.210340371976294"
      ]
     },
     "execution_count": 13,
     "metadata": {},
     "output_type": "execute_result"
    }
   ],
   "source": [
    "# verify that when the model predicts close to 1, but the actual label is 0, the loss is a large positive value\n",
    "-1 * (1 - 0) * np.log(1 - 0.9999) # loss is about 9.2"
   ]
  },
  {
   "cell_type": "markdown",
   "metadata": {},
   "source": [
    "* Likewise, if the model predicts close to 0 ($h(z) = 0.0001$) but the actual label is 1, the first term in the loss function becomes a large number: $-1 \\times log(0.0001) \\approx 9.2$.  The closer the prediction is to zero, the larger the loss."
   ]
  },
  {
   "cell_type": "code",
   "execution_count": 14,
   "metadata": {},
   "outputs": [
    {
     "data": {
      "text/plain": [
       "9.210340371976182"
      ]
     },
     "execution_count": 14,
     "metadata": {},
     "output_type": "execute_result"
    }
   ],
   "source": [
    "# verify that when the model predicts close to 0 but the actual label is 1, the loss is a large positive value\n",
    "-1 * np.log(0.0001) # loss is about 9.2"
   ]
  },
  {
   "cell_type": "markdown",
   "metadata": {},
   "source": [
    "#### Update the weights\n",
    "\n",
    "To update your weight vector $\\theta$, you will apply gradient descent to iteratively improve your model's predictions.  \n",
    "The gradient of the cost function $J$ with respect to one of the weights $\\theta_j$ is:\n",
    "\n",
    "$$\\nabla_{\\theta_j}J(\\theta) = \\frac{1}{m} \\sum_{i=1}^m(h^{(i)}-y^{(i)})x^{(i)}_j \\tag{5}$$\n",
    "* 'i' is the index across all 'm' training examples.\n",
    "* 'j' is the index of the weight $\\theta_j$, so $x^{(i)}_j$ is the feature associated with weight $\\theta_j$\n",
    "\n",
    "* To update the weight $\\theta_j$, we adjust it by subtracting a fraction of the gradient determined by $\\alpha$:\n",
    "$$\\theta_j = \\theta_j - \\alpha \\times \\nabla_{\\theta_j}J(\\theta) $$\n",
    "* The learning rate $\\alpha$ is a value that we choose to control how big a single update will be.\n"
   ]
  },
  {
   "cell_type": "markdown",
   "metadata": {},
   "source": [
    "## Instructions: Implement gradient descent function\n",
    "* The number of iterations 'num_iters\" is the number of times that you'll use the entire training set.\n",
    "* For each iteration, you'll calculate the cost function using all training examples (there are 'm' training examples), and for all features.\n",
    "* Instead of updating a single weight $\\theta_i$ at a time, we can update all the weights in the column vector:  \n",
    "$$\\mathbf{\\theta} = \\begin{pmatrix}\n",
    "\\theta_0\n",
    "\\\\\n",
    "\\theta_1\n",
    "\\\\ \n",
    "\\theta_2 \n",
    "\\\\ \n",
    "\\vdots\n",
    "\\\\ \n",
    "\\theta_n\n",
    "\\end{pmatrix}$$\n",
    "* $\\mathbf{\\theta}$ has dimensions (n+1, 1), where 'n' is the number of features, and there is one more element for the bias term $\\theta_0$ (note that the corresponding feature value $\\mathbf{x_0}$ is 1).\n",
    "* The 'logits', 'z', are calculated by multiplying the feature matrix 'x' with the weight vector 'theta'.  $z = \\mathbf{x}\\mathbf{\\theta}$\n",
    "    * $\\mathbf{x}$ has dimensions (m, n+1) \n",
    "    * $\\mathbf{\\theta}$: has dimensions (n+1, 1)\n",
    "    * $\\mathbf{z}$: has dimensions (m, 1)\n",
    "* The prediction 'h', is calculated by applying the sigmoid to each element in 'z': $h(z) = sigmoid(z)$, and has dimensions (m,1).\n",
    "* The cost function $J$ is calculated by taking the dot product of the vectors 'y' and 'log(h)'.  Since both 'y' and 'h' are column vectors (m,1), transpose the vector to the left, so that matrix multiplication of a row vector with column vector performs the dot product.\n",
    "$$J = \\frac{-1}{m} \\times \\left(\\mathbf{y}^T \\cdot log(\\mathbf{h}) + \\mathbf{(1-y)}^T \\cdot log(\\mathbf{1-h}) \\right)$$\n",
    "* The update of theta is also vectorized.  Because the dimensions of $\\mathbf{x}$ are (m, n+1), and both $\\mathbf{h}$ and $\\mathbf{y}$ are (m, 1), we need to transpose the $\\mathbf{x}$ and place it on the left in order to perform matrix multiplication, which then yields the (n+1, 1) answer we need:\n",
    "$$\\mathbf{\\theta} = \\mathbf{\\theta} - \\frac{\\alpha}{m} \\times \\left( \\mathbf{x}^T \\cdot \\left( \\mathbf{h-y} \\right) \\right)$$"
   ]
  },
  {
   "cell_type": "markdown",
   "metadata": {},
   "source": [
    "<details>    \n",
    "<summary>\n",
    "    <font size=\"3\" color=\"darkgreen\"><b>Hints</b></font>\n",
    "</summary>\n",
    "<p>\n",
    "<ul>\n",
    "    <li>use numpy.dot for matrix multiplication.</li>\n",
    "    <li>To ensure that the fraction -1/m is a decimal value, cast either the numerator or denominator (or both), like `float(1)`, or write `1.` for the float version of 1. </li>\n",
    "</ul>\n",
    "</p>\n",
    "\n"
   ]
  },
  {
   "cell_type": "code",
   "execution_count": 24,
   "metadata": {},
   "outputs": [],
   "source": [
    "# UNQ_C2 GRADED FUNCTION: gradientDescent\n",
    "def gradientDescent(x, y, theta, alpha, num_iters):\n",
    "    '''\n",
    "    Input:\n",
    "        x: matrix of features which is (m,n+1)\n",
    "        y: corresponding labels of the input matrix x, dimensions (m,1)\n",
    "        theta: weight vector of dimension (n+1,1)\n",
    "        alpha: learning rate\n",
    "        num_iters: number of iterations you want to train your model for\n",
    "    Output:\n",
    "        J: the final cost\n",
    "        theta: your final weight vector\n",
    "    Hint: you might want to print the cost to make sure that it is going down.\n",
    "    '''\n",
    "    ### START CODE HERE ###\n",
    "    # get 'm', the number of rows in matrix x\n",
    "    m = x.shape[0]\n",
    "    \n",
    "    for i in range(0, num_iters):\n",
    "        \n",
    "        # get z, the dot product of x and theta\n",
    "        z = np.dot(x,theta)\n",
    "        \n",
    "        # get the sigmoid of z\n",
    "        h = sigmoid(z)\n",
    "        \n",
    "        # calculate the cost function\n",
    "        J = (-1/m)*(np.matmul(np.transpose(y),np.log(h)) + np.matmul(np.transpose(1-y),np.log(1-h)))\n",
    "\n",
    "        # update the weights theta\n",
    "        theta = theta - (alpha/m)*np.dot(np.transpose(x),(h-y))\n",
    "        \n",
    "    ### END CODE HERE ###\n",
    "    J = float(J)\n",
    "    return J, theta"
   ]
  },
  {
   "cell_type": "code",
   "execution_count": 25,
   "metadata": {},
   "outputs": [
    {
     "name": "stdout",
     "output_type": "stream",
     "text": [
      "The cost after training is 0.67094970.\n",
      "The resulting vector of weights is [4.1e-07, 0.00035658, 7.309e-05]\n"
     ]
    }
   ],
   "source": [
    "# Check the function\n",
    "# Construct a synthetic test case using numpy PRNG functions\n",
    "np.random.seed(1)\n",
    "# X input is 10 x 3 with ones for the bias terms\n",
    "tmp_X = np.append(np.ones((10, 1)), np.random.rand(10, 2) * 2000, axis=1)\n",
    "# Y Labels are 10 x 1\n",
    "tmp_Y = (np.random.rand(10, 1) > 0.35).astype(float)\n",
    "\n",
    "# Apply gradient descent\n",
    "tmp_J, tmp_theta = gradientDescent(tmp_X, tmp_Y, np.zeros((3, 1)), 1e-8, 700)\n",
    "print(f\"The cost after training is {tmp_J:.8f}.\")\n",
    "print(f\"The resulting vector of weights is {[round(t, 8) for t in np.squeeze(tmp_theta)]}\")"
   ]
  },
  {
   "cell_type": "markdown",
   "metadata": {},
   "source": [
    "#### Expected output\n",
    "```\n",
    "The cost after training is 0.67094970.\n",
    "The resulting vector of weights is [4.1e-07, 0.00035658, 7.309e-05]\n",
    "```"
   ]
  },
  {
   "cell_type": "code",
   "execution_count": 26,
   "metadata": {},
   "outputs": [
    {
     "name": "stdout",
     "output_type": "stream",
     "text": [
      "\u001b[92m All tests passed\n"
     ]
    }
   ],
   "source": [
    "# Test your function\n",
    "w1_unittest.test_gradientDescent(gradientDescent)"
   ]
  },
  {
   "cell_type": "markdown",
   "metadata": {},
   "source": [
    "## Part 2: Extracting the features\n",
    "\n",
    "* Given a list of tweets, extract the features and store them in a matrix. You will extract two features.\n",
    "    * The first feature is the number of positive words in a tweet.\n",
    "    * The second feature is the number of negative words in a tweet. \n",
    "* Then train your logistic regression classifier on these features.\n",
    "* Test the classifier on a validation set. \n",
    "\n",
    "### Instructions: Implement the extract_features function. \n",
    "* This function takes in a single tweet.\n",
    "* Process the tweet using the imported `process_tweet` function and save the list of tweet words.\n",
    "* Loop through each word in the list of processed words\n",
    "    * For each word, check the 'freqs' dictionary for the count when that word has a positive '1' label. (Check for the key (word, 1.0)\n",
    "    * Do the same for the count for when the word is associated with the negative label '0'. (Check for the key (word, 0.0).)\n"
   ]
  },
  {
   "cell_type": "markdown",
   "metadata": {},
   "source": [
    "<details>    \n",
    "<summary>\n",
    "    <font size=\"3\" color=\"darkgreen\"><b>Hints</b></font>\n",
    "</summary>\n",
    "<p>\n",
    "<ul>\n",
    "    <li>Make sure you handle cases when the (word, label) key is not found in the dictionary. </li>\n",
    "    <li> Search the web for hints about using the 'get' function of a Python dictionary.  Here is an <a href=\"https://www.programiz.com/python-programming/methods/dictionary/get\" > example </a> </li>\n",
    "</ul>\n",
    "</p>\n"
   ]
  },
  {
   "cell_type": "code",
   "execution_count": 50,
   "metadata": {},
   "outputs": [],
   "source": [
    "# UNQ_C3 GRADED FUNCTION: extract_features\n",
    "def extract_features(tweet, freqs, process_tweet=process_tweet):\n",
    "    '''\n",
    "    Input: \n",
    "        tweet: a list of words for one tweet\n",
    "        freqs: a dictionary corresponding to the frequencies of each tuple (word, label)\n",
    "    Output: \n",
    "        x: a feature vector of dimension (1,3)\n",
    "    '''\n",
    "    # process_tweet tokenizes, stems, and removes stopwords\n",
    "    word_l = process_tweet(tweet)\n",
    "    \n",
    "    # 3 elements in the form of a 1 x 3 vector\n",
    "    x = np.zeros((1, 3)) \n",
    "    \n",
    "    #bias term is set to 1\n",
    "    x[0,0] = 1 \n",
    "    \n",
    "    ### START CODE HERE ###\n",
    "    \n",
    "    # loop through each word in the list of words\n",
    "    for word in word_l:\n",
    "        \n",
    "        if (word, 1.0) in freqs.keys() :\n",
    "        # increment the word count for the positive label 1\n",
    "            x[0,1] += freqs[(word, 1.0)]\n",
    "        if (word, 0.0) in freqs.keys() :\n",
    "        # increment the word count for the negative label 0\n",
    "            x[0,2] += freqs[(word, 0.0)]\n",
    "        \n",
    "    ### END CODE HERE ###\n",
    "    assert(x.shape == (1, 3))\n",
    "    return x"
   ]
  },
  {
   "cell_type": "code",
   "execution_count": 51,
   "metadata": {},
   "outputs": [
    {
     "name": "stdout",
     "output_type": "stream",
     "text": [
      "[[1.000e+00 3.133e+03 6.100e+01]]\n"
     ]
    }
   ],
   "source": [
    "# Check your function\n",
    "# test 1\n",
    "# test on training data\n",
    "tmp1 = extract_features(train_x[0], freqs)\n",
    "print(tmp1)"
   ]
  },
  {
   "cell_type": "markdown",
   "metadata": {},
   "source": [
    "#### Expected output\n",
    "```\n",
    "[[1.000e+00 3.133e+03 6.100e+01]]\n",
    "```"
   ]
  },
  {
   "cell_type": "code",
   "execution_count": 52,
   "metadata": {},
   "outputs": [
    {
     "name": "stdout",
     "output_type": "stream",
     "text": [
      "[[1. 0. 0.]]\n"
     ]
    }
   ],
   "source": [
    "# test 2:\n",
    "# check for when the words are not in the freqs dictionary\n",
    "tmp2 = extract_features('blorb bleeeeb bloooob', freqs)\n",
    "print(tmp2)"
   ]
  },
  {
   "cell_type": "markdown",
   "metadata": {},
   "source": [
    "#### Expected output\n",
    "```\n",
    "[[1. 0. 0.]]\n",
    "```"
   ]
  },
  {
   "cell_type": "code",
   "execution_count": 53,
   "metadata": {},
   "outputs": [
    {
     "name": "stdout",
     "output_type": "stream",
     "text": [
      "\u001b[92m All tests passed\n"
     ]
    }
   ],
   "source": [
    "# Test your function\n",
    "w1_unittest.test_extract_features(extract_features, freqs)"
   ]
  },
  {
   "cell_type": "markdown",
   "metadata": {},
   "source": [
    "## Part 3: Training Your Model\n",
    "\n",
    "To train the model:\n",
    "* Stack the features for all training examples into a matrix X. \n",
    "* Call `gradientDescent`, which you've implemented above.\n",
    "\n",
    "This section is given to you.  Please read it for understanding and run the cell."
   ]
  },
  {
   "cell_type": "code",
   "execution_count": 54,
   "metadata": {},
   "outputs": [
    {
     "name": "stdout",
     "output_type": "stream",
     "text": [
      "The cost after training is 0.22522315.\n",
      "The resulting vector of weights is [6e-08, 0.00053818, -0.0005583]\n"
     ]
    }
   ],
   "source": [
    "# collect the features 'x' and stack them into a matrix 'X'\n",
    "X = np.zeros((len(train_x), 3))\n",
    "for i in range(len(train_x)):\n",
    "    X[i, :]= extract_features(train_x[i], freqs)\n",
    "\n",
    "# training labels corresponding to X\n",
    "Y = train_y\n",
    "\n",
    "# Apply gradient descent\n",
    "J, theta = gradientDescent(X, Y, np.zeros((3, 1)), 1e-9, 1500)\n",
    "print(f\"The cost after training is {J:.8f}.\")\n",
    "print(f\"The resulting vector of weights is {[round(t, 8) for t in np.squeeze(theta)]}\")"
   ]
  },
  {
   "cell_type": "markdown",
   "metadata": {},
   "source": [
    "**Expected Output**: \n",
    "\n",
    "```\n",
    "The cost after training is 0.22522315.\n",
    "The resulting vector of weights is [6e-08, 0.00053818, -0.0005583]\n",
    "```"
   ]
  },
  {
   "cell_type": "markdown",
   "metadata": {},
   "source": [
    "# Part 4: Test your logistic regression\n",
    "\n",
    "It is time for you to test your logistic regression function on some new input that your model has not seen before. \n",
    "\n",
    "#### Instructions: Write `predict_tweet`\n",
    "Predict whether a tweet is positive or negative.\n",
    "\n",
    "* Given a tweet, process it, then extract the features.\n",
    "* Apply the model's learned weights on the features to get the logits.\n",
    "* Apply the sigmoid to the logits to get the prediction (a value between 0 and 1).\n",
    "\n",
    "$$y_{pred} = sigmoid(\\mathbf{x} \\cdot \\theta)$$"
   ]
  },
  {
   "cell_type": "code",
   "execution_count": 59,
   "metadata": {},
   "outputs": [],
   "source": [
    "# UNQ_C4 GRADED FUNCTION: predict_tweet\n",
    "def predict_tweet(tweet, freqs, theta):\n",
    "    '''\n",
    "    Input: \n",
    "        tweet: a string\n",
    "        freqs: a dictionary corresponding to the frequencies of each tuple (word, label)\n",
    "        theta: (3,1) vector of weights\n",
    "    Output: \n",
    "        y_pred: the probability of a tweet being positive or negative\n",
    "    '''\n",
    "    ### START CODE HERE ###\n",
    "    \n",
    "    # extract the features of the tweet and store it into x\n",
    "    x = extract_features(tweet, freqs)\n",
    "    \n",
    "    # make the prediction using x and theta\n",
    "    y_pred = sigmoid(np.dot(x,theta))\n",
    "    \n",
    "    ### END CODE HERE ###\n",
    "    \n",
    "    return y_pred"
   ]
  },
  {
   "cell_type": "code",
   "execution_count": 60,
   "metadata": {
    "lines_to_next_cell": 2
   },
   "outputs": [
    {
     "name": "stdout",
     "output_type": "stream",
     "text": [
      "I am happy -> 0.519275\n",
      "I am bad -> 0.494347\n",
      "this movie should have been great. -> 0.515979\n",
      "great -> 0.516065\n",
      "great great -> 0.532096\n",
      "great great great -> 0.548062\n",
      "great great great great -> 0.563929\n"
     ]
    }
   ],
   "source": [
    "# Run this cell to test your function\n",
    "for tweet in ['I am happy', 'I am bad', 'this movie should have been great.', 'great', 'great great', 'great great great', 'great great great great']:\n",
    "    print( '%s -> %f' % (tweet, predict_tweet(tweet, freqs, theta)))    "
   ]
  },
  {
   "cell_type": "markdown",
   "metadata": {},
   "source": [
    "**Expected Output**: \n",
    "```\n",
    "I am happy -> 0.519275\n",
    "I am bad -> 0.494347\n",
    "this movie should have been great. -> 0.515979\n",
    "great -> 0.516065\n",
    "great great -> 0.532096\n",
    "great great great -> 0.548062\n",
    "great great great great -> 0.563929\n",
    "```"
   ]
  },
  {
   "cell_type": "code",
   "execution_count": 61,
   "metadata": {},
   "outputs": [
    {
     "data": {
      "text/plain": [
       "array([[0.83110307]])"
      ]
     },
     "execution_count": 61,
     "metadata": {},
     "output_type": "execute_result"
    }
   ],
   "source": [
    "# Feel free to check the sentiment of your own tweet below\n",
    "my_tweet = 'I am learning :)'\n",
    "predict_tweet(my_tweet, freqs, theta)"
   ]
  },
  {
   "cell_type": "code",
   "execution_count": 62,
   "metadata": {},
   "outputs": [
    {
     "name": "stdout",
     "output_type": "stream",
     "text": [
      "\u001b[92m All tests passed\n"
     ]
    }
   ],
   "source": [
    "# Test your function\n",
    "w1_unittest.test_predict_tweet(predict_tweet, freqs, theta)"
   ]
  },
  {
   "cell_type": "markdown",
   "metadata": {},
   "source": [
    "## Check performance using the test set\n",
    "After training your model using the training set above, check how your model might perform on real, unseen data, by testing it against the test set.\n",
    "\n",
    "#### Instructions: Implement `test_logistic_regression` \n",
    "* Given the test data and the weights of your trained model, calculate the accuracy of your logistic regression model. \n",
    "* Use your 'predict_tweet' function to make predictions on each tweet in the test set.\n",
    "* If the prediction is > 0.5, set the model's classification 'y_hat' to 1, otherwise set the model's classification 'y_hat' to 0.\n",
    "* A prediction is accurate when the y_hat equals the test_y.  Sum up all the instances when they are equal and divide by m.\n"
   ]
  },
  {
   "cell_type": "markdown",
   "metadata": {},
   "source": [
    "<details>    \n",
    "<summary>\n",
    "    <font size=\"3\" color=\"darkgreen\"><b>Hints</b></font>\n",
    "</summary>\n",
    "<p>\n",
    "<ul>\n",
    "    <li>Use np.asarray() to convert a list to a numpy array</li>\n",
    "    <li>Use numpy.squeeze() to make an (m,1) dimensional array into an (m,) array </li>\n",
    "</ul>\n",
    "</p>"
   ]
  },
  {
   "cell_type": "code",
   "execution_count": 92,
   "metadata": {},
   "outputs": [],
   "source": [
    "# UNQ_C5 GRADED FUNCTION: test_logistic_regression\n",
    "def test_logistic_regression(test_x, test_y, freqs, theta, predict_tweet=predict_tweet):\n",
    "    \"\"\"\n",
    "    Input: \n",
    "        test_x: a list of tweets\n",
    "        test_y: (m, 1) vector with the corresponding labels for the list of tweets\n",
    "        freqs: a dictionary with the frequency of each pair (or tuple)\n",
    "        theta: weight vector of dimension (3, 1)\n",
    "    Output: \n",
    "        accuracy: (# of tweets classified correctly) / (total # of tweets)\n",
    "    \"\"\"\n",
    "    \n",
    "    ### START CODE HERE ###\n",
    "    \n",
    "    # the list for storing predictions\n",
    "    y_hat = []\n",
    "    \n",
    "    for tweet in test_x:\n",
    "        # get the label prediction for the tweet\n",
    "        y_pred = predict_tweet(tweet, freqs, theta)\n",
    "        \n",
    "        if y_pred > 0.5:\n",
    "            # append 1.0 to the list\n",
    "            y_hat.append(1.0)\n",
    "        else:\n",
    "            # append 0 to the list\n",
    "            y_hat.append(0.0)\n",
    "\n",
    "    # With the above implementation, y_hat is a list, but test_y is (m,1) array\n",
    "    # convert both to one-dimensional arrays in order to compare them using the '==' operator\n",
    "    \n",
    "    accuracy = 0\n",
    "    \n",
    "    for i in range(test_y.shape[0]):\n",
    "        if test_y[i]==y_hat[i]:\n",
    "            accuracy+=1\n",
    "    \n",
    "    accuracy=np.float64(accuracy/test_y.shape[0])\n",
    "\n",
    "    ### END CODE HERE ###\n",
    "    \n",
    "    return accuracy"
   ]
  },
  {
   "cell_type": "code",
   "execution_count": 93,
   "metadata": {},
   "outputs": [
    {
     "name": "stdout",
     "output_type": "stream",
     "text": [
      "Logistic regression model's accuracy = 0.9950\n"
     ]
    }
   ],
   "source": [
    "tmp_accuracy = test_logistic_regression(test_x, test_y, freqs, theta)\n",
    "print(f\"Logistic regression model's accuracy = {tmp_accuracy:.4f}\")"
   ]
  },
  {
   "cell_type": "markdown",
   "metadata": {},
   "source": [
    "#### Expected Output: \n",
    "```0.9950```  \n",
    "Pretty good!"
   ]
  },
  {
   "cell_type": "code",
   "execution_count": 94,
   "metadata": {},
   "outputs": [
    {
     "name": "stdout",
     "output_type": "stream",
     "text": [
      "\u001b[92m All tests passed\n"
     ]
    }
   ],
   "source": [
    "# Test your function\n",
    "w1_unittest.unittest_test_logistic_regression(test_logistic_regression, freqs, theta)"
   ]
  },
  {
   "cell_type": "markdown",
   "metadata": {},
   "source": [
    "# Part 5: Error Analysis\n",
    "\n",
    "In this part you will see some tweets that your model misclassified. Why do you think the misclassifications happened? Specifically what kind of tweets does your model misclassify?"
   ]
  },
  {
   "cell_type": "code",
   "execution_count": 95,
   "metadata": {},
   "outputs": [
    {
     "name": "stdout",
     "output_type": "stream",
     "text": [
      "Label Predicted Tweet\n",
      "THE TWEET IS: @MarkBreech Not sure it would be good thing 4 my bottom daring 2 say 2 Miss B but Im gonna be so stubborn on mouth soaping ! #NotHavingit :p\n",
      "THE PROCESSED TWEET IS: ['sure', 'would', 'good', 'thing', '4', 'bottom', 'dare', '2', 'say', '2', 'miss', 'b', 'im', 'gonna', 'stubborn', 'mouth', 'soap', 'nothavingit', ':p']\n",
      "1\t0.48901497\tb'sure would good thing 4 bottom dare 2 say 2 miss b im gonna stubborn mouth soap nothavingit :p'\n",
      "THE TWEET IS: I'm playing Brain Dots : ) #BrainDots\n",
      "http://t.co/UGQzOx0huu\n",
      "THE PROCESSED TWEET IS: [\"i'm\", 'play', 'brain', 'dot', 'braindot']\n",
      "1\t0.48418949\tb\"i'm play brain dot braindot\"\n",
      "THE TWEET IS: I'm playing Brain Dots : ) #BrainDots http://t.co/aOKldo3GMj http://t.co/xWCM9qyRG5\n",
      "THE PROCESSED TWEET IS: [\"i'm\", 'play', 'brain', 'dot', 'braindot']\n",
      "1\t0.48418949\tb\"i'm play brain dot braindot\"\n",
      "THE TWEET IS: I'm playing Brain Dots : ) #BrainDots http://t.co/R2JBO8iNww http://t.co/ow5BBwdEMY\n",
      "THE PROCESSED TWEET IS: [\"i'm\", 'play', 'brain', 'dot', 'braindot']\n",
      "1\t0.48418949\tb\"i'm play brain dot braindot\"\n",
      "THE TWEET IS: off to the park to get some sunlight : )\n",
      "THE PROCESSED TWEET IS: ['park', 'get', 'sunlight']\n",
      "1\t0.49636374\tb'park get sunlight'\n",
      "THE TWEET IS: @msarosh Uff Itna Miss karhy thy ap :p\n",
      "THE PROCESSED TWEET IS: ['uff', 'itna', 'miss', 'karhi', 'thi', 'ap', ':p']\n",
      "1\t0.48237069\tb'uff itna miss karhi thi ap :p'\n",
      "THE TWEET IS: @phenomyoutube u probs had more fun with david than me : (\n",
      "THE PROCESSED TWEET IS: ['u', 'prob', 'fun', 'david']\n",
      "0\t0.50988239\tb'u prob fun david'\n",
      "THE TWEET IS: pats jay : (\n",
      "THE PROCESSED TWEET IS: ['pat', 'jay']\n",
      "0\t0.50040365\tb'pat jay'\n",
      "THE TWEET IS: my beloved grandmother : ( https://t.co/wt4oXq5xCf\n",
      "THE PROCESSED TWEET IS: ['belov', 'grandmoth']\n",
      "0\t0.50000002\tb'belov grandmoth'\n",
      "THE TWEET IS: Sr. Financial Analyst - Expedia, Inc.: (#Bellevue, WA) http://t.co/ktknMhvwCI #Finance #ExpediaJobs #Job #Jobs #Hiring\n",
      "THE PROCESSED TWEET IS: ['sr', 'financi', 'analyst', 'expedia', 'inc', 'bellevu', 'wa', 'financ', 'expediajob', 'job', 'job', 'hire']\n",
      "0\t0.50648681\tb'sr financi analyst expedia inc bellevu wa financ expediajob job job hire'\n"
     ]
    }
   ],
   "source": [
    "# Some error analysis done for you\n",
    "print('Label Predicted Tweet')\n",
    "for x,y in zip(test_x,test_y):\n",
    "    y_hat = predict_tweet(x, freqs, theta)\n",
    "\n",
    "    if np.abs(y - (y_hat > 0.5)) > 0:\n",
    "        print('THE TWEET IS:', x)\n",
    "        print('THE PROCESSED TWEET IS:', process_tweet(x))\n",
    "        print('%d\\t%0.8f\\t%s' % (y, y_hat, ' '.join(process_tweet(x)).encode('ascii', 'ignore')))"
   ]
  },
  {
   "cell_type": "markdown",
   "metadata": {},
   "source": [
    "Later in this specialization, we will see how we can use deeplearning to improve the prediction performance."
   ]
  },
  {
   "cell_type": "markdown",
   "metadata": {},
   "source": [
    "# Part 6: Predict with your own tweet"
   ]
  },
  {
   "cell_type": "code",
   "execution_count": 97,
   "metadata": {},
   "outputs": [
    {
     "name": "stdout",
     "output_type": "stream",
     "text": [
      "[]\n",
      "[[0.50000002]]\n",
      "Positive sentiment\n"
     ]
    }
   ],
   "source": [
    "# Feel free to change the tweet below\n",
    "my_tweet = 'I won!'\n",
    "print(process_tweet(my_tweet))\n",
    "y_hat = predict_tweet(my_tweet, freqs, theta)\n",
    "print(y_hat)\n",
    "if y_hat > 0.5:\n",
    "    print('Positive sentiment')\n",
    "else: \n",
    "    print('Negative sentiment')"
   ]
  },
  {
   "cell_type": "code",
   "execution_count": 49,
   "metadata": {},
   "outputs": [
    {
     "data": {
      "text/plain": [
       "dict_keys([('followfriday', 1.0), ('top', 1.0), ('engag', 1.0), ('member', 1.0), ('commun', 1.0), ('week', 1.0), (':)', 1.0), ('hey', 1.0), ('jame', 1.0), ('odd', 1.0), (':/', 1.0), ('pleas', 1.0), ('call', 1.0), ('contact', 1.0), ('centr', 1.0), ('02392441234', 1.0), ('abl', 1.0), ('assist', 1.0), ('mani', 1.0), ('thank', 1.0), ('listen', 1.0), ('last', 1.0), ('night', 1.0), ('bleed', 1.0), ('amaz', 1.0), ('track', 1.0), ('scotland', 1.0), ('congrat', 1.0), ('yeaaah', 1.0), ('yipppi', 1.0), ('accnt', 1.0), ('verifi', 1.0), ('rqst', 1.0), ('succeed', 1.0), ('got', 1.0), ('blue', 1.0), ('tick', 1.0), ('mark', 1.0), ('fb', 1.0), ('profil', 1.0), ('15', 1.0), ('day', 1.0), ('one', 1.0), ('irresist', 1.0), ('flipkartfashionfriday', 1.0), ('like', 1.0), ('keep', 1.0), ('love', 1.0), ('custom', 1.0), ('wait', 1.0), ('long', 1.0), ('hope', 1.0), ('enjoy', 1.0), ('happi', 1.0), ('friday', 1.0), ('lwwf', 1.0), ('second', 1.0), ('thought', 1.0), ('’', 1.0), ('enough', 1.0), ('time', 1.0), ('dd', 1.0), ('new', 1.0), ('short', 1.0), ('enter', 1.0), ('system', 1.0), ('sheep', 1.0), ('must', 1.0), ('buy', 1.0), ('jgh', 1.0), ('go', 1.0), ('bayan', 1.0), (':D', 1.0), ('bye', 1.0), ('act', 1.0), ('mischiev', 1.0), ('etl', 1.0), ('layer', 1.0), ('in-hous', 1.0), ('wareh', 1.0), ('app', 1.0), ('katamari', 1.0), ('well', 1.0), ('…', 1.0), ('name', 1.0), ('impli', 1.0), (':p', 1.0), ('influenc', 1.0), ('big', 1.0), ('...', 1.0), ('juici', 1.0), ('selfi', 1.0), ('follow', 1.0), ('u', 1.0), ('back', 1.0), ('perfect', 1.0), ('alreadi', 1.0), ('know', 1.0), (\"what'\", 1.0), ('great', 1.0), ('opportun', 1.0), ('junior', 1.0), ('triathlet', 1.0), ('age', 1.0), ('12', 1.0), ('13', 1.0), ('gatorad', 1.0), ('seri', 1.0), ('get', 1.0), ('entri', 1.0), ('lay', 1.0), ('greet', 1.0), ('card', 1.0), ('rang', 1.0), ('print', 1.0), ('today', 1.0), ('job', 1.0), (':-)', 1.0), (\"friend'\", 1.0), ('lunch', 1.0), ('yummm', 1.0), ('nostalgia', 1.0), ('tb', 1.0), ('ku', 1.0), ('id', 1.0), ('conflict', 1.0), ('help', 1.0), (\"here'\", 1.0), ('screenshot', 1.0), ('work', 1.0), ('hi', 1.0), ('liv', 1.0), ('hello', 1.0), ('need', 1.0), ('someth', 1.0), ('fm', 1.0), ('twitter', 1.0), ('—', 1.0), ('sure', 1.0), ('thing', 1.0), ('dm', 1.0), ('x', 1.0), (\"i'v\", 1.0), ('heard', 1.0), ('four', 1.0), ('season', 1.0), ('pretti', 1.0), ('dope', 1.0), ('penthous', 1.0), ('obv', 1.0), ('gobigorgohom', 1.0), ('fun', 1.0), (\"y'all\", 1.0), ('yeah', 1.0), ('suppos', 1.0), ('lol', 1.0), ('chat', 1.0), ('bit', 1.0), ('youth', 1.0), ('💅', 1.0), ('🏽', 1.0), ('💋', 1.0), ('seen', 1.0), ('year', 1.0), ('rest', 1.0), ('goe', 1.0), ('quickli', 1.0), ('bed', 1.0), ('music', 1.0), ('fix', 1.0), ('dream', 1.0), ('spiritu', 1.0), ('ritual', 1.0), ('festiv', 1.0), ('népal', 1.0), ('begin', 1.0), ('line-up', 1.0), ('left', 1.0), ('see', 1.0), ('sarah', 1.0), ('send', 1.0), ('us', 1.0), ('email', 1.0), ('bitsy@bitdefender.com', 1.0), (\"we'll\", 1.0), ('asap', 1.0), ('kik', 1.0), ('hatessuc', 1.0), ('32429', 1.0), ('kikm', 1.0), ('lgbt', 1.0), ('tinder', 1.0), ('nsfw', 1.0), ('akua', 1.0), ('cumshot', 1.0), ('come', 1.0), ('hous', 1.0), ('nsn_supplement', 1.0), ('effect', 1.0), ('press', 1.0), ('releas', 1.0), ('distribut', 1.0), ('result', 1.0), ('link', 1.0), ('remov', 1.0), ('pressreleas', 1.0), ('newsdistribut', 1.0), ('bam', 1.0), ('bestfriend', 1.0), ('lot', 1.0), ('warsaw', 1.0), ('<3', 1.0), ('x46', 1.0), ('everyon', 1.0), ('watch', 1.0), ('documentari', 1.0), ('earthl', 1.0), ('youtub', 1.0), ('support', 1.0), ('buuut', 1.0), ('oh', 1.0), ('look', 1.0), ('forward', 1.0), ('visit', 1.0), ('next', 1.0), ('letsgetmessi', 1.0), ('jo', 1.0), ('make', 1.0), ('feel', 1.0), ('better', 1.0), ('never', 1.0), ('anyon', 1.0), ('kpop', 1.0), ('flesh', 1.0), ('good', 1.0), ('girl', 1.0), ('best', 1.0), ('wish', 1.0), ('reason', 1.0), ('epic', 1.0), ('soundtrack', 1.0), ('shout', 1.0), ('ad', 1.0), ('video', 1.0), ('playlist', 1.0), ('im', 1.0), ('twitch', 1.0), ('leagu', 1.0), ('1', 1.0), ('4', 1.0), ('would', 1.0), ('dear', 1.0), ('jordan', 1.0), ('okay', 1.0), ('fake', 1.0), ('gameplay', 1.0), (';)', 1.0), ('haha', 1.0), ('kid', 1.0), ('stuff', 1.0), ('exactli', 1.0), ('product', 1.0), ('line', 1.0), ('etsi', 1.0), ('shop', 1.0), ('check', 1.0), ('boxroomcraft', 1.0), ('vacat', 1.0), ('recharg', 1.0), ('normal', 1.0), ('charger', 1.0), ('asleep', 1.0), ('talk', 1.0), ('sooo', 1.0), ('someon', 1.0), ('text', 1.0), ('ye', 1.0), ('bet', 1.0), (\"he'll\", 1.0), ('fit', 1.0), ('hear', 1.0), ('speech', 1.0), ('piti', 1.0), ('green', 1.0), ('garden', 1.0), ('midnight', 1.0), ('sun', 1.0), ('beauti', 1.0), ('canal', 1.0), ('dasvidaniya', 1.0), ('till', 1.0), ('scout', 1.0), ('sg', 1.0), ('futur', 1.0), ('wlan', 1.0), ('pro', 1.0), ('confer', 1.0), ('asia', 1.0), ('chang', 1.0), ('lollipop', 1.0), ('🍭', 1.0), ('nez', 1.0), ('agnezmo', 1.0), ('oley', 1.0), ('mama', 1.0), ('stand', 1.0), ('stronger', 1.0), ('god', 1.0), ('misti', 1.0), ('babi', 1.0), ('cute', 1.0), ('woohoo', 1.0), (\"can't\", 1.0), ('sign', 1.0), ('yet', 1.0), ('still', 1.0), ('think', 1.0), ('mka', 1.0), ('liam', 1.0), ('access', 1.0), ('welcom', 1.0), ('stat', 1.0), ('arriv', 1.0), ('unfollow', 1.0), ('via', 1.0), ('surpris', 1.0), ('figur', 1.0), ('happybirthdayemilybett', 1.0), ('sweet', 1.0), ('talent', 1.0), ('2', 1.0), ('plan', 1.0), ('drain', 1.0), ('gotta', 1.0), ('timezon', 1.0), ('parent', 1.0), ('proud', 1.0), ('least', 1.0), ('mayb', 1.0), ('sometim', 1.0), ('grade', 1.0), ('al', 1.0), ('grand', 1.0), ('manila_bro', 1.0), ('chosen', 1.0), ('let', 1.0), ('around', 1.0), ('..', 1.0), ('side', 1.0), ('world', 1.0), ('eh', 1.0), ('take', 1.0), ('care', 1.0), ('final', 1.0), ('fuck', 1.0), ('weekend', 1.0), ('real', 1.0), ('x45', 1.0), ('join', 1.0), ('hushedcallwithfraydo', 1.0), ('gift', 1.0), ('yeahhh', 1.0), ('hushedpinwithsammi', 1.0), ('event', 1.0), ('might', 1.0), ('luv', 1.0), ('realli', 1.0), ('appreci', 1.0), ('share', 1.0), ('wow', 1.0), ('tom', 1.0), ('3', 1.0), ('gym', 1.0), ('monday', 1.0), ('invit', 1.0), ('scope', 1.0), ('friend', 1.0), ('nude', 1.0), ('sleep', 1.0), ('birthday', 1.0), ('want', 1.0), ('t-shirt', 1.0), ('cool', 1.0), ('haw', 1.0), ('phela', 1.0), ('mom', 1.0), ('obvious', 1.0), ('princ', 1.0), ('charm', 1.0), ('stage', 1.0), ('luck', 1.0), ('tyler', 1.0), ('hipster', 1.0), ('glass', 1.0), ('marti', 1.0), ('glad', 1.0), ('done', 1.0), ('afternoon', 1.0), ('read', 1.0), ('kahfi', 1.0), ('finish', 1.0), ('ohmyg', 1.0), ('yaya', 1.0), ('dub', 1.0), ('stalk', 1.0), ('ig', 1.0), ('gondooo', 1.0), ('moo', 1.0), ('tologooo', 1.0), ('becom', 1.0), ('detail', 1.0), ('zzz', 1.0), ('xx', 1.0), ('physiotherapi', 1.0), ('hashtag', 1.0), ('💪', 1.0), ('monica', 1.0), ('miss', 1.0), ('sound', 1.0), ('morn', 1.0), (\"that'\", 1.0), ('x43', 1.0), ('definit', 1.0), ('tri', 1.0), ('tonight', 1.0), ('took', 1.0), ('advic', 1.0), ('treviso', 1.0), ('concert', 1.0), ('citi', 1.0), ('countri', 1.0), (\"i'll\", 1.0), ('start', 1.0), ('fine', 1.0), ('gorgeou', 1.0), ('xo', 1.0), ('oven', 1.0), ('roast', 1.0), ('garlic', 1.0), ('oliv', 1.0), ('oil', 1.0), ('dri', 1.0), ('tomato', 1.0), ('basil', 1.0), ('centuri', 1.0), ('tuna', 1.0), ('right', 1.0), ('atchya', 1.0), ('even', 1.0), ('almost', 1.0), ('chanc', 1.0), ('cheer', 1.0), ('po', 1.0), ('ice', 1.0), ('cream', 1.0), ('agre', 1.0), ('100', 1.0), ('heheheh', 1.0), ('that', 1.0), ('point', 1.0), ('stay', 1.0), ('home', 1.0), ('soon', 1.0), ('promis', 1.0), ('web', 1.0), ('whatsapp', 1.0), ('volta', 1.0), ('funcionar', 1.0), ('com', 1.0), ('iphon', 1.0), ('jailbroken', 1.0), ('later', 1.0), ('34', 1.0), ('min', 1.0), ('leia', 1.0), ('appear', 1.0), ('hologram', 1.0), ('r2d2', 1.0), ('w', 1.0), ('messag', 1.0), ('obi', 1.0), ('wan', 1.0), ('sit', 1.0), ('luke', 1.0), ('inter', 1.0), ('ucl', 1.0), ('arsen', 1.0), ('small', 1.0), ('team', 1.0), ('pass', 1.0), ('🚂', 1.0), ('dewsburi', 1.0), ('railway', 1.0), ('station', 1.0), ('dew', 1.0), ('west', 1.0), ('yorkshir', 1.0), ('430', 1.0), ('smh', 1.0), ('9:25', 1.0), ('live', 1.0), ('strang', 1.0), ('imagin', 1.0), ('megan', 1.0), ('masaantoday', 1.0), ('a4', 1.0), ('shweta', 1.0), ('tripathi', 1.0), ('5', 1.0), ('20', 1.0), ('kurta', 1.0), ('half', 1.0), ('number', 1.0), ('wsalelov', 1.0), ('ah', 1.0), ('larri', 1.0), ('anyway', 1.0), ('kinda', 1.0), ('goood', 1.0), ('life', 1.0), ('enn', 1.0), ('could', 1.0), ('warmup', 1.0), ('15th', 1.0), ('bath', 1.0), ('dum', 1.0), ('andar', 1.0), ('ram', 1.0), ('sampath', 1.0), ('sona', 1.0), ('mohapatra', 1.0), ('samantha', 1.0), ('edward', 1.0), ('mein', 1.0), ('tulan', 1.0), ('razi', 1.0), ('wah', 1.0), ('josh', 1.0), ('alway', 1.0), ('smile', 1.0), ('pictur', 1.0), ('16.20', 1.0), ('giveitup', 1.0), ('given', 1.0), ('ga', 1.0), ('subsidi', 1.0), ('initi', 1.0), ('propos', 1.0), ('delight', 1.0), ('yesterday', 1.0), ('x42', 1.0), ('lmaoo', 1.0), ('song', 1.0), ('ever', 1.0), ('shall', 1.0), ('littl', 1.0), ('throwback', 1.0), ('outli', 1.0), ('island', 1.0), ('cheung', 1.0), ('chau', 1.0), ('mui', 1.0), ('wo', 1.0), ('total', 1.0), ('differ', 1.0), ('kfckitchentour', 1.0), ('kitchen', 1.0), ('clean', 1.0), (\"i'm\", 1.0), ('cusp', 1.0), ('test', 1.0), ('water', 1.0), ('reward', 1.0), ('arummzz', 1.0), (\"let'\", 1.0), ('drive', 1.0), ('travel', 1.0), ('yogyakarta', 1.0), ('jeep', 1.0), ('indonesia', 1.0), ('instamood', 1.0), ('wanna', 1.0), ('skype', 1.0), ('may', 1.0), ('nice', 1.0), ('friendli', 1.0), ('pretend', 1.0), ('film', 1.0), ('congratul', 1.0), ('winner', 1.0), ('cheesydelight', 1.0), ('contest', 1.0), ('address', 1.0), ('guy', 1.0), ('market', 1.0), ('24/7', 1.0), ('regret', 1.0), ('14', 1.0), ('hour', 1.0), ('leav', 1.0), ('without', 1.0), ('delay', 1.0), ('actual', 1.0), ('easi', 1.0), ('guess', 1.0), ('train', 1.0), ('wd', 1.0), ('shift', 1.0), ('engin', 1.0), ('etc', 1.0), ('sunburn', 1.0), ('peel', 1.0), ('blog', 1.0), ('huge', 1.0), ('warm', 1.0), ('☆', 1.0), ('complet', 1.0), ('triangl', 1.0), ('northern', 1.0), ('ireland', 1.0), ('sight', 1.0), ('smthng', 1.0), ('fr', 1.0), ('hug', 1.0), ('xoxo', 1.0), ('uu', 1.0), ('jaann', 1.0), ('topnewfollow', 1.0), ('connect', 1.0), ('wonder', 1.0), ('made', 1.0), ('fluffi', 1.0), ('insid', 1.0), ('pirouett', 1.0), ('moos', 1.0), ('trip', 1.0), ('philli', 1.0), ('decemb', 1.0), (\"i'd\", 1.0), ('dude', 1.0), ('x41', 1.0), ('question', 1.0), ('flaw', 1.0), ('pain', 1.0), ('negat', 1.0), ('strength', 1.0), ('went', 1.0), ('solo', 1.0), ('move', 1.0), ('fav', 1.0), ('nirvana', 1.0), ('smell', 1.0), ('teen', 1.0), ('spirit', 1.0), ('rip', 1.0), ('ami', 1.0), ('winehous', 1.0), ('coupl', 1.0), ('tomhiddleston', 1.0), ('elizabetholsen', 1.0), ('yaytheylookgreat', 1.0), ('goodnight', 1.0), ('vid', 1.0), ('wake', 1.0), ('gonna', 1.0), ('shoot', 1.0), ('itti', 1.0), ('bitti', 1.0), ('teeni', 1.0), ('bikini', 1.0), ('much', 1.0), ('4th', 1.0), ('togeth', 1.0), ('end', 1.0), ('xfile', 1.0), ('content', 1.0), ('rain', 1.0), ('fabul', 1.0), ('fantast', 1.0), ('♡', 1.0), ('jb', 1.0), ('forev', 1.0), ('belieb', 1.0), ('nighti', 1.0), ('bug', 1.0), ('bite', 1.0), ('bracelet', 1.0), ('idea', 1.0), ('foundri', 1.0), ('game', 1.0), ('sens', 1.0), ('pic', 1.0), ('ef', 1.0), ('phone', 1.0), ('woot', 1.0), ('derek', 1.0), ('use', 1.0), ('parkshar', 1.0), ('gloucestershir', 1.0), ('aaaahhh', 1.0), ('man', 1.0), ('traffic', 1.0), ('stress', 1.0), ('reliev', 1.0), (\"how'r\", 1.0), ('arbeloa', 1.0), ('turn', 1.0), ('17', 1.0), ('omg', 1.0), ('say', 1.0), ('europ', 1.0), ('rise', 1.0), ('find', 1.0), ('hard', 1.0), ('believ', 1.0), ('uncount', 1.0), ('coz', 1.0), ('unlimit', 1.0), ('cours', 1.0), ('teamposit', 1.0), ('aldub', 1.0), ('☕', 1.0), ('rita', 1.0), ('info', 1.0), (\"we'd\", 1.0), ('way', 1.0), ('boy', 1.0), ('x40', 1.0), ('true', 1.0), ('sethi', 1.0), ('high', 1.0), ('exe', 1.0), ('skeem', 1.0), ('saam', 1.0), ('peopl', 1.0), ('polit', 1.0), ('izzat', 1.0), ('wese', 1.0), ('trust', 1.0), ('khawateen', 1.0), ('k', 1.0), ('sath', 1.0), ('mana', 1.0), ('kar', 1.0), ('deya', 1.0), ('sort', 1.0), ('smart', 1.0), ('hair', 1.0), ('tbh', 1.0), ('jacob', 1.0), ('g', 1.0), ('upgrad', 1.0), ('tee', 1.0), ('famili', 1.0), ('person', 1.0), ('two', 1.0), ('convers', 1.0), ('onlin', 1.0), ('mclaren', 1.0), ('fridayfeel', 1.0), ('tgif', 1.0), ('squar', 1.0), ('enix', 1.0), ('bissmillah', 1.0), ('ya', 1.0), ('allah', 1.0), (\"we'r\", 1.0), ('socent', 1.0), ('startup', 1.0), ('drop', 1.0), ('your', 1.0), ('arnd', 1.0), ('town', 1.0), ('basic', 1.0), ('piss', 1.0), ('cup', 1.0), ('also', 1.0), ('terribl', 1.0), ('complic', 1.0), ('discuss', 1.0), ('snapchat', 1.0), ('lynettelow', 1.0), ('kikmenow', 1.0), ('snapm', 1.0), ('hot', 1.0), ('amazon', 1.0), ('kikmeguy', 1.0), ('defin', 1.0), ('grow', 1.0), ('sport', 1.0), ('rt', 1.0), ('rakyat', 1.0), ('write', 1.0), ('sinc', 1.0), ('mention', 1.0), ('fli', 1.0), ('fish', 1.0), ('promot', 1.0), ('post', 1.0), ('cyber', 1.0), ('ourdaughtersourprid', 1.0), ('mypapamyprid', 1.0), ('papa', 1.0), ('coach', 1.0), ('posit', 1.0), ('kha', 1.0), ('atleast', 1.0), ('x39', 1.0), ('mango', 1.0), (\"lassi'\", 1.0), (\"monty'\", 1.0), ('marvel', 1.0), ('though', 1.0), ('suspect', 1.0), ('meant', 1.0), ('24', 1.0), ('hr', 1.0), ('touch', 1.0), ('kepler', 1.0), ('452b', 1.0), ('chalna', 1.0), ('hai', 1.0), ('thankyou', 1.0), ('hazel', 1.0), ('food', 1.0), ('brooklyn', 1.0), ('pta', 1.0), ('awak', 1.0), ('okayi', 1.0), ('awww', 1.0), ('ha', 1.0), ('doc', 1.0), ('splendid', 1.0), ('spam', 1.0), ('folder', 1.0), ('amount', 1.0), ('nigeria', 1.0), ('claim', 1.0), ('rted', 1.0), ('leg', 1.0), ('hurt', 1.0), ('bad', 1.0), ('mine', 1.0), ('saturday', 1.0), ('thaaank', 1.0), ('puhon', 1.0), ('happinesss', 1.0), ('tnc', 1.0), ('prior', 1.0), ('notif', 1.0), ('probabl', 1.0), ('funni', 1.0), ('2:22', 1.0), ('fat', 1.0), ('co', 1.0), ('ate', 1.0), ('yuna', 1.0), ('tamesid', 1.0), ('´', 1.0), ('googl', 1.0), ('account', 1.0), ('scouser', 1.0), ('everyth', 1.0), ('zoe', 1.0), ('mate', 1.0), ('liter', 1.0), (\"they'r\", 1.0), ('samee', 1.0), ('edgar', 1.0), ('updat', 1.0), ('log', 1.0), ('bring', 1.0), ('abe', 1.0), ('meet', 1.0), ('x38', 1.0), ('sigh', 1.0), ('dreamili', 1.0), ('pout', 1.0), ('eye', 1.0), ('quacketyquack', 1.0), ('happen', 1.0), ('phil', 1.0), ('em', 1.0), ('del', 1.0), ('rodder', 1.0), ('els', 1.0), ('play', 1.0), ('newest', 1.0), ('gamejam', 1.0), ('irish', 1.0), ('literatur', 1.0), ('inaccess', 1.0), (\"kareena'\", 1.0), ('fan', 1.0), ('brain', 1.0), ('dot', 1.0), ('braindot', 1.0), ('fair', 1.0), ('rush', 1.0), ('either', 1.0), ('brandi', 1.0), ('18', 1.0), ('carniv', 1.0), ('men', 1.0), ('put', 1.0), ('mask', 1.0), ('xavier', 1.0), ('forneret', 1.0), ('jennif', 1.0), ('site', 1.0), ('free', 1.0), ('50.000', 1.0), ('8', 1.0), ('ball', 1.0), ('pool', 1.0), ('coin', 1.0), ('edit', 1.0), ('trish', 1.0), ('♥', 1.0), ('grate', 1.0), ('three', 1.0), ('comment', 1.0), ('wakeup', 1.0), ('besid', 1.0), ('dirti', 1.0), ('sex', 1.0), ('lmaooo', 1.0), ('😤', 1.0), ('loui', 1.0), (\"he'\", 1.0), ('throw', 1.0), ('caus', 1.0), ('inspir', 1.0), ('ff', 1.0), ('twoof', 1.0), ('gr8', 1.0), ('wkend', 1.0), ('kind', 1.0), ('exhaust', 1.0), ('word', 1.0), ('cheltenham', 1.0), ('area', 1.0), ('kale', 1.0), ('crisp', 1.0), ('ruin', 1.0), ('x37', 1.0), ('open', 1.0), ('worldwid', 1.0), ('outta', 1.0), ('sfvbeta', 1.0), ('vantast', 1.0), ('xcylin', 1.0), ('bundl', 1.0), ('show', 1.0), ('internet', 1.0), ('price', 1.0), ('realisticli', 1.0), ('pay', 1.0), ('net', 1.0), ('educ', 1.0), ('power', 1.0), ('weapon', 1.0), ('nelson', 1.0), ('mandela', 1.0), ('recent', 1.0), ('j', 1.0), ('chenab', 1.0), ('flow', 1.0), ('pakistan', 1.0), ('incredibleindia', 1.0), ('teenchoic', 1.0), ('choiceinternationalartist', 1.0), ('superjunior', 1.0), ('caught', 1.0), ('first', 1.0), ('salmon', 1.0), ('super-blend', 1.0), ('project', 1.0), ('youth@bipolaruk.org.uk', 1.0), ('awesom', 1.0), ('stream', 1.0), ('artist', 1.0), ('alma', 1.0), ('mater', 1.0), ('highschoolday', 1.0), ('clientvisit', 1.0), ('faith', 1.0), ('christian', 1.0), ('school', 1.0), ('lizaminnelli', 1.0), ('upcom', 1.0), ('uk', 1.0), ('😄', 1.0), ('singl', 1.0), ('hill', 1.0), ('everi', 1.0), ('beat', 1.0), ('wrong', 1.0), ('readi', 1.0), ('natur', 1.0), ('pefumeri', 1.0), ('workshop', 1.0), ('neal', 1.0), ('yard', 1.0), ('covent', 1.0), ('tomorrow', 1.0), ('fback', 1.0), ('indo', 1.0), ('harmo', 1.0), ('americano', 1.0), ('rememb', 1.0), ('aww', 1.0), ('head', 1.0), ('saw', 1.0), ('dark', 1.0), ('plz', 1.0), ('handshom', 1.0), ('juga', 1.0), ('hurray', 1.0), ('hate', 1.0), ('cant', 1.0), ('decid', 1.0), ('save', 1.0), ('list', 1.0), ('hiya', 1.0), ('exec', 1.0), ('loryn.good@lincs-chamber.co.uk', 1.0), ('photo', 1.0), ('thx', 1.0), ('china', 1.0), ('homosexu', 1.0), ('hyungbot', 1.0), ('give', 1.0), ('fam', 1.0), ('mind', 1.0), ('timetunnel', 1.0), ('1982', 1.0), ('quit', 1.0), ('radio', 1.0), ('set', 1.0), ('heart', 1.0), ('hiii', 1.0), ('jack', 1.0), ('ili', 1.0), ('✨', 1.0), ('domino', 1.0), ('pub', 1.0), ('heat', 1.0), ('prob', 1.0), ('sorri', 1.0), ('hastili', 1.0), ('type', 1.0), ('came', 1.0), ('pakistani', 1.0), ('x36', 1.0), ('3point', 1.0), ('dreamteam', 1.0), ('gooo', 1.0), ('bailey', 1.0), ('pbb', 1.0), ('737gold', 1.0), ('drank', 1.0), ('old', 1.0), ('gotten', 1.0), ('1/2', 1.0), ('welsh', 1.0), ('wale', 1.0), ('yippe', 1.0), ('💟', 1.0), ('bro', 1.0), ('lord', 1.0), ('michael', 1.0), (\"u'r\", 1.0), ('ure', 1.0), ('bigot', 1.0), ('usual', 1.0), ('front', 1.0), ('squat', 1.0), ('dobar', 1.0), ('dan', 1.0), ('brand', 1.0), ('heavi', 1.0), ('musicolog', 1.0), ('2015', 1.0), ('spend', 1.0), ('marathon', 1.0), ('iflix', 1.0), ('offici', 1.0), ('graduat', 1.0), ('cri', 1.0), ('__', 1.0), ('yep', 1.0), ('expert', 1.0), ('bisexu', 1.0), ('minal', 1.0), ('aidzin', 1.0), ('yo', 1.0), ('pi', 1.0), ('cook', 1.0), ('book', 1.0), ('dinner', 1.0), ('tough', 1.0), ('choic', 1.0), ('other', 1.0), ('chill', 1.0), ('smu', 1.0), ('oval', 1.0), ('basketbal', 1.0), ('player', 1.0), ('whahahaha', 1.0), ('soamaz', 1.0), ('moment', 1.0), ('onto', 1.0), ('a5', 1.0), ('wardrob', 1.0), ('user', 1.0), ('teamr', 1.0), ('appar', 1.0), ('depend', 1.0), ('greatli', 1.0), ('design', 1.0), ('ahhh', 1.0), ('7th', 1.0), ('cinepambata', 1.0), ('mechan', 1.0), ('form', 1.0), ('download', 1.0), ('sali', 1.0), ('na', 1.0), ('ur', 1.0), ('swisher', 1.0), ('cop', 1.0), ('ducktail', 1.0), ('surreal', 1.0), ('exposur', 1.0), ('sotw', 1.0), ('jingli', 1.0), ('jangli', 1.0), ('loveli', 1.0), ('halesowen', 1.0), ('blackcountryfair', 1.0), ('street', 1.0), ('assess', 1.0), ('mental', 1.0), ('bodi', 1.0), ('ooz', 1.0), ('appeal', 1.0), ('amassiveoverdoseofship', 1.0), ('latest', 1.0), ('isi', 1.0), ('chan', 1.0), ('c', 1.0), ('note', 1.0), ('pkwalasawa', 1.0), ('gemma', 1.0), ('orlean', 1.0), ('fever', 1.0), ('geskenya', 1.0), ('obamainkenya', 1.0), ('magicalkenya', 1.0), ('greatkenya', 1.0), ('allgoodthingsk', 1.0), ('anim', 1.0), ('umaru', 1.0), ('singer', 1.0), ('ship', 1.0), ('order', 1.0), ('room', 1.0), ('car', 1.0), ('gone', 1.0), ('hahaha', 1.0), ('stori', 1.0), ('relat', 1.0), ('label', 1.0), ('worst', 1.0), ('batch', 1.0), ('princip', 1.0), ('due', 1.0), ('march', 1.0), ('wooftast', 1.0), ('receiv', 1.0), ('necessari', 1.0), ('rn', 1.0), ('whatev', 1.0), ('hat', 1.0), ('success', 1.0), ('abstin', 1.0), ('wtf', 1.0), (\"there'\", 1.0), ('thrown', 1.0), ('middl', 1.0), ('repeat', 1.0), ('relentlessli', 1.0), ('approxim', 1.0), ('oldschool', 1.0), ('runescap', 1.0), ('daaay', 1.0), ('jumma_mubarik', 1.0), ('frnd', 1.0), ('stay_bless', 1.0), ('bless', 1.0), ('pussycat', 1.0), ('main', 1.0), ('launch', 1.0), ('pretoria', 1.0), ('fahrinahmad', 1.0), ('tengkuaaronshah', 1.0), ('eksperimencinta', 1.0), ('tykkäsin', 1.0), ('videosta', 1.0), ('200sub', 1.0), ('special', 1.0), ('15e', 1.0), ('paysafecard', 1.0), ('giveaway', 1.0), ('lue', 1.0), ('desc', 1.0), ('month', 1.0), ('hoodi', 1.0), ('eeep', 1.0), ('yay', 1.0), ('sohappyrightnow', 1.0), ('mmm', 1.0), ('azz-set', 1.0), ('babe', 1.0), ('feedback', 1.0), ('gain', 1.0), ('valu', 1.0), ('peac', 1.0), ('refresh', 1.0), ('manthan', 1.0), ('tune', 1.0), ('fresh', 1.0), ('mother', 1.0), ('determin', 1.0), ('maxfreshmov', 1.0), ('loneliest', 1.0), ('tattoo', 1.0), ('friday.and', 1.0), ('magnific', 1.0), ('e', 1.0), ('achiev', 1.0), ('rashmi', 1.0), ('dedic', 1.0), ('happyfriday', 1.0), ('nearli', 1.0), ('retweet', 1.0), ('alert', 1.0), ('da', 1.0), ('dang', 1.0), ('rad', 1.0), ('fanart', 1.0), ('massiv', 1.0), ('niamh', 1.0), ('fennel', 1.0), ('journal', 1.0), ('land', 1.0), ('copi', 1.0), ('past', 1.0), ('tweet', 1.0), ('yesss', 1.0), ('ariana', 1.0), ('selena', 1.0), ('gomez', 1.0), ('tomlinson', 1.0), ('payn', 1.0), ('caradelevingn', 1.0), ('🌷', 1.0), ('trade', 1.0), ('tire', 1.0), ('nope', 1.0), ('appli', 1.0), ('iamca', 1.0), ('found', 1.0), ('afti', 1.0), ('goodmorn', 1.0), ('prokabaddi', 1.0), ('koel', 1.0), ('mallick', 1.0), ('recit', 1.0), ('nation', 1.0), ('anthem', 1.0), ('6', 1.0), ('yournaturallead', 1.0), ('youngnaturallead', 1.0), ('mon', 1.0), ('27juli', 1.0), ('cumbria', 1.0), ('flockstar', 1.0), ('thur', 1.0), ('30juli', 1.0), ('itv', 1.0), ('sleeptight', 1.0), ('haveagoodday', 1.0), ('septemb', 1.0), ('perhap', 1.0), ('bb', 1.0), ('full', 1.0), ('album', 1.0), ('fulli', 1.0), ('intend', 1.0), ('possibl', 1.0), ('attack', 1.0), ('>:d', 1.0), ('bird', 1.0), ('teamadmicro', 1.0), ('fridaydownpour', 1.0), ('clear', 1.0), ('rohit', 1.0), ('queen', 1.0), ('otwolgrandtrail', 1.0), ('sheer', 1.0), ('fact', 1.0), ('obama', 1.0), ('innumer', 1.0), ('presid', 1.0), ('ni', 1.0), ('shauri', 1.0), ('yako', 1.0), ('memotohat', 1.0), ('sunday', 1.0), ('pamper', 1.0), (\"t'wa\", 1.0), ('cabincrew', 1.0), ('interview', 1.0), ('langkawi', 1.0), ('1st', 1.0), ('august', 1.0), ('fulfil', 1.0), ('fantasi', 1.0), ('👉', 1.0), ('👈', 1.0), ('💖', 1.0), ('ex-tweleb', 1.0), ('apart', 1.0), ('makeov', 1.0), ('factori', 1.0), ('brilliantli', 1.0), ('happyyi', 1.0), ('birthdaaayyy', 1.0), ('kill', 1.0), ('interest', 1.0), ('internship', 1.0), ('program', 1.0), ('sadli', 1.0), ('career', 1.0), ('page', 1.0), ('issu', 1.0), ('sad', 1.0), ('overwhelmingli', 1.0), ('aha', 1.0), ('beaut', 1.0), ('♬', 1.0), ('win', 1.0), ('deo', 1.0), ('faaabul', 1.0), ('freebiefriday', 1.0), ('aluminiumfre', 1.0), ('stayfresh', 1.0), ('john', 1.0), ('worri', 1.0), ('navig', 1.0), ('thnk', 1.0), ('progrmr', 1.0), ('9pm', 1.0), ('9am', 1.0), ('hardli', 1.0), ('rose', 1.0), ('emot', 1.0), ('poetri', 1.0), ('frequentfly', 1.0), ('break', 1.0), ('apolog', 1.0), ('kb', 1.0), ('londondairi', 1.0), ('icecream', 1.0), ('experi', 1.0), ('cover', 1.0), ('sin', 1.0), ('excit', 1.0), (\":')\", 1.0), ('xxx', 1.0), ('jim', 1.0), ('chuckl', 1.0), ('cake', 1.0), ('doh', 1.0), ('500', 1.0), ('subscrib', 1.0), ('reach', 1.0), ('scorch', 1.0), ('summer', 1.0), ('younger', 1.0), ('woman', 1.0), ('stamina', 1.0), ('expect', 1.0), ('anyth', 1.0), ('less', 1.0), ('tweeti', 1.0), ('fab', 1.0), ('dont', 1.0), ('-->', 1.0), ('10', 1.0), ('loner', 1.0), ('introduc', 1.0), ('vs', 1.0), ('alter', 1.0), ('understand', 1.0), ('spread', 1.0), ('problem', 1.0), ('supa', 1.0), ('dupa', 1.0), ('near', 1.0), ('dartmoor', 1.0), ('gold', 1.0), ('colour', 1.0), ('ok', 1.0), ('someday', 1.0), ('r', 1.0), ('dii', 1.0), ('n', 1.0), ('forget', 1.0), ('si', 1.0), ('smf', 1.0), ('ft', 1.0), ('japanes', 1.0), ('import', 1.0), ('kitti', 1.0), ('match', 1.0), ('stationari', 1.0), ('draw', 1.0), ('close', 1.0), ('broken', 1.0), ('specialis', 1.0), ('thermal', 1.0), ('imag', 1.0), ('survey', 1.0), ('–', 1.0), ('south', 1.0), ('korea', 1.0), ('scamper', 1.0), ('slept', 1.0), ('alarm', 1.0), (\"ain't\", 1.0), ('mad', 1.0), ('chweina', 1.0), ('xd', 1.0), ('jotzh', 1.0), ('wast', 1.0), ('place', 1.0), ('worth', 1.0), ('coat', 1.0), ('beforehand', 1.0), ('tho', 1.0), ('foh', 1.0), ('outsid', 1.0), ('holiday', 1.0), ('menac', 1.0), ('jojo', 1.0), ('ta', 1.0), ('accept', 1.0), ('admin', 1.0), ('lukri', 1.0), ('😘', 1.0), ('momma', 1.0), ('bear', 1.0), ('❤', 1.0), ('️', 1.0), ('redid', 1.0), ('8th', 1.0), ('v.ball', 1.0), ('atm', 1.0), ('build', 1.0), ('pack', 1.0), ('suitcas', 1.0), ('hang-copi', 1.0), ('translat', 1.0), (\"dostoevsky'\", 1.0), ('voucher', 1.0), ('bugatti', 1.0), ('bra', 1.0), ('مطعم_هاشم', 1.0), ('yummi', 1.0), ('a7la', 1.0), ('bdayt', 1.0), ('mnwreeen', 1.0), ('jazz', 1.0), ('truck', 1.0), ('x34', 1.0), ('speak', 1.0), ('pbevent', 1.0), ('hq', 1.0), ('add', 1.0), ('yoona', 1.0), ('hairpin', 1.0), ('otp', 1.0), ('collect', 1.0), ('mastership', 1.0), ('honey', 1.0), ('paindo', 1.0), ('await', 1.0), ('report', 1.0), ('manni', 1.0), ('asshol', 1.0), ('brijresid', 1.0), ('structur', 1.0), ('156', 1.0), ('unit', 1.0), ('encompass', 1.0), ('bhk', 1.0), ('flat', 1.0), ('91', 1.0), ('975-580-', 1.0), ('444', 1.0), ('honor', 1.0), ('curri', 1.0), ('clash', 1.0), ('milano', 1.0), ('👌', 1.0), ('followback', 1.0), (':-d', 1.0), ('legit', 1.0), ('loser', 1.0), ('gass', 1.0), ('dead', 1.0), ('starsquad', 1.0), ('⭐', 1.0), ('news', 1.0), ('utc', 1.0), ('flume', 1.0), ('kaytranada', 1.0), ('alunageorg', 1.0), ('ticket', 1.0), ('km', 1.0), ('certainti', 1.0), ('solv', 1.0), ('faster', 1.0), ('👊', 1.0), ('hurri', 1.0), ('totem', 1.0), ('somewher', 1.0), ('alic', 1.0), ('click', 1.0), ('checkout', 1.0), ('dog', 1.0), ('cat', 1.0), ('goodwynsgoodi', 1.0), ('ugh', 1.0), ('fade', 1.0), ('moan', 1.0), ('leed', 1.0), ('jozi', 1.0), ('wasnt', 1.0), ('fifth', 1.0), ('avail', 1.0), ('tix', 1.0), ('pa', 1.0), ('ba', 1.0), ('ng', 1.0), ('atl', 1.0), ('coldplay', 1.0), ('favorit', 1.0), ('scientist', 1.0), ('yellow', 1.0), ('atla', 1.0), ('yein', 1.0), ('selo', 1.0), ('jabongatpumaurbanstamped', 1.0), ('an', 1.0), ('7', 1.0), ('waiter', 1.0), ('bill', 1.0), ('sir', 1.0), ('titl', 1.0), ('pocket', 1.0), ('wrip', 1.0), ('jean', 1.0), ('conni', 1.0), ('crew', 1.0), ('staff', 1.0), ('sweetan', 1.0), ('ask', 1.0), ('mum', 1.0), ('beg', 1.0), ('soprano', 1.0), ('ukrain', 1.0), ('x33', 1.0), ('olli', 1.0), ('disney.art', 1.0), ('elmoprinssi', 1.0), ('salsa', 1.0), ('danc', 1.0), ('tell', 1.0), ('truth', 1.0), ('pl', 1.0), ('4-6', 1.0), ('2nd', 1.0), ('blogiversari', 1.0), ('review', 1.0), ('cuti', 1.0), ('bohol', 1.0), ('briliant', 1.0), ('v', 1.0), ('key', 1.0), ('annual', 1.0), ('far', 1.0), ('spin', 1.0), ('voic', 1.0), ('\\U000fe334', 1.0), ('yeheyi', 1.0), ('pinya', 1.0), ('whoooah', 1.0), ('tranc', 1.0), ('lover', 1.0), ('subject', 1.0), ('physic', 1.0), ('stop', 1.0), ('ब', 1.0), ('matter', 1.0), ('jungl', 1.0), ('accommod', 1.0), ('secret', 1.0), ('behind', 1.0), ('sandroforceo', 1.0), ('ceo', 1.0), ('1month', 1.0), ('swag', 1.0), ('mia', 1.0), ('workinprogress', 1.0), ('choos', 1.0), ('finnigan', 1.0), ('loyal', 1.0), ('royal', 1.0), ('fotoset', 1.0), ('reus', 1.0), ('seem', 1.0), ('somebodi', 1.0), ('sell', 1.0), ('young', 1.0), ('muntu', 1.0), ('anoth', 1.0), ('gem', 1.0), ('falco', 1.0), ('supersmash', 1.0), ('hotnsexi', 1.0), ('friskyfriday', 1.0), ('beach', 1.0), ('movi', 1.0), ('crop', 1.0), ('nash', 1.0), ('tissu', 1.0), ('chocol', 1.0), ('tea', 1.0), ('hannib', 1.0), ('episod', 1.0), ('hotb', 1.0), ('bush', 1.0), ('classicassur', 1.0), ('thrill', 1.0), ('intern', 1.0), ('assign', 1.0), ('aerial', 1.0), ('camera', 1.0), ('oper', 1.0), ('boom', 1.0), ('hong', 1.0), ('kong', 1.0), ('ferri', 1.0), ('central', 1.0), ('girlfriend', 1.0), ('after-work', 1.0), ('drink', 1.0), ('dj', 1.0), ('resto', 1.0), ('drinkt', 1.0), ('koffi', 1.0), ('a6', 1.0), ('stargat', 1.0), ('atlanti', 1.0), ('muaahhh', 1.0), ('ohh', 1.0), ('hii', 1.0), ('🙈', 1.0), ('di', 1.0), ('nagsend', 1.0), ('yung', 1.0), ('ko', 1.0), ('ulit', 1.0), ('🎉', 1.0), ('🎈', 1.0), ('ugli', 1.0), ('legget', 1.0), ('qui', 1.0), ('per', 1.0), ('la', 1.0), ('mar', 1.0), ('encourag', 1.0), ('employ', 1.0), ('board', 1.0), ('stuck', 1.0), ('poster', 1.0), ('sticker', 1.0), ('sponsor', 1.0), ('prize', 1.0), ('tablet', 1.0), ('(:', 1.0), ('milo', 1.0), ('aurini', 1.0), ('juicebro', 1.0), ('pillar', 1.0), ('respect', 1.0), ('boii', 1.0), ('smashingbook', 1.0), ('bibl', 1.0), ('ill', 1.0), ('sick', 1.0), ('lamo', 1.0), ('fangirl', 1.0), ('platon', 1.0), ('scienc', 1.0), ('resid', 1.0), ('servicewithasmil', 1.0), ('bloodlin', 1.0), ('huski', 1.0), ('obituari', 1.0), ('advert', 1.0), ('goofingaround', 1.0), ('bollywood', 1.0), ('dah', 1.0), ('noth', 1.0), ('bitter', 1.0), ('anger', 1.0), ('hatr', 1.0), ('toward', 1.0), ('pure', 1.0), ('indiffer', 1.0), ('suit', 1.0), ('zach', 1.0), ('codi', 1.0), ('deliv', 1.0), ('ac', 1.0), ('excel', 1.0), ('produc', 1.0), ('boggl', 1.0), ('fatigu', 1.0), ('baareeq', 1.0), ('gamedev', 1.0), ('hobbi', 1.0), ('tweenie_fox', 1.0), ('accessori', 1.0), ('tamang', 1.0), ('hinala', 1.0), ('niam', 1.0), ('selfiee', 1.0), ('especi', 1.0), ('lass', 1.0), ('ale', 1.0), ('swim', 1.0), ('bout', 1.0), ('goodby', 1.0), ('feminist', 1.0), ('fought', 1.0), ('snobbi', 1.0), ('bitch', 1.0), ('carolin', 1.0), ('mighti', 1.0), ('🔥', 1.0), ('threw', 1.0), ('hbd', 1.0), ('follback', 1.0), ('jog', 1.0), ('remot', 1.0), ('newli', 1.0), ('ebay', 1.0), ('store', 1.0), ('disneyinfin', 1.0), ('starwar', 1.0), ('charact', 1.0), ('preorder', 1.0), ('starter', 1.0), ('hit', 1.0), ('snap', 1.0), ('homi', 1.0), ('bought', 1.0), ('skin', 1.0), ('bday', 1.0), ('chant', 1.0), ('jai', 1.0), ('itali', 1.0), ('fast', 1.0), ('heeeyyy', 1.0), ('woah', 1.0), ('★', 1.0), ('phew', 1.0), ('overwhelm', 1.0), ('😊', 1.0), ('whenev', 1.0), ('ang', 1.0), ('kiss', 1.0), ('philippin', 1.0), ('packag', 1.0), ('bruis', 1.0), ('rib', 1.0), ('😀', 1.0), ('😁', 1.0), ('😂', 1.0), ('😃', 1.0), ('😅', 1.0), ('😉', 1.0), ('tombraid', 1.0), ('hype', 1.0), ('thejuiceinthemix', 1.0), ('rela', 1.0), ('low', 1.0), ('prioriti', 1.0), ('harri', 1.0), ('bc', 1.0), ('collaps', 1.0), ('chaotic', 1.0), ('cosa', 1.0), ('<---', 1.0), ('alliter', 1.0), ('oppayaa', 1.0), (\"how'\", 1.0), ('natgeo', 1.0), ('lick', 1.0), ('elbow', 1.0), ('. .', 1.0), ('“', 1.0), ('emu', 1.0), ('stoke', 1.0), ('woke', 1.0), (\"people'\", 1.0), ('approv', 1.0), (\"god'\", 1.0), ('jisung', 1.0), ('sunshin', 1.0), ('mm', 1.0), ('nicola', 1.0), ('brighten', 1.0), ('helen', 1.0), ('brian', 1.0), ('2-3', 1.0), ('australia', 1.0), ('ol', 1.0), ('bone', 1.0), ('creak', 1.0), ('abuti', 1.0), ('tweetland', 1.0), ('android', 1.0), ('xma', 1.0), ('skyblock', 1.0), ('bcaus', 1.0), ('2009', 1.0), ('die', 1.0), ('sympathi', 1.0), ('laugh', 1.0), ('unniee', 1.0), ('nuka', 1.0), ('penacova', 1.0), ('djset', 1.0), ('edm', 1.0), ('kizomba', 1.0), ('latinhous', 1.0), ('housemus', 1.0), ('portug', 1.0), ('wild', 1.0), ('ride', 1.0), ('anytim', 1.0), ('tast', 1.0), ('yer', 1.0), ('mtn', 1.0), ('maganda', 1.0), ('mistress', 1.0), ('saphir', 1.0), ('busi', 1.0), ('4000', 1.0), ('instagram', 1.0), ('among', 1.0), ('coconut', 1.0), ('sambal', 1.0), ('mussel', 1.0), ('recip', 1.0), ('kalin', 1.0), ('mixcloud', 1.0), ('sarcasm', 1.0), ('chelsea', 1.0), ('he', 1.0), ('useless', 1.0), ('thursday', 1.0), ('hang', 1.0), ('hehe', 1.0), ('said', 1.0), ('benson', 1.0), ('facebook', 1.0), ('solid', 1.0), ('16/17', 1.0), ('30', 1.0), ('°', 1.0), ('😜', 1.0), ('maryhick', 1.0), ('kikmeboy', 1.0), ('photooftheday', 1.0), ('musicbiz', 1.0), ('sheskindahot', 1.0), ('fleekil', 1.0), ('mbalula', 1.0), ('africa', 1.0), ('mexican', 1.0), ('scar', 1.0), ('offic', 1.0), ('donut', 1.0), ('foiegra', 1.0), ('despit', 1.0), ('weather', 1.0), ('wed', 1.0), ('toni', 1.0), ('stark', 1.0), ('incred', 1.0), ('poem', 1.0), ('bubbl', 1.0), ('dale', 1.0), ('billion', 1.0), ('magic', 1.0), ('op', 1.0), ('cast', 1.0), ('vote', 1.0), ('elect', 1.0), ('jcreport', 1.0), ('piggin', 1.0), ('botan', 1.0), ('soap', 1.0), ('late', 1.0), ('upload', 1.0), ('freshli', 1.0), ('3week', 1.0), ('heal', 1.0), ('tobi-bro', 1.0), ('isp', 1.0), ('steel', 1.0), ('wednesday', 1.0), ('swear', 1.0), ('met', 1.0), ('earlier', 1.0), ('cam', 1.0), ('😭', 1.0), ('except', 1.0), (\"masha'allah\", 1.0), ('french', 1.0), ('wwat', 1.0), ('franc', 1.0), ('yaaay', 1.0), ('beirut', 1.0), ('coffe', 1.0), ('panda', 1.0), ('eonni', 1.0), ('favourit', 1.0), ('soda', 1.0), ('fuller', 1.0), ('shit', 1.0), ('healthi', 1.0), ('💓', 1.0), ('rettweet', 1.0), ('mvg', 1.0), ('valuabl', 1.0), ('madrid', 1.0), ('sore', 1.0), ('bergerac', 1.0), ('u21', 1.0), ('individu', 1.0), ('adam', 1.0), (\"beach'\", 1.0), ('suicid', 1.0), ('squad', 1.0), ('fond', 1.0), ('christoph', 1.0), ('cocki', 1.0), ('prove', 1.0), (\"attitude'\", 1.0), ('improv', 1.0), ('suggest', 1.0), ('date', 1.0), ('inde', 1.0), ('intellig', 1.0), ('strong', 1.0), ('cs', 1.0), ('certain', 1.0), ('exam', 1.0), ('forgot', 1.0), ('home-bas', 1.0), ('knee', 1.0), ('sale', 1.0), ('fleur', 1.0), ('dress', 1.0), ('readystock_hijabmart', 1.0), ('idr', 1.0), ('325.000', 1.0), ('200.000', 1.0), ('tompolo', 1.0), ('aim', 1.0), ('cannot', 1.0), ('buyer', 1.0), ('disappoint', 1.0), ('paper', 1.0), ('slack', 1.0), ('crack', 1.0), ('particularli', 1.0), ('strike', 1.0), ('31', 1.0), ('mam', 1.0), ('feytyaz', 1.0), ('instant', 1.0), ('stiffen', 1.0), ('ricky_feb', 1.0), ('grindea', 1.0), ('courier', 1.0), ('crypt', 1.0), ('arma', 1.0), ('record', 1.0), ('gosh', 1.0), ('limbo', 1.0), ('orchard', 1.0), ('art', 1.0), ('super', 1.0), ('karachi', 1.0), ('ka', 1.0), ('venic', 1.0), ('sever', 1.0), ('part', 1.0), ('wit', 1.0), ('accumul', 1.0), ('maroon', 1.0), ('cocktail', 1.0), ('mididress', 1.0), ('0-100', 1.0), ('quick', 1.0), ('1100d', 1.0), ('auto-focu', 1.0), ('manual', 1.0), ('vein', 1.0), ('crackl', 1.0), ('glaze', 1.0), ('layout', 1.0), ('bomb', 1.0), ('social', 1.0), ('websit', 1.0), ('pake', 1.0), ('joim', 1.0), ('feed', 1.0), ('troop', 1.0), ('mail', 1.0), ('ladolcevitainluxembourg@hotmail.com', 1.0), ('prrequest', 1.0), ('journorequest', 1.0), ('the_madstork', 1.0), ('shaun', 1.0), ('bot', 1.0), ('chloe', 1.0), ('actress', 1.0), ('away', 1.0), ('wick', 1.0), ('hola', 1.0), ('juan', 1.0), ('houston', 1.0), ('tx', 1.0), ('jenni', 1.0), (\"year'\", 1.0), ('stumbl', 1.0), ('upon', 1.0), ('prob.nic', 1.0), ('choker', 1.0), ('btw', 1.0), ('seouljin', 1.0), ('photoset', 1.0), ('sadomasochistsparadis', 1.0), ('wynter', 1.0), ('bottom', 1.0), ('outtak', 1.0), ('sadomasochist', 1.0), ('paradis', 1.0), ('ty', 1.0), ('bbi', 1.0), ('clip', 1.0), ('lose', 1.0), ('cypher', 1.0), ('amen', 1.0), ('x32', 1.0), ('plant', 1.0), ('allow', 1.0), ('corner', 1.0), ('addict', 1.0), ('gurl', 1.0), ('suck', 1.0), ('owe', 1.0), ('daniel', 1.0), ('ape', 1.0), ('saar', 1.0), ('ahead', 1.0), ('vers', 1.0), ('butterfli', 1.0), ('bonu', 1.0), ('fill', 1.0), ('tear', 1.0), ('laughter', 1.0), ('5so', 1.0), ('yummmyyi', 1.0), ('eat', 1.0), ('dosa', 1.0), ('easier', 1.0), ('unless', 1.0), ('achi', 1.0), ('youuu', 1.0), ('bawi', 1.0), ('ako', 1.0), ('queenesth', 1.0), ('sharp', 1.0), ('yess', 1.0), ('poldi', 1.0), ('cimbom', 1.0), ('buddi', 1.0), ('bruhhh', 1.0), ('daddi', 1.0), ('”', 1.0), ('knowledg', 1.0), ('attent', 1.0), ('1tb', 1.0), ('bank', 1.0), ('credit', 1.0), ('depart', 1.0), ('anz', 1.0), ('extrem', 1.0), ('offshor', 1.0), ('absolut', 1.0), ('classic', 1.0), ('gottolovebank', 1.0), ('yup', 1.0), ('in-shaa-allah', 1.0), ('dua', 1.0), ('thru', 1.0), ('aameen', 1.0), ('4/5', 1.0), ('coca', 1.0), ('cola', 1.0), ('fanta', 1.0), ('pepsi', 1.0), ('sprite', 1.0), ('all', 1.0), ('sweeeti', 1.0), (';-)', 1.0), ('welcometweet', 1.0), ('psygustokita', 1.0), ('setup', 1.0), ('wet', 1.0), ('feet', 1.0), ('carpet', 1.0), ('judgment', 1.0), ('hypocrit', 1.0), ('narcissist', 1.0), ('jumpsuit', 1.0), ('bt', 1.0), ('denim', 1.0), ('verg', 1.0), ('owl', 1.0), ('constant', 1.0), ('run', 1.0), ('sia', 1.0), ('count', 1.0), ('brilliant', 1.0), ('teacher', 1.0), ('compar', 1.0), ('religion', 1.0), ('rant', 1.0), ('student', 1.0), ('bencher', 1.0), ('1/5', 1.0), ('porsch', 1.0), ('paddock', 1.0), ('budapestgp', 1.0), ('johnyherbert', 1.0), ('roll', 1.0), ('porschesupercup', 1.0), ('koyal', 1.0), ('melodi', 1.0), ('unexpect', 1.0), ('creat', 1.0), ('memori', 1.0), ('35', 1.0), ('ep', 1.0), ('catch', 1.0), ('wirh', 1.0), ('arc', 1.0), ('x31', 1.0), ('wolv', 1.0), ('desir', 1.0), ('ameen', 1.0), ('kca', 1.0), ('votejkt', 1.0), ('48id', 1.0), ('helpinggroupdm', 1.0), ('quot', 1.0), ('weird', 1.0), ('dp', 1.0), ('wife', 1.0), ('poor', 1.0), ('chick', 1.0), ('guid', 1.0), ('zonzofox', 1.0), ('bhaiya', 1.0), ('brother', 1.0), ('lucki', 1.0), ('patti', 1.0), ('elabor', 1.0), ('kuch', 1.0), ('rate', 1.0), ('merdeka', 1.0), ('palac', 1.0), ('hotel', 1.0), ('plusmil', 1.0), ('servic', 1.0), ('hahahaa', 1.0), ('mean', 1.0), ('nex', 1.0), ('safe', 1.0), ('gwd', 1.0), ('she', 1.0), ('okok', 1.0), ('33', 1.0), ('idiot', 1.0), ('chaerin', 1.0), ('unni', 1.0), ('viabl', 1.0), ('altern', 1.0), ('nowaday', 1.0), ('ip', 1.0), ('tombow', 1.0), ('abt', 1.0), ('friyay', 1.0), ('smug', 1.0), ('marrickvil', 1.0), ('public', 1.0), ('ten', 1.0), ('ago', 1.0), ('eighteen', 1.0), ('auvssscr', 1.0), ('ncaaseason', 1.0), ('slow', 1.0), ('popsicl', 1.0), ('soft', 1.0), ('melt', 1.0), ('mouth', 1.0), ('thankyouuu', 1.0), ('dianna', 1.0), ('ngga', 1.0), ('usah', 1.0), ('dipikirin', 1.0), ('elah', 1.0), ('easili', 1.0), (\"who'\", 1.0), ('entp', 1.0), ('killin', 1.0), ('meme', 1.0), ('worthi', 1.0), ('shot', 1.0), ('emon', 1.0), ('decent', 1.0), ('outdoor', 1.0), ('rave', 1.0), ('dv', 1.0), ('aku', 1.0), ('bakal', 1.0), ('liat', 1.0), ('kak', 1.0), ('merri', 1.0), ('tv', 1.0), ('outfit', 1.0), ('--->', 1.0), ('fashionfriday', 1.0), ('angle.nelson', 1.0), ('cheap', 1.0), ('mymonsoonstori', 1.0), ('tree', 1.0), ('lotion', 1.0), ('moistur', 1.0), ('monsoon', 1.0), ('whoop', 1.0), ('romant', 1.0), ('valencia', 1.0), ('daaru', 1.0), ('parti', 1.0), ('chaddi', 1.0), ('wonderful.great', 1.0), ('trim', 1.0), ('pube', 1.0), ('es', 1.0), ('mi', 1.0), ('tio', 1.0), ('sinaloa', 1.0), ('arr', 1.0), ('stylish', 1.0), ('trendi', 1.0), ('kim', 1.0), ('fabfriday', 1.0), ('facetim', 1.0), ('calum', 1.0), ('constantli', 1.0), ('announc', 1.0), ('filbarbarian', 1.0), ('beer', 1.0), ('arm', 1.0), ('testicl', 1.0), ('light', 1.0), ('katerina', 1.0), ('maniataki', 1.0), ('ahh', 1.0), ('alright', 1.0), ('worthwhil', 1.0), ('judg', 1.0), ('tech', 1.0), ('window', 1.0), ('stupid', 1.0), ('plugin', 1.0), ('bass', 1.0), ('slap', 1.0), ('6pm', 1.0), ('door', 1.0), ('vip', 1.0), ('gener', 1.0), ('seat', 1.0), ('earli', 1.0), ('london', 1.0), ('toptravelcentar', 1.0), ('ttctop', 1.0), ('lux', 1.0), ('luxurytravel', 1.0), ('beograd', 1.0), ('srbija', 1.0), ('putovanja', 1.0), ('wendi', 1.0), ('provid', 1.0), ('drainag', 1.0), ('homebound', 1.0), ('hahahay', 1.0), ('yeeeah', 1.0), ('moar', 1.0), ('kitteh', 1.0), ('incom', 1.0), ('tower', 1.0), ('yippee', 1.0), ('scrummi', 1.0), ('bio', 1.0), ('mcpe', 1.0), ('->', 1.0), ('vainglori', 1.0), ('driver', 1.0), ('6:01', 1.0), ('lilydal', 1.0), ('fss', 1.0), ('rais', 1.0), ('magicalmysterytour', 1.0), ('chek', 1.0), ('rule', 1.0), ('weebli', 1.0), ('donetsk', 1.0), ('earth', 1.0), ('personalis', 1.0), ('wrap', 1.0), ('stationeri', 1.0), ('adrian', 1.0), ('parcel', 1.0), ('tuesday', 1.0), ('pri', 1.0), ('80', 1.0), ('wz', 1.0), ('pattern', 1.0), ('cut', 1.0), ('buttonhol', 1.0), ('4mi', 1.0), ('famou', 1.0), ('client', 1.0), ('p', 1.0), ('aliv', 1.0), ('trial', 1.0), ('spm', 1.0), ('dinooo', 1.0), ('cardio', 1.0), ('steak', 1.0), ('cue', 1.0), ('laptop', 1.0), ('guinea', 1.0), ('pig', 1.0), ('salamat', 1.0), ('sa', 1.0), ('mga', 1.0), ('nag.greet', 1.0), ('guis', 1.0), ('godbless', 1.0), ('crush', 1.0), ('appl', 1.0), ('deserv', 1.0), ('charl', 1.0), ('workhard', 1.0), ('model', 1.0), ('forrit', 1.0), ('bread', 1.0), ('bacon', 1.0), ('butter', 1.0), ('afang', 1.0), ('soup', 1.0), ('semo', 1.0), ('brb', 1.0), ('forc', 1.0), ('lblogger', 1.0), ('pblogger', 1.0), ('bookreview', 1.0), ('toddlerlif', 1.0), ('doesnt', 1.0), ('tato', 1.0), ('bulat', 1.0), ('concern', 1.0), ('snake', 1.0), ('perform', 1.0), ('con', 1.0), ('todayyy', 1.0), ('max', 1.0), ('gaza', 1.0), ('bbb', 1.0), ('pc', 1.0), ('22', 1.0), ('legal', 1.0), ('ditch', 1.0), ('tori', 1.0), ('bajrangibhaijaanhighestweek', 1.0), (\"s'okay\", 1.0), ('andi', 1.0), ('you-and', 1.0), ('return', 1.0), ('tuitutil', 1.0), ('bud', 1.0), ('learn', 1.0), ('takeaway', 1.0), ('instead', 1.0), ('1hr', 1.0), ('genial', 1.0), ('competit', 1.0), ('yosh', 1.0), ('procrastin', 1.0), ('plu', 1.0), ('kfc', 1.0), ('itun', 1.0), ('dedicatedfan', 1.0), ('💜', 1.0), ('daft', 1.0), ('teeth', 1.0), ('troubl', 1.0), ('huxley', 1.0), ('basket', 1.0), ('ben', 1.0), ('sent', 1.0), ('gamer', 1.0), ('activ', 1.0), ('120', 1.0), ('distanc', 1.0), ('suitabl', 1.0), ('stockholm', 1.0), ('zack', 1.0), ('destroy', 1.0), ('heel', 1.0), ('claw', 1.0), ('q', 1.0), ('blond', 1.0), ('box', 1.0), ('cheerio', 1.0), ('seed', 1.0), ('cutest', 1.0), ('ffback', 1.0), ('spotifi', 1.0), (\"we'v\", 1.0), ('vc', 1.0), ('tgp', 1.0), ('race', 1.0), ('averag', 1.0), (\"joe'\", 1.0), ('bluejay', 1.0), ('vinylbear', 1.0), ('pal', 1.0), ('furbabi', 1.0), ('luff', 1.0), ('mega', 1.0), ('retail', 1.0), ('boot', 1.0), ('whsmith', 1.0), ('ps3', 1.0), ('shannon', 1.0), ('redecor', 1.0), ('bob', 1.0), ('elli', 1.0), ('mairi', 1.0), ('workout', 1.0), ('impair', 1.0), ('uggghhh', 1.0), ('dam', 1.0), ('dun', 1.0), ('eczema', 1.0), ('suffer', 1.0), ('ndee', 1.0), ('pleasur', 1.0), ('publiliu', 1.0), ('syru', 1.0), ('fear', 1.0), ('death', 1.0), ('dread', 1.0), ('fell', 1.0), ('fuk', 1.0), ('unblock', 1.0), ('tweak', 1.0), ('php', 1.0), ('fall', 1.0), ('oomf', 1.0), ('pippa', 1.0), ('hschool', 1.0), ('bu', 1.0), ('cardi', 1.0), ('everyday', 1.0), ('everytim', 1.0), ('hk', 1.0), (\"why'd\", 1.0), ('acorn', 1.0), ('origin', 1.0), ('c64', 1.0), ('cpu', 1.0), ('consider', 1.0), ('advanc', 1.0), ('onair', 1.0), ('bay', 1.0), ('hold', 1.0), ('river', 1.0), ('0878 0388', 1.0), ('1033', 1.0), ('0272 3306', 1.0), ('70', 1.0), ('rescu', 1.0), ('mutt', 1.0), ('confirm', 1.0), ('deliveri', 1.0), ('switch', 1.0), ('lap', 1.0), ('optim', 1.0), ('lu', 1.0), (':|', 1.0), ('tweetofthedecad', 1.0), (':P', 1.0), ('class', 1.0), ('happiest', 1.0), ('bbmme', 1.0), ('pin', 1.0), ('7df9e60a', 1.0), ('bbm', 1.0), ('bbmpin', 1.0), ('addmeonbbm', 1.0), ('addm', 1.0), (\"today'\", 1.0), ('menu', 1.0), ('marri', 1.0), ('glenn', 1.0), ('what', 1.0), ('height', 1.0), (\"sculptor'\", 1.0), ('ti5', 1.0), ('dota', 1.0), ('nudg', 1.0), ('spot', 1.0), ('tasti', 1.0), ('hilli', 1.0), ('cycl', 1.0), ('england', 1.0), ('scotlandismass', 1.0), ('gen', 1.0), ('vikk', 1.0), ('fna', 1.0), ('mombasa', 1.0), ('tukutanemombasa', 1.0), ('100reasonstovisitmombasa', 1.0), ('karibumombasa', 1.0), ('hanbin', 1.0), ('certainli', 1.0), ('goosnight', 1.0), ('kindli', 1.0), ('familiar', 1.0), ('jealou', 1.0), ('tent', 1.0), ('yea', 1.0), ('cozi', 1.0), ('phenomen', 1.0), ('collab', 1.0), ('gave', 1.0), ('birth', 1.0), ('behav', 1.0), ('monster', 1.0), ('spree', 1.0), ('000', 1.0), ('tank', 1.0), ('outstand', 1.0), ('donat', 1.0), ('h', 1.0), ('contestkiduniya', 1.0), ('mfundo', 1.0), ('och', 1.0), ('hun', 1.0), ('inner', 1.0), ('nerd', 1.0), ('tame', 1.0), ('insidi', 1.0), ('logic', 1.0), ('math', 1.0), ('channel', 1.0), ('continu', 1.0), ('doubt', 1.0), ('300', 1.0), ('sub', 1.0), ('200', 1.0), ('forgiven', 1.0), ('manner', 1.0), ('yhooo', 1.0), ('ngi', 1.0), ('mood', 1.0), ('push', 1.0), ('limit', 1.0), ('obakeng', 1.0), ('goat', 1.0), ('alhamdullilah', 1.0), ('pebbl', 1.0), ('engross', 1.0), ('bing', 1.0), ('scream', 1.0), ('whole', 1.0), ('wide', 1.0), ('🌎', 1.0), ('😧', 1.0), ('wat', 1.0), ('muahhh', 1.0), ('pausetim', 1.0), ('drift', 1.0), ('loos', 1.0), ('campaign', 1.0), ('kickstart', 1.0), ('articl', 1.0), ('jenna', 1.0), ('bellybutton', 1.0), ('inni', 1.0), ('outi', 1.0), ('havent', 1.0), ('delish', 1.0), ('supermarket', 1.0), ('joselito', 1.0), ('freya', 1.0), ('nth', 1.0), ('latepost', 1.0), ('lupet', 1.0), ('mo', 1.0), ('eric', 1.0), ('askaman', 1.0), ('150', 1.0), ('0345', 1.0), ('454', 1.0), ('111', 1.0), ('webz', 1.0), ('oop', 1.0), (\"they'll\", 1.0), ('realis', 1.0), ('anymor', 1.0), ('carmel', 1.0), ('decis', 1.0), ('matt', 1.0), ('@commoncultur', 1.0), ('@connorfranta', 1.0), ('honestli', 1.0), ('explain', 1.0), ('relationship', 1.0), ('pick', 1.0), ('tessnzach', 1.0), ('paperboy', 1.0), ('honest', 1.0), ('reassur', 1.0), ('guysss', 1.0), ('mubank', 1.0), (\"dongwoo'\", 1.0), ('bright', 1.0), ('tommorow', 1.0), ('newyork', 1.0), ('lolll', 1.0), ('twinx', 1.0), ('16', 1.0), ('path', 1.0), ('firmansyahbl', 1.0), ('procedur', 1.0), ('grim', 1.0), ('fandango', 1.0), ('ordinari', 1.0), ('extraordinari', 1.0), ('bo', 1.0), ('birmingham', 1.0), ('oracl', 1.0), ('samosa', 1.0), ('firebal', 1.0), ('shoe', 1.0), ('serv', 1.0), ('sushi', 1.0), ('shoeshi', 1.0), ('�', 1.0), ('lymond', 1.0), ('philippa', 1.0), ('novel', 1.0), ('tara', 1.0), ('. . .', 1.0), ('aur', 1.0), ('han', 1.0), ('imran', 1.0), ('khan', 1.0), ('63', 1.0), ('agaaain', 1.0), ('doli', 1.0), ('siregar', 1.0), ('ninh', 1.0), ('size', 1.0), ('geekiest', 1.0), ('geek', 1.0), ('wallet', 1.0), ('request', 1.0), ('media', 1.0), ('ralli', 1.0), ('rotat', 1.0), ('direct', 1.0), ('eek', 1.0), ('red', 1.0), ('beij', 1.0), ('meni', 1.0), ('tebrik', 1.0), ('etdi', 1.0), ('700', 1.0), ('💗', 1.0), ('rod', 1.0), ('embrac', 1.0), ('actor', 1.0), ('aplomb', 1.0), ('foreveralon', 1.0), ('mysumm', 1.0), ('01482', 1.0), ('333505', 1.0), ('hahahaha', 1.0), ('wear', 1.0), ('uniform', 1.0), ('evil', 1.0), ('owww', 1.0), ('choo', 1.0), ('chweet', 1.0), ('shorthair', 1.0), ('oscar', 1.0), ('realiz', 1.0), ('harmoni', 1.0), ('deneriveri', 1.0), ('506', 1.0), ('kiksext', 1.0), ('kikkomansabor', 1.0), ('killer', 1.0), ('henessydiari', 1.0), ('journey', 1.0), ('band', 1.0), ('convo', 1.0), ('11', 1.0), ('vault', 1.0), ('expand', 1.0), ('vinni', 1.0), ('money', 1.0), ('hahahahaha', 1.0), ('50cent', 1.0), ('repay', 1.0), ('debt', 1.0), ('evet', 1.0), ('wifi', 1.0), ('lifestyl', 1.0), ('qatarday', 1.0), ('. ..', 1.0), ('🌞', 1.0), ('girli', 1.0), ('india', 1.0), ('innov', 1.0), ('volunt', 1.0), ('saran', 1.0), ('drama', 1.0), ('genr', 1.0), ('romanc', 1.0), ('comedi', 1.0), ('leannerin', 1.0), ('19', 1.0), ('porno', 1.0), ('l4l', 1.0), ('weloveyounamjoon', 1.0), ('homey', 1.0), ('kenya', 1.0), ('roller', 1.0), ('coaster', 1.0), ('aspect', 1.0), ('najam', 1.0), ('confess', 1.0), ('pricelessantiqu', 1.0), ('takesonetoknowon', 1.0), ('extra', 1.0), ('ucount', 1.0), ('ji', 1.0), ('turkish', 1.0), ('knew', 1.0), ('crap', 1.0), ('burn', 1.0), ('80x', 1.0), ('airlin', 1.0), ('sexi', 1.0), ('yello', 1.0), ('gail', 1.0), ('yael', 1.0), ('lesson', 1.0), ('en', 1.0), ('mano', 1.0), ('hand', 1.0), ('manag', 1.0), ('prettiest', 1.0), ('reader', 1.0), ('dnt', 1.0), ('ideal', 1.0), ('weekli', 1.0), ('idol', 1.0), ('pose', 1.0), ('shortlist', 1.0), ('dominion', 1.0), ('picnic', 1.0), ('tmrw', 1.0), ('nobodi', 1.0), ('jummamubarak', 1.0), ('shower', 1.0), ('shalwarkameez', 1.0), ('itter', 1.0), ('offer', 1.0), ('jummapray', 1.0), ('af', 1.0), ('display', 1.0), ('enabl', 1.0), ('compani', 1.0), ('peep', 1.0), ('tweep', 1.0), ('folow', 1.0), ('2k', 1.0), ('ohhh', 1.0), ('teaser', 1.0), ('airec', 1.0), ('009', 1.0), ('acid', 1.0), ('mous', 1.0), ('31st', 1.0), ('includ', 1.0), ('robin', 1.0), ('rough', 1.0), ('control', 1.0), ('remix', 1.0), ('fave', 1.0), ('toss', 1.0), ('ladi', 1.0), ('🐑', 1.0), ('librari', 1.0), ('mr2', 1.0), ('climb', 1.0), ('cuddl', 1.0), ('jilla', 1.0), ('headlin', 1.0), ('2017', 1.0), ('jumma', 1.0), ('mubarik', 1.0), ('spent', 1.0), ('congratz', 1.0), ('contribut', 1.0), ('2.0', 1.0), ('yuppiiee', 1.0), ('alienthought', 1.0), ('happyalien', 1.0), ('crowd', 1.0), ('loudest', 1.0), ('gari', 1.0), ('particular', 1.0), ('attract', 1.0), ('supprt', 1.0), ('savag', 1.0), ('cleans', 1.0), ('scam', 1.0), ('ridden', 1.0), ('vyapam', 1.0), ('renam', 1.0), ('wave', 1.0), ('couch', 1.0), ('dodg', 1.0), ('explan', 1.0), ('bag', 1.0), ('sanza', 1.0), ('aggreg', 1.0), ('tend', 1.0), ('yaa', 1.0), ('slr', 1.0), ('som', 1.0), ('honour', 1.0), ('heheh', 1.0), ('view', 1.0), ('explor', 1.0), ('wayanadan', 1.0), ('forest', 1.0), ('wayanad', 1.0), ('srijith', 1.0), ('whisper', 1.0), ('lie', 1.0), ('pokemon', 1.0), ('dazzl', 1.0), ('urself', 1.0), ('doubl', 1.0), ('flare', 1.0), ('black', 1.0), ('9', 1.0), ('51', 1.0), ('brows', 1.0), ('bore', 1.0), ('femal', 1.0), ('tour', 1.0), ('delv', 1.0), ('muchhh', 1.0), ('tmr', 1.0), ('breakfast', 1.0), ('gl', 1.0), (\"tonight'\", 1.0), ('):', 1.0), ('litey', 1.0), ('manuella', 1.0), ('abhi', 1.0), ('tak', 1.0), ('nhi', 1.0), ('dekhi', 1.0), ('promo', 1.0), ('se', 1.0), ('xpax', 1.0), ('lisa', 1.0), ('aboard', 1.0), ('institut', 1.0), ('nc', 1.0), ('chees', 1.0), ('overload', 1.0), ('pizza', 1.0), ('•', 1.0), ('mcfloat', 1.0), ('fudg', 1.0), ('sanda', 1.0), ('munchkin', 1.0), (\"d'd\", 1.0), ('granni', 1.0), ('baller', 1.0), ('lil', 1.0), ('chain', 1.0), ('everybodi', 1.0), ('ought', 1.0), ('jay', 1.0), ('events@breastcancernow.org', 1.0), ('79x', 1.0), ('champion', 1.0), ('letter', 1.0), ('uniqu', 1.0), ('affaraid', 1.0), ('dearslim', 1.0), ('role', 1.0), ('billi', 1.0), ('lab', 1.0), ('ovh', 1.0), ('maxi', 1.0), ('bunch', 1.0), ('acc', 1.0), ('sprit', 1.0), ('you', 1.0), ('til', 1.0), ('hammi', 1.0), ('freedom', 1.0), ('pistol', 1.0), ('unlock', 1.0), ('bemeapp', 1.0), ('thumb', 1.0), ('beme', 1.0), ('bemecod', 1.0), ('proudtobem', 1.0), ('round', 1.0), ('calm', 1.0), ('kepo', 1.0), ('luckili', 1.0), ('clearli', 1.0), ('دعمم', 1.0), ('للعودة', 1.0), ('للحياة', 1.0), ('heiyo', 1.0), ('dudafti', 1.0), ('breaktym', 1.0), ('fatal', 1.0), ('danger', 1.0), ('term', 1.0), ('health', 1.0), ('outrag', 1.0), ('645k', 1.0), ('muna', 1.0), ('magstart', 1.0), ('salut', 1.0), ('→', 1.0), ('thq', 1.0), ('contin', 1.0), ('thalaivar', 1.0), ('£', 1.0), ('heiya', 1.0), ('grab', 1.0), ('30.000', 1.0), ('av', 1.0), ('gd', 1.0), ('wknd', 1.0), ('ear', 1.0), (\"y'day\", 1.0), ('hxh', 1.0), ('badass', 1.0), ('killua', 1.0), ('scene', 1.0), ('78x', 1.0), ('notic', 1.0), ('effort', 1.0), ('unappreci', 1.0), ('graciou', 1.0), ('nailedit', 1.0), ('ourdisneyinfin', 1.0), ('mari', 1.0), ('jillmil', 1.0), ('webcam', 1.0), ('elfindelmundo', 1.0), ('mainli', 1.0), ('favour', 1.0), ('dancetast', 1.0), ('satyajit', 1.0), (\"ray'\", 1.0), ('porosh', 1.0), ('pathor', 1.0), ('situat', 1.0), ('goldbug', 1.0), ('wine', 1.0), ('bottl', 1.0), ('spill', 1.0), ('jazmin', 1.0), ('bonilla', 1.0), ('15000', 1.0), ('star', 1.0), ('hollywood', 1.0), ('rofl', 1.0), ('shade', 1.0), ('grey', 1.0), ('netsec', 1.0), ('kev', 1.0), ('sister', 1.0), ('told', 1.0), ('unlist', 1.0), ('hickey', 1.0), ('dad', 1.0), ('hock', 1.0), ('mamma', 1.0), ('human', 1.0), ('be', 1.0), ('mere', 1.0), ('holist', 1.0), ('cosmovis', 1.0), ('narrow-mind', 1.0), ('charg', 1.0), ('cess', 1.0), ('alix', 1.0), ('quan', 1.0), ('tip', 1.0), ('naaahhh', 1.0), ('duh', 1.0), ('emesh', 1.0), ('hilari', 1.0), ('kath', 1.0), ('kia', 1.0), ('@vauk', 1.0), ('tango', 1.0), ('tracerequest', 1.0), ('dassi', 1.0), ('fwm', 1.0), ('selamat', 1.0), ('nichola', 1.0), ('malta', 1.0), ('gto', 1.0), ('tomorrowland', 1.0), ('incal', 1.0), ('shob', 1.0), ('incomplet', 1.0), ('barkada', 1.0), ('silverston', 1.0), ('pull', 1.0), ('bookstor', 1.0), ('ganna', 1.0), ('hillari', 1.0), ('clinton', 1.0), ('court', 1.0), ('slice', 1.0), ('life-so', 1.0), ('hidden', 1.0), ('untap', 1.0), ('mca', 1.0), ('gettin', 1.0), ('hella', 1.0), ('wana', 1.0), ('bandz', 1.0), ('hell', 1.0), ('donington', 1.0), ('park', 1.0), ('24/25', 1.0), ('x30', 1.0), ('merci', 1.0), ('bien', 1.0), ('pitbul', 1.0), ('777x', 1.0), ('fri', 1.0), ('annyeong', 1.0), ('oppa', 1.0), ('indonesian', 1.0), ('elf', 1.0), ('flight', 1.0), ('bf', 1.0), ('jennyjean', 1.0), ('kikchat', 1.0), ('sabadodeganarseguidor', 1.0), ('sexysasunday', 1.0), ('marseil', 1.0), ('ganda', 1.0), ('fnaf', 1.0), ('steam', 1.0), ('assur', 1.0), ('current', 1.0), ('goin', 1.0), ('sweeti', 1.0), ('strongest', 1.0), (\"spot'\", 1.0), ('barnstapl', 1.0), ('bideford', 1.0), ('abit', 1.0), ('road', 1.0), ('rocro', 1.0), ('13glodyysbro', 1.0), ('hire', 1.0), ('2ne1', 1.0), ('aspetti', 1.0), ('chicken', 1.0), ('chip', 1.0), ('cupboard', 1.0), ('empti', 1.0), ('jami', 1.0), ('ian', 1.0), ('latin', 1.0), ('asian', 1.0), ('version', 1.0), ('va', 1.0), ('642', 1.0), ('kikgirl', 1.0), ('orgasm', 1.0), ('phonesex', 1.0), ('spacer', 1.0), ('felic', 1.0), ('smoak', 1.0), ('👓', 1.0), ('💘', 1.0), ('children', 1.0), ('psychopath', 1.0), ('spoil', 1.0), ('dimpl', 1.0), ('contempl', 1.0), ('indi', 1.0), ('rout', 1.0), ('jsl', 1.0), ('76x', 1.0), ('gotcha', 1.0), ('kina', 1.0), ('donna', 1.0), ('reachabl', 1.0), ('jk', 1.0), ('s02e04', 1.0), ('air', 1.0), ('naggi', 1.0), ('anal', 1.0), ('child', 1.0), ('vidcon', 1.0), ('anxiou', 1.0), ('shake', 1.0), ('10:30', 1.0), ('smoke', 1.0), ('white', 1.0), ('grandpa', 1.0), ('prolli', 1.0), ('stash', 1.0), ('closer-chas', 1.0), ('spec', 1.0), ('chase', 1.0), ('wall', 1.0), ('angel', 1.0), ('mochamichel', 1.0), ('iph', 1.0), ('0ne', 1.0), ('simpli', 1.0), ('bi0', 1.0), ('x29', 1.0), ('there', 1.0), ('background', 1.0), ('maggi', 1.0), ('afraid', 1.0), ('mull', 1.0), ('nil', 1.0), ('glasgow', 1.0), ('netbal', 1.0), ('thistl', 1.0), ('thistlelov', 1.0), ('minecraft', 1.0), ('drew', 1.0), ('delici', 1.0), ('muddl', 1.0), ('racket', 1.0), ('isol', 1.0), ('fa', 1.0), ('particip', 1.0), ('icecreammast', 1.0), ('group', 1.0), ('letitgrow', 1.0), ('huhu', 1.0), ('shet', 1.0), ('desk', 1.0), ('o_o', 1.0), ('orz', 1.0), ('problemmm', 1.0), ('75x', 1.0), ('english', 1.0), ('yeeaayi', 1.0), ('alhamdulillah', 1.0), ('amin', 1.0), ('weed', 1.0), ('crowdfund', 1.0), ('goal', 1.0), ('walk', 1.0), ('hellooo', 1.0), ('select', 1.0), ('lynn', 1.0), ('buffer', 1.0), ('button', 1.0), ('compos', 1.0), ('fridayfun', 1.0), ('non-filipina', 1.0), ('ejayst', 1.0), ('state', 1.0), ('le', 1.0), ('stan', 1.0), ('lee', 1.0), ('discoveri', 1.0), ('cousin', 1.0), ('1400', 1.0), ('yr', 1.0), ('teleport', 1.0), ('shahid', 1.0), ('afridi', 1.0), ('tou', 1.0), ('mahnor', 1.0), ('baloch', 1.0), ('nikki', 1.0), ('flower', 1.0), ('blackfli', 1.0), ('courgett', 1.0), ('wont', 1.0), ('affect', 1.0), ('fruit', 1.0), ('italian', 1.0), ('netfilx', 1.0), ('unmarri', 1.0), ('finger', 1.0), ('rock', 1.0), ('wielli', 1.0), ('paul', 1.0), ('barcod', 1.0), ('charlott', 1.0), ('thta', 1.0), ('trailblazerhonor', 1.0), ('labour', 1.0), ('leader', 1.0), ('jeremi', 1.0), ('4leader', 1.0), ('jezwecan', 1.0), ('alot', 1.0), ('agayhippiehippi', 1.0), ('exercis', 1.0), ('ginger', 1.0), ('x28', 1.0), ('teach', 1.0), ('awar', 1.0), ('::', 1.0), ('portsmouth', 1.0), ('sonal', 1.0), ('hungri', 1.0), ('hmmm', 1.0), ('pedant', 1.0), ('98', 1.0), ('kit', 1.0), ('ack', 1.0), ('hih', 1.0), ('choir', 1.0), ('rosidbinr', 1.0), ('duke', 1.0), ('earl', 1.0), ('tau', 1.0), ('orayt', 1.0), ('knw', 1.0), ('block', 1.0), ('dikha', 1.0), ('reh', 1.0), ('adolf', 1.0), ('hitler', 1.0), ('obstacl', 1.0), ('exist', 1.0), ('surrend', 1.0), ('terrif', 1.0), ('advaddict', 1.0), ('_15', 1.0), ('jimin', 1.0), ('notanapolog', 1.0), ('map', 1.0), ('inform', 1.0), ('0.7', 1.0), ('motherfuck', 1.0), (\"david'\", 1.0), ('damn', 1.0), ('colleg', 1.0), ('24th', 1.0), ('steroid', 1.0), ('alansmithpart', 1.0), ('servu', 1.0), ('bonasio', 1.0), (\"doido'\", 1.0), ('task', 1.0), ('deleg', 1.0), ('aaahhh', 1.0), ('jen', 1.0), ('virgin', 1.0), ('non-mapbox', 1.0), ('restrict', 1.0), ('mapbox', 1.0), ('basemap', 1.0), ('contractu', 1.0), ('research', 1.0), ('seafood', 1.0), ('weltum', 1.0), ('teh', 1.0), ('deti', 1.0), ('huh', 1.0), ('=D', 1.0), ('annoy', 1.0), ('katmtan', 1.0), ('swan', 1.0), ('fandom', 1.0), ('blurri', 1.0), ('besok', 1.0), ('b', 1.0), ('urgent', 1.0), ('within', 1.0), ('dorset', 1.0), ('goddess', 1.0), ('blast', 1.0), ('shitfac', 1.0), ('soul', 1.0), ('sing', 1.0), ('disney', 1.0), ('doug', 1.0), ('28', 1.0), ('bnte', 1.0), ('hain', 1.0), (';p', 1.0), ('shiiitt', 1.0), ('case', 1.0), ('rm35', 1.0), ('negooo', 1.0), ('male', 1.0), ('madelin', 1.0), ('nun', 1.0), ('mornin', 1.0), ('yapster', 1.0), ('pli', 1.0), ('icon', 1.0), ('alchemist', 1.0), ('x27', 1.0), ('dayz', 1.0), ('preview', 1.0), ('thug', 1.0), ('lmao', 1.0), ('sharethelov', 1.0), ('highvalu', 1.0), ('halsey', 1.0), ('30th', 1.0), ('anniversari', 1.0), ('folk', 1.0), ('bae', 1.0), ('repli', 1.0), ('complain', 1.0), ('rude', 1.0), ('bond', 1.0), ('nigg', 1.0), ('readingr', 1.0), ('wordoftheweek', 1.0), ('wotw', 1.0), ('4:18', 1.0), ('est', 1.0), ('earn', 1.0), ('jess', 1.0), ('surri', 1.0), ('botani', 1.0), ('gel', 1.0), ('alison', 1.0), ('lsa', 1.0), ('respons', 1.0), ('fron', 1.0), ('debbi', 1.0), ('carol', 1.0), ('patient', 1.0), ('discharg', 1.0), ('loung', 1.0), ('walmart', 1.0), ('balanc', 1.0), ('studi', 1.0), ('hayley', 1.0), ('shoulder', 1.0), ('pad', 1.0), ('mount', 1.0), ('inquisitor', 1.0), ('cosplay', 1.0), ('cosplayprogress', 1.0), ('mike', 1.0), ('dunno', 1.0), ('insecur', 1.0), ('nh', 1.0), ('devolut', 1.0), ('patriot', 1.0), ('halla', 1.0), ('ark', 1.0), (\"jiyeon'\", 1.0), ('buzz', 1.0), ('burnt', 1.0), ('mist', 1.0), ('opi', 1.0), ('avoplex', 1.0), ('nail', 1.0), ('cuticl', 1.0), ('replenish', 1.0), ('15ml', 1.0), ('seriou', 1.0), ('submiss', 1.0), ('lb', 1.0), ('cherish', 1.0), ('flip', 1.0), ('learnt', 1.0), ('backflip', 1.0), ('jumpgiant', 1.0), ('foampit', 1.0), ('usa', 1.0), ('pamer', 1.0), ('thk', 1.0), ('actuallythough', 1.0), ('craft', 1.0), ('session', 1.0), ('mehtab', 1.0), ('aunti', 1.0), ('gc', 1.0), ('yeeew', 1.0), ('pre', 1.0), ('lan', 1.0), ('yeey', 1.0), ('arrang', 1.0), ('doodl', 1.0), ('comic', 1.0), ('summon', 1.0), ('none', 1.0), ('🙅', 1.0), ('lycra', 1.0), ('vincent', 1.0), ('couldnt', 1.0), ('roy', 1.0), ('bg', 1.0), ('img', 1.0), ('circl', 1.0), ('font', 1.0), ('deathofgrass', 1.0), ('loan', 1.0), ('lawnmow', 1.0), ('popular', 1.0), ('charismat', 1.0), ('man.h', 1.0), ('thrive', 1.0), ('economi', 1.0), ('burst', 1.0), ('georgi', 1.0), ('x26', 1.0), ('million', 1.0), ('fl', 1.0), ('kindest', 1.0), ('iceland', 1.0), ('crazi', 1.0), ('landscap', 1.0), ('yok', 1.0), ('lah', 1.0), ('concordia', 1.0), ('reunit', 1.0), ('xxxibmchll', 1.0), ('sea', 1.0), ('prettier', 1.0), ('imitatia', 1.0), ('oe', 1.0), ('michel', 1.0), ('comeback', 1.0), ('gross', 1.0), ('treat', 1.0), ('equal', 1.0), ('injustic', 1.0), ('femin', 1.0), ('ineedfeminismbecaus', 1.0), ('forgotten', 1.0), ('recommend', 1.0), ('redhead', 1.0), ('wacki', 1.0), ('rather', 1.0), ('waytoliveahappylif', 1.0), ('hoxton', 1.0), ('holborn', 1.0), ('tournament', 1.0), ('equalityact', 1.0), ('karen', 1.0), ('wag', 1.0), ('bum', 1.0), ('wwooo', 1.0), ('nite', 1.0), ('laiten', 1.0), ('arond', 1.0), ('1:30', 1.0), ('consid', 1.0), ('matur', 1.0), ('journeyp', 1.0), ('foam', 1.0), (\"lady'\", 1.0), ('mob', 1.0), ('fals', 1.0), ('bulletin', 1.0), ('spring', 1.0), ('fiesta', 1.0), ('nois', 1.0), ('awuuu', 1.0), ('aich', 1.0), ('sept', 1.0), ('rudramadevi', 1.0), ('anushka', 1.0), ('gunashekar', 1.0), ('harryxhood', 1.0), ('upset', 1.0), ('ooh', 1.0), ('humanist', 1.0), ('magazin', 1.0), ('usernam', 1.0), ('rape', 1.0), ('csrrace', 1.0), ('lack', 1.0), ('hygien', 1.0), ('tose', 1.0), ('cloth', 1.0), ('temperatur', 1.0), ('planet', 1.0), ('brave', 1.0), ('ge', 1.0), ('2015kenya', 1.0), ('ryan', 1.0), ('tidi', 1.0), ('hagergang', 1.0), ('chanhun', 1.0), ('photoshoot', 1.0), ('afteral', 1.0), ('sadkaay', 1.0), ('thark', 1.0), ('peak', 1.0), ('heatwav', 1.0), ('lower', 1.0), ('standard', 1.0), ('x25', 1.0), ('recruit', 1.0), ('doom', 1.0), ('nasti', 1.0), ('affili', 1.0), ('>:)', 1.0), ('64', 1.0), ('74', 1.0), ('40', 1.0), ('00', 1.0), ('hall', 1.0), ('ted', 1.0), ('pixgram', 1.0), ('creativ', 1.0), ('slideshow', 1.0), ('😒', 1.0), ('🌚', 1.0), ('nibbl', 1.0), ('ivi', 1.0), ('sho', 1.0), ('superpow', 1.0), ('obsess', 1.0), ('oth', 1.0), ('third', 1.0), ('ngarepfollbackdarinabilahjkt', 1.0), ('48', 1.0), ('sunglass', 1.0), ('jacki', 1.0), ('sunni', 1.0), ('style', 1.0), ('jlo', 1.0), ('jlover', 1.0), ('turkey', 1.0), ('goodafternoon', 1.0), ('collag', 1.0), ('furri', 1.0), ('bruce', 1.0), ('kunoriforceo', 1.0), ('aayegi', 1.0), ('tim', 1.0), ('wiw', 1.0), ('bip', 1.0), ('zareen', 1.0), ('daisi', 1.0), (\"b'coz\", 1.0), ('kart', 1.0), ('mak', 1.0), ('∗', 1.0), ('lega', 1.0), ('spag', 1.0), ('boat', 1.0), ('outboard', 1.0), ('spell', 1.0), ('reboard', 1.0), ('fire', 1.0), ('offboard', 1.0), ('sn16', 1.0), ('9dg', 1.0), ('bnf', 1.0), ('50', 1.0), ('jason', 1.0), ('rob', 1.0), ('feb', 1.0), ('victoriasecret', 1.0), ('finland', 1.0), ('helsinki', 1.0), ('airport', 1.0), ('plane', 1.0), ('beyond', 1.0), ('ont', 1.0), ('tii', 1.0), ('lng', 1.0), ('yan', 1.0), (\"u'll\", 1.0), ('steve', 1.0), ('bell', 1.0), ('prescott', 1.0), ('leadership', 1.0), ('cartoon', 1.0), ('upsid', 1.0), ('statement', 1.0), ('selamathariraya', 1.0), ('lovesummertim', 1.0), ('dumont', 1.0), ('jax', 1.0), ('jone', 1.0), ('awesomee', 1.0), ('x24', 1.0), ('geoff', 1.0), ('amazingli', 1.0), ('talant', 1.0), ('vsco', 1.0), ('thanki', 1.0), ('hash', 1.0), ('tag', 1.0), ('ifimeetanalien', 1.0), ('bff', 1.0), ('section', 1.0), ('follbaaack', 1.0), ('az', 1.0), ('cauliflow', 1.0), ('attempt', 1.0), ('prinsesa', 1.0), ('yaaah', 1.0), ('law', 1.0), ('toy', 1.0), ('sonaaa', 1.0), ('beautiful', 1.0), (\"josephine'\", 1.0), ('mirror', 1.0), ('cretaperfect', 1.0), ('4me', 1.0), ('cretaperfectsuv', 1.0), ('creta', 1.0), ('load', 1.0), ('telecom', 1.0), ('judi', 1.0), ('superb', 1.0), ('slightli', 1.0), ('rakna', 1.0), ('ew', 1.0), ('whose', 1.0), ('fifa', 1.0), ('lineup', 1.0), ('surviv', 1.0), ('p90x', 1.0), ('p90', 1.0), ('dishoom', 1.0), ('rajnigandha', 1.0), ('minju', 1.0), ('rapper', 1.0), ('lead', 1.0), ('vocal', 1.0), ('yujin', 1.0), ('visual', 1.0), ('makna', 1.0), ('jane', 1.0), ('hah', 1.0), ('hawk', 1.0), ('greatest', 1.0), ('histori', 1.0), ('along', 1.0), ('talkback', 1.0), ('process', 1.0), ('featur', 1.0), ('mostli', 1.0), (\"cinema'\", 1.0), ('defend', 1.0), ('fashion', 1.0), ('atroc', 1.0), ('pandimension', 1.0), ('manifest', 1.0), ('argo', 1.0), ('ring', 1.0), ('640', 1.0), ('nad', 1.0), ('plezzz', 1.0), ('asthma', 1.0), ('inhal', 1.0), ('breath', 1.0), ('goodluck', 1.0), ('hunger', 1.0), ('mockingjay', 1.0), ('thehungergam', 1.0), ('ador', 1.0), ('x23', 1.0), ('reina', 1.0), ('felt', 1.0), ('excus', 1.0), ('attend', 1.0), ('whn', 1.0), ('andr', 1.0), ('mamayang', 1.0), ('11pm', 1.0), ('1d', 1.0), ('89.9', 1.0), ('powi', 1.0), ('shropshir', 1.0), ('border', 1.0), (\"school'\", 1.0), ('san', 1.0), ('diego', 1.0), ('jump', 1.0), ('sourc', 1.0), ('appeas', 1.0), ('¦', 1.0), ('aj', 1.0), ('action', 1.0), ('grunt', 1.0), ('sc', 1.0), ('anti-christ', 1.0), ('m8', 1.0), ('ju', 1.0), ('halfway', 1.0), ('ex', 1.0), ('postiv', 1.0), ('opinion', 1.0), ('avi', 1.0), ('dare', 1.0), ('corridor', 1.0), ('👯', 1.0), ('neither', 1.0), ('rundown', 1.0), ('yah', 1.0), ('leviboard', 1.0), ('kleper', 1.0), (':(', 1.0), ('impecc', 1.0), ('setokido', 1.0), ('shoulda', 1.0), ('hippo', 1.0), ('materialist', 1.0), ('showpo', 1.0), ('cough', 1.0), ('@artofsleepingin', 1.0), ('x22', 1.0), ('☺', 1.0), ('makesm', 1.0), ('santorini', 1.0), ('escap', 1.0), ('beatport', 1.0), ('🏻', 1.0), ('trmdhesit', 1.0), ('manuel', 1.0), ('vall', 1.0), ('king', 1.0), ('seven', 1.0), ('kingdom', 1.0), ('andal', 1.0), ('taught', 1.0), ('hide', 1.0), ('privaci', 1.0), ('wise', 1.0), ('natsuki', 1.0), ('often', 1.0), ('catchi', 1.0), ('neil', 1.0), ('emir', 1.0), ('brill', 1.0), ('urquhart', 1.0), ('castl', 1.0), ('simpl', 1.0), ('shatter', 1.0), ('contrast', 1.0), ('educampakl', 1.0), ('rotorua', 1.0), ('pehli', 1.0), ('phir', 1.0), ('somi', 1.0), ('burfday', 1.0), ('univers', 1.0), ('santo', 1.0), ('toma', 1.0), ('norh', 1.0), ('dialogu', 1.0), ('chainsaw', 1.0), ('amus', 1.0), ('awe', 1.0), ('protect', 1.0), ('pop', 1.0), ('2ish', 1.0), ('fahad', 1.0), ('bhai', 1.0), ('iqrar', 1.0), ('waseem', 1.0), ('abroad', 1.0), ('movie', 1.0), ('chef', 1.0), ('grogol', 1.0), ('long-dist', 1.0), ('rhi', 1.0), ('pwrfl', 1.0), ('benefit', 1.0), ('b2b', 1.0), ('b2c', 1.0), (\"else'\", 1.0), ('soo', 1.0), ('enterprison', 1.0), ('schoolsoutforsumm', 1.0), ('fellow', 1.0), ('juggl', 1.0), ('purrtho', 1.0), ('catho', 1.0), ('catami', 1.0), ('fourfivesecond', 1.0), ('deaf', 1.0), ('drug', 1.0), ('alcohol', 1.0), ('apexi', 1.0), ('crystal', 1.0), ('meth', 1.0), ('champagn', 1.0), ('fc', 1.0), ('streamer', 1.0), ('juic', 1.0), ('correct', 1.0), ('portrait', 1.0), ('izumi', 1.0), ('fugiwara', 1.0), ('clonmel', 1.0), ('vibrant', 1.0), ('estim', 1.0), ('server', 1.0), ('quiet', 1.0), ('yey', 1.0), (\"insha'allah\", 1.0), ('wil', 1.0), ('x21', 1.0), ('trend', 1.0), ('akshaymostlovedsuperstarev', 1.0), ('indirect', 1.0), ('askurban', 1.0), ('lyka', 1.0), ('mobilegam', 1.0), ('io', 1.0), ('nap', 1.0), ('aff', 1.0), ('unam', 1.0), ('jonginuh', 1.0), ('forecast', 1.0), ('10am', 1.0), ('5am', 1.0), ('sooth', 1.0), ('vii', 1.0), ('sweetheart', 1.0), ('freak', 1.0), ('zayn', 1.0), ('fucker', 1.0), ('pet', 1.0), ('illustr', 1.0), ('wohoo', 1.0), ('gleam', 1.0), ('paint', 1.0), ('deal', 1.0), ('prime', 1.0), ('minist', 1.0), ('sunjam', 1.0), ('industri', 1.0), ('present', 1.0), ('practic', 1.0), ('proactiv', 1.0), ('environ', 1.0), ('unreal', 1.0), ('zain', 1.0), ('zac', 1.0), ('isaac', 1.0), ('oss', 1.0), ('frank', 1.0), ('iero', 1.0), ('phase', 1.0), ('david', 1.0), ('beginn', 1.0), ('shine', 1.0), ('sunflow', 1.0), ('tommarow', 1.0), ('yall', 1.0), ('rank', 1.0), ('birthdaymonth', 1.0), ('vianey', 1.0), ('juli', 1.0), ('birthdaygirl', 1.0), (\"town'\", 1.0), ('andrew', 1.0), ('otwol', 1.0), ('awhil', 1.0), ('x20', 1.0), ('all-tim', 1.0), ('julia', 1.0), ('robert', 1.0), ('awwhh', 1.0), ('bulldog', 1.0), ('unfortun', 1.0), ('02079', 1.0), ('490', 1.0), ('132', 1.0), ('born', 1.0), ('fightstickfriday', 1.0), ('extravag', 1.0), ('tearout', 1.0), ('selekt', 1.0), ('yoot', 1.0), ('cross', 1.0), ('gudday', 1.0), ('dave', 1.0), ('haileyhelp', 1.0), ('eid', 1.0), ('mubarak', 1.0), ('brotheeerrr', 1.0), ('adventur', 1.0), ('tokyo', 1.0), ('kansai', 1.0), ('l', 1.0), ('upp', 1.0), ('om', 1.0), ('60', 1.0), ('minut', 1.0), ('data', 1.0), ('jesu', 1.0), ('amsterdam', 1.0), ('3rd', 1.0), ('nextweek', 1.0), ('booti', 1.0), ('bcuz', 1.0), ('step', 1.0), ('option', 1.0), ('stabl', 1.0), ('sturdi', 1.0), ('lukkke', 1.0), ('again.ensoi', 1.0), ('tc', 1.0), ('madam', 1.0), ('siddi', 1.0), ('unknown', 1.0), ('roomi', 1.0), ('gn', 1.0), ('gf', 1.0), ('consent', 1.0), ('mister', 1.0), ('vine', 1.0), ('peyton', 1.0), ('nagato', 1.0), ('yuki-chan', 1.0), ('shoushitsu', 1.0), ('archdbanterburi', 1.0), ('experttradesmen', 1.0), ('banter', 1.0), ('quiz', 1.0), ('tradetalk', 1.0), ('floof', 1.0), ('face', 1.0), ('muahah', 1.0), ('x19', 1.0), ('anticip', 1.0), ('jd', 1.0), ('laro', 1.0), ('tayo', 1.0), ('answer', 1.0), ('ht', 1.0), ('angelica', 1.0), ('anghel', 1.0), ('aa', 1.0), ('kkk', 1.0), ('macbook', 1.0), ('rehears', 1.0), ('youthcelebr', 1.0), ('mute', 1.0), ('29th', 1.0), ('gohf', 1.0), ('vegetarian', 1.0), (\"she'll\", 1.0), ('gooday', 1.0), ('101', 1.0), ('12000', 1.0), ('oshieer', 1.0), ('realreview', 1.0), ('happycustom', 1.0), ('realoshi', 1.0), ('dealsuthaonotebachao', 1.0), ('bigger', 1.0), ('dime', 1.0), ('uhuh', 1.0), ('🎵', 1.0), ('code', 1.0), ('pleasant', 1.0), ('on-board', 1.0), ('raheel', 1.0), ('flyhigh', 1.0), ('bother', 1.0), ('everett', 1.0), ('taylor', 1.0), ('ha-ha', 1.0), ('peachyloan', 1.0), ('fridayfreebi', 1.0), ('noe', 1.0), ('yisss', 1.0), ('bindingofissac', 1.0), ('xboxon', 1.0), ('consol', 1.0), ('justin', 1.0), ('gladli', 1.0), ('son', 1.0), ('morocco', 1.0), ('peru', 1.0), ('nxt', 1.0), ('bp', 1.0), ('resort', 1.0), ('x18', 1.0), ('havuuulovey', 1.0), ('uuu', 1.0), ('possitv', 1.0), ('hopey', 1.0), ('throwbackfriday', 1.0), ('christen', 1.0), ('ki', 1.0), ('yaad', 1.0), ('gayi', 1.0), ('opossum', 1.0), ('belat', 1.0), ('yeahh', 1.0), ('kuffar', 1.0), ('comput', 1.0), ('cell', 1.0), ('diarrhea', 1.0), ('immigr', 1.0), ('lice', 1.0), ('goictiv', 1.0), ('70685', 1.0), ('tagsforlik', 1.0), ('trapmus', 1.0), ('hotmusicdeloco', 1.0), ('kinick', 1.0), ('01282', 1.0), ('452096', 1.0), ('shadi', 1.0), ('reserv', 1.0), ('tkt', 1.0), ('likewis', 1.0), ('overgener', 1.0), ('ikr', 1.0), ('😍', 1.0), ('consumer', 1.0), ('fic', 1.0), ('ouch', 1.0), ('slip', 1.0), ('disc', 1.0), ('thw', 1.0), ('chute', 1.0), ('chalut', 1.0), ('replay', 1.0), ('iplay', 1.0), ('11am', 1.0), ('unneed', 1.0), ('megamoh', 1.0), ('7/29', 1.0), ('tool', 1.0), ('zealand', 1.0), ('pile', 1.0), ('dump', 1.0), ('couscou', 1.0), (\"women'\", 1.0), ('fiction', 1.0), ('wahahaah', 1.0), ('x17', 1.0), ('orhan', 1.0), ('pamuk', 1.0), ('hero', 1.0), ('canopi', 1.0), ('mapl', 1.0), ('syrup', 1.0), ('farm', 1.0), ('stephani', 1.0), ('congrtaualt', 1.0), ('philea', 1.0), ('club', 1.0), ('inc', 1.0), ('photograph', 1.0), ('phonegraph', 1.0), ('srsli', 1.0), ('10:17', 1.0), ('ripaaa', 1.0), ('banat', 1.0), ('ray', 1.0), ('dept', 1.0), ('hospit', 1.0), ('grt', 1.0), ('infograph', 1.0), (\"o'clock\", 1.0), ('habit', 1.0), ('1dfor', 1.0), ('roadtrip', 1.0), ('19:30', 1.0), ('ifc', 1.0), ('whip', 1.0), ('lilsisbro', 1.0), ('pre-ord', 1.0), (\"pixar'\", 1.0), ('steelbook', 1.0), ('hmm', 1.0), ('pegel', 1.0), ('lemess', 1.0), ('kyle', 1.0), ('paypal', 1.0), ('oct', 1.0), ('tud', 1.0), ('jst', 1.0), ('humphrey', 1.0), ('yell', 1.0), ('erm', 1.0), ('breach', 1.0), ('superhero', 1.0), ('scififan', 1.0), ('lemon', 1.0), ('yogurt', 1.0), ('pot', 1.0), ('discov', 1.0), ('liquoric', 1.0), ('pud', 1.0), ('cajun', 1.0), ('spice', 1.0), ('yum', 1.0), ('cajunchicken', 1.0), ('infinit', 1.0), ('fight', 1.0), ('gern', 1.0), ('cikaaa', 1.0), ('maaf', 1.0), ('telat', 1.0), ('ngucapinnya', 1.0), ('maaay', 1.0), ('x16', 1.0), ('viparita', 1.0), ('karani', 1.0), ('legsupthewal', 1.0), ('unwind', 1.0), ('coco', 1.0), ('comfi', 1.0), ('jalulu', 1.0), ('rosh', 1.0), ('gla', 1.0), ('pallavi', 1.0), ('nairobi', 1.0), ('hrdstellobama', 1.0), ('region', 1.0), ('civil', 1.0), ('societi', 1.0), ('globe', 1.0), ('hajur', 1.0), ('yayi', 1.0), (\"must'v\", 1.0), ('nerv', 1.0), ('prelim', 1.0), ('costacc', 1.0), ('nwb', 1.0), ('shud', 1.0), ('cold', 1.0), ('hmu', 1.0), ('cala', 1.0), ('brush', 1.0), ('ego', 1.0), ('wherev', 1.0), ('interact', 1.0), ('dongsaeng', 1.0), ('chorong', 1.0), ('friendship', 1.0), ('impress', 1.0), ('dragon', 1.0), ('duck', 1.0), ('mix', 1.0), ('cheetah', 1.0), ('wagga', 1.0), ('coursework', 1.0), ('lorna', 1.0), ('scan', 1.0), ('x12', 1.0), ('canva', 1.0), ('iqbal', 1.0), ('ima', 1.0), ('hon', 1.0), ('aja', 1.0), ('besi', 1.0), ('chati', 1.0), ('phulani', 1.0), ('swasa', 1.0), ('bahari', 1.0), ('jiba', 1.0), ('mumbai', 1.0), ('gujarat', 1.0), ('distrub', 1.0), ('otherwis', 1.0), ('190cr', 1.0), ('inspit', 1.0), ('highest', 1.0), ('holder', 1.0), ('threaten', 1.0), ('daili', 1.0), ('basi', 1.0), ('vr', 1.0), ('angelo', 1.0), ('quezon', 1.0), ('sweatpant', 1.0), ('farbridg', 1.0), ('segalakatakata', 1.0), ('nixu', 1.0), ('begun', 1.0), ('flint', 1.0), ('🍰', 1.0), ('separ', 1.0), ('criticis', 1.0), ('gestur', 1.0), ('pedal', 1.0), ('stroke', 1.0), ('caro', 1.0), ('deposit', 1.0), ('secur', 1.0), ('shock', 1.0), ('coff', 1.0), ('tenerina', 1.0), ('auguri', 1.0), ('iso', 1.0), ('certif', 1.0), ('paralyz', 1.0), ('anxieti', 1.0), (\"it'd\", 1.0), ('develop', 1.0), ('spain', 1.0), ('def', 1.0), ('bantim', 1.0), ('fail', 1.0), ('2ban', 1.0), ('x15', 1.0), ('awkward', 1.0), ('ab', 1.0), ('gale', 1.0), ('founder', 1.0), ('loveyaaah', 1.0), ('⅛', 1.0), ('⅞', 1.0), ('∞', 1.0), ('specialist', 1.0), ('aw', 1.0), ('babyyi', 1.0), ('djstruthmat', 1.0), ('re-cap', 1.0), ('urock', 1.0), ('flickr', 1.0), ('tack', 1.0), ('zephbot', 1.0), ('hhahahahaha', 1.0), ('blew', 1.0), ('entir', 1.0), ('vega', 1.0), ('strip', 1.0), ('hahahahahhaha', 1.0), (\"callie'\", 1.0), ('puppi', 1.0), ('owner', 1.0), ('callinganimalabusehotlineasap', 1.0), ('gorefiend', 1.0), ('mythic', 1.0), ('remind', 1.0), ('9:00', 1.0), ('▪', 1.0), ('bea', 1.0), ('miller', 1.0), ('lockscreen', 1.0), ('mbf', 1.0), ('keesh', 1.0), (\"yesterday'\", 1.0), ('groupi', 1.0), ('bebe', 1.0), ('sizam', 1.0), ('color', 1.0), ('invoic', 1.0), ('kanina', 1.0), ('pong', 1.0), ('umaga', 1.0), ('browser', 1.0), ('typic', 1.0), ('pleass', 1.0), ('leeteuk', 1.0), ('pearl', 1.0), ('thusi', 1.0), ('pour', 1.0), ('milk', 1.0), ('tgv', 1.0), ('pari', 1.0), ('austerlitz', 1.0), ('bloi', 1.0), ('mile', 1.0), ('chateau', 1.0), ('de', 1.0), ('marai', 1.0), ('taxi', 1.0), ('x14', 1.0), ('nom', 1.0), ('enji', 1.0), ('hater', 1.0), ('purchas', 1.0), ('specially-mark', 1.0), ('custard', 1.0), ('sm', 1.0), ('on-pack', 1.0), ('instruct', 1.0), ('tile', 1.0), ('downstair', 1.0), ('kelli', 1.0), ('greek', 1.0), ('petra', 1.0), ('shadowplayloui', 1.0), ('mutual', 1.0), ('cuz', 1.0), ('liveonstream', 1.0), ('lani', 1.0), ('graze', 1.0), ('pride', 1.0), ('bristolart', 1.0), ('in-app', 1.0), ('ensur', 1.0), ('item', 1.0), ('screw', 1.0), ('amber', 1.0), ('43', 1.0), ('hpc', 1.0), ('wip', 1.0), ('sw', 1.0), ('newsround', 1.0), ('hound', 1.0), ('7:40', 1.0), ('ada', 1.0), ('racist', 1.0), ('hulk', 1.0), ('tight', 1.0), ('prayer', 1.0), ('pardon', 1.0), ('phl', 1.0), ('abu', 1.0), ('dhabi', 1.0), ('hihihi', 1.0), ('teamjanuaryclaim', 1.0), ('godonna', 1.0), ('msg', 1.0), ('bowwowchicawowwow', 1.0), ('settl', 1.0), ('dkt', 1.0), ('porch', 1.0), ('uber', 1.0), ('mobil', 1.0), ('applic', 1.0), ('giggl', 1.0), ('bare', 1.0), ('wind', 1.0), ('kahlil', 1.0), ('gibran', 1.0), ('flash', 1.0), ('stiff', 1.0), ('upper', 1.0), ('lip', 1.0), ('britain', 1.0), ('latmon', 1.0), ('endeavour', 1.0), ('ann', 1.0), ('joy', 1.0), ('os', 1.0), ('exploit', 1.0), ('ign', 1.0), ('au', 1.0), ('pubcast', 1.0), ('tengaman', 1.0), ('21', 1.0), ('celebratio', 1.0), ('letsprocrastin', 1.0), ('women', 1.0), ('instal', 1.0), ('glorifi', 1.0), ('infirm', 1.0), ('silli', 1.0), ('suav', 1.0), ('gentlemen', 1.0), ('monthli', 1.0), ('mileag', 1.0), ('target', 1.0), ('samsung', 1.0), ('qualiti', 1.0), ('ey', 1.0), ('beth', 1.0), ('gangster', 1.0), (\"athena'\", 1.0), ('fanci', 1.0), ('wellington', 1.0), ('rich', 1.0), ('christina', 1.0), ('newslett', 1.0), ('zy', 1.0), ('olur', 1.0), ('x13', 1.0), ('flawless', 1.0), ('reaction', 1.0), ('hayli', 1.0), ('edwin', 1.0), ('elvena', 1.0), ('emc', 1.0), ('rubber', 1.0), ('swearword', 1.0), ('infect', 1.0), ('10:16', 1.0), ('wrote', 1.0), ('gan', 1.0), ('brotherhood', 1.0), ('wolf', 1.0), ('pill', 1.0), ('nocturn', 1.0), ('rrp', 1.0), ('18.99', 1.0), ('13.99', 1.0), ('jah', 1.0), ('wobbl', 1.0), ('retard', 1.0), ('50notif', 1.0), ('check-up', 1.0), ('pun', 1.0), ('elit', 1.0), ('camillu', 1.0), ('pleasee', 1.0), ('spare', 1.0), ('tyre', 1.0), ('joke', 1.0), ('ahahah', 1.0), ('shame', 1.0), ('abandon', 1.0), ('disagre', 1.0), ('nowher', 1.0), ('contradict', 1.0), ('chao', 1.0), ('contain', 1.0), ('cranium', 1.0), ('sneaker', 1.0), ('nike', 1.0), ('nikeorigin', 1.0), ('nikeindonesia', 1.0), ('pierojogg', 1.0), ('skoy', 1.0), ('winter', 1.0), ('falkland', 1.0), ('jamie-le', 1.0), ('congraaat', 1.0), ('hooh', 1.0), ('chrome', 1.0), ('storm', 1.0), ('thunderstorm', 1.0), ('circuscircu', 1.0), ('omgg', 1.0), ('tdi', 1.0), ('(-:', 1.0), ('peter', 1.0), ('expel', 1.0), ('boughi', 1.0), ('kernel', 1.0), ('paralysi', 1.0), ('liza', 1.0), ('lol.hook', 1.0), ('vampir', 1.0), ('diari', 1.0), ('twice', 1.0), ('thanq', 1.0), ('goodwil', 1.0), ('vandr', 1.0), ('ash', 1.0), ('debat', 1.0), ('solar', 1.0), ('6-5', 1.0), ('shown', 1.0), ('ek', 1.0), ('taco', 1.0), ('mexico', 1.0), ('viva', 1.0), ('méxico', 1.0), ('burger', 1.0), ('thebestangkapuso', 1.0), ('lighter', 1.0), ('tooth', 1.0), ('korean', 1.0), ('netizen', 1.0), ('crueler', 1.0), ('eleph', 1.0), ('marula', 1.0), ('tdif', 1.0), ('shoutout', 1.0), ('shortli', 1.0), ('itsamarvelth', 1.0), (\"japan'\", 1.0), ('homework', 1.0), ('marco', 1.0), ('herb', 1.0), ('pm', 1.0), ('self', 1.0), ('esteem', 1.0), ('patienc', 1.0), ('sobtian', 1.0), ('cowork', 1.0), ('deathli', 1.0), ('hallow', 1.0), ('supernatur', 1.0), ('consult', 1.0), ('himach', 1.0), ('2.25', 1.0), ('asham', 1.0), ('where.do.i.start', 1.0), ('moviemarathon', 1.0), ('skill', 1.0), ('shadow', 1.0), ('own', 1.0), ('pair', 1.0), (\"it'll\", 1.0), ('cortez', 1.0), ('superstar', 1.0), ('tthank', 1.0), ('colin', 1.0), ('luxuou', 1.0), ('tarryn', 1.0), ('hbdme', 1.0), ('yeeeyyy', 1.0), ('barsostay', 1.0), ('males', 1.0), ('independ', 1.0), ('sum', 1.0), ('debacl', 1.0), ('perfectli', 1.0), ('longer', 1.0), ('amyjackson', 1.0), ('omegl', 1.0), ('countrymus', 1.0), ('five', 1.0), (\"night'\", 1.0), (\"freddy'\", 1.0), ('demo', 1.0), ('pump', 1.0), ('fanboy', 1.0), ('thegrandad', 1.0), ('sidni', 1.0), ('remarriag', 1.0), ('occas', 1.0), ('languag', 1.0), ('java', 1.0), (\"php'\", 1.0), ('notion', 1.0), ('refer', 1.0), ('confus', 1.0), ('ohioan', 1.0), ('stick', 1.0), ('doctor', 1.0), ('ambr', 1.0), ('suzan', 1.0), ('268', 1.0), ('offlin', 1.0), ('thesim', 1.0), ('madonnamademtv', 1.0), (\"c'mon\", 1.0), ('madonnafamili', 1.0), ('madonnafan', 1.0), ('beverli', 1.0), ('martin', 1.0), ('1277 1093', 1.0), ('mb', 1.0), ('meaningless', 1.0), ('common', 1.0), ('celebr', 1.0), ('muertosatfring', 1.0), ('_gta_giveaway', 1.0), ('624', 1.0), ('179', 1.0), ('emul', 1.0), ('brought', 1.0), ('enemi', 1.0), ('relax', 1.0), ('ou', 1.0), ('pink', 1.0), ('cc', 1.0), ('meooowww', 1.0), ('barkkkiiidee', 1.0), ('bark', 1.0), ('x11', 1.0), ('routin', 1.0), ('alek', 1.0), ('awh', 1.0), ('kumpul', 1.0), ('cantik', 1.0), ('ganteng', 1.0), ('kresna', 1.0), ('jelli', 1.0), ('simon', 1.0), ('lesley', 1.0), ('blood', 1.0), ('panti', 1.0), ('lion', 1.0), ('artworkbyli', 1.0), ('judo', 1.0), ('daredevil', 1.0), ('despond', 1.0), ('re-watch', 1.0), ('welcoma.hav', 1.0), ('favor', 1.0), ('tridon', 1.0), ('21pic', 1.0), ('master', 1.0), ('nim', 1.0), (\"there'r\", 1.0), ('22pic', 1.0), ('kebun', 1.0), ('ubud', 1.0), ('ladyposs', 1.0), ('xoxoxo', 1.0), ('sneak', 1.0), ('peek', 1.0), ('inbox', 1.0), ('happyweekend', 1.0), ('therealgolden', 1.0), ('47', 1.0), ('girlfriendsmya', 1.0), ('ppl', 1.0), ('closest', 1.0), ('njoy', 1.0), ('followingg', 1.0), ('privat', 1.0), ('pusher', 1.0), ('stun', 1.0), ('wooohooo', 1.0), ('cuss', 1.0), ('teenag', 1.0), ('ace', 1.0), ('sauc', 1.0), ('livi', 1.0), ('fowl', 1.0), ('oliviafowl', 1.0), ('891', 1.0), ('burnout', 1.0), ('johnforceo', 1.0), ('matthew', 1.0), ('provok', 1.0), ('indiankultur', 1.0), ('oppos', 1.0), ('biker', 1.0), ('lyk', 1.0), ('gud', 1.0), ('weight', 1.0), ('bcu', 1.0), ('rubbish', 1.0), ('veggi', 1.0), ('steph', 1.0), ('nj', 1.0), ('x10', 1.0), ('cohes', 1.0), ('gossip', 1.0), ('alex', 1.0), ('heswifi', 1.0), ('7am', 1.0), ('wub', 1.0), ('cerbchan', 1.0), ('jarraaa', 1.0), ('morrrn', 1.0), ('snooz', 1.0), ('clicksco', 1.0), ('gay', 1.0), ('lesbian', 1.0), ('rigid', 1.0), ('theocrat', 1.0), ('wing', 1.0), ('fundamentalist', 1.0), ('islamist', 1.0), ('brianaaa', 1.0), ('brianazabrocki', 1.0), ('sky', 1.0), ('batb', 1.0), ('clap', 1.0), ('whilst', 1.0), ('aki', 1.0), ('thencerest', 1.0), ('547', 1.0), ('indiemus', 1.0), ('sexyjudi', 1.0), ('pussi', 1.0), ('sexo', 1.0), ('humid', 1.0), ('87', 1.0), ('sloppi', 1.0), (\"second'\", 1.0), ('stock', 1.0), ('marmit', 1.0), ('x9', 1.0), ('nic', 1.0), ('taft', 1.0), ('finalist', 1.0), ('lotteri', 1.0), ('award', 1.0), ('usagi', 1.0), ('looov', 1.0), ('wowww', 1.0), ('💙', 1.0), ('💚', 1.0), ('💕', 1.0), ('lepa', 1.0), ('sembuh', 1.0), ('sibuk', 1.0), ('balik', 1.0), ('kin', 1.0), ('gotham', 1.0), ('sunnyday', 1.0), ('dudett', 1.0), ('cost', 1.0), ('flippin', 1.0), ('fortun', 1.0), ('divinediscont', 1.0), (';}', 1.0), ('amnot', 1.0), ('autofollow', 1.0), ('teamfollowback', 1.0), ('geer', 1.0), ('bat', 1.0), ('mz', 1.0), ('yang', 1.0), ('deennya', 1.0), ('jehwan', 1.0), ('11:00', 1.0), ('ashton', 1.0), ('✧', 1.0), ('｡', 1.0), ('chelni', 1.0), ('datz', 1.0), ('fmt', 1.0), ('dat', 1.0), ('heartbeat', 1.0), ('clutch', 1.0), ('🐢', 1.0), ('besteverdoctorwhoepisod', 1.0), ('relev', 1.0), ('puke', 1.0), ('proper', 1.0), ('x8', 1.0), ('sublimin', 1.0), ('eatmeat', 1.0), ('brewproject', 1.0), ('lovenafianna', 1.0), ('mr', 1.0), ('lewi', 1.0), ('clock', 1.0), ('3:02', 1.0), ('muslim', 1.0), ('prophet', 1.0), ('غردلي', 1.0), ('is.h', 1.0), ('mistak', 1.0), ('understood', 1.0), ('politician', 1.0), ('argu', 1.0), ('intellect', 1.0), ('shiva', 1.0), ('mp3', 1.0), ('standrew', 1.0), ('sandcastl', 1.0), ('ewok', 1.0), ('nate', 1.0), ('brawl', 1.0), ('rear', 1.0), ('nake', 1.0), ('choke', 1.0), ('heck', 1.0), ('gun', 1.0), ('associ', 1.0), ('um', 1.0), ('endow', 1.0), ('ai', 1.0), ('sikandar', 1.0), ('pti', 1.0), ('standwdik', 1.0), ('westandwithik', 1.0), ('starbuck', 1.0), ('logo', 1.0), ('renew', 1.0), ('chariti', 1.0), ('جمعة_مباركة', 1.0), ('hoki', 1.0), ('biz', 1.0), ('non', 1.0), ('america', 1.0), ('california', 1.0), ('01:16', 1.0), ('45gameplay', 1.0), ('ilovey', 1.0), ('vex', 1.0), ('iger', 1.0), ('leicaq', 1.0), ('leica', 1.0), ('dudee', 1.0), ('persona', 1.0), ('yepp', 1.0), ('5878e503', 1.0), ('x7', 1.0), ('greg', 1.0), ('posey', 1.0), ('miami', 1.0), ('james_yammouni', 1.0), ('breakdown', 1.0), ('materi', 1.0), ('thorin', 1.0), ('hunt', 1.0), ('choroo', 1.0), ('nahi', 1.0), ('aztec', 1.0), ('princess', 1.0), ('raini', 1.0), ('kingfish', 1.0), ('chinua', 1.0), ('acheb', 1.0), ('intellectu', 1.0), ('liquid', 1.0), ('melbournetrip', 1.0), ('taxikitchen', 1.0), ('nooow', 1.0), ('publish', 1.0), ('ebook', 1.0), ('self-publish', 1.0), ('mcdo', 1.0), ('everywher', 1.0), ('dreamer', 1.0), ('tanisha', 1.0), ('1nonli', 1.0), ('attitud', 1.0), ('kindl', 1.0), ('flame', 1.0), ('convict', 1.0), ('bar', 1.0), ('repath', 1.0), ('adi', 1.0), ('stefani', 1.0), ('sg1', 1.0), ('lightbox', 1.0), ('ran', 1.0), ('incorrect', 1.0), ('apologist', 1.0), ('x6', 1.0), ('vuli', 1.0), ('01:15', 1.0), ('batman', 1.0), ('pearson', 1.0), ('reput', 1.0), ('nikkei', 1.0), ('woodford', 1.0), ('vscocam', 1.0), ('vscoph', 1.0), ('vscogood', 1.0), ('vscophil', 1.0), ('vscocousin', 1.0), ('yaap', 1.0), ('urwelc', 1.0), ('neon', 1.0), ('pant', 1.0), ('haaa', 1.0), ('will', 1.0), ('auspost', 1.0), ('openfollow', 1.0), ('rp', 1.0), ('eng', 1.0), ('yūjō-cosplay', 1.0), ('luxembourg', 1.0), ('bunni', 1.0), ('broadcast', 1.0), ('needa', 1.0), ('gal', 1.0), ('bend', 1.0), ('heaven', 1.0), ('score', 1.0), ('januari', 1.0), ('hanabutl', 1.0), ('kikhorni', 1.0), ('interraci', 1.0), ('makeup', 1.0), ('chu', 1.0), (\"weekend'\", 1.0), ('punt', 1.0), ('horserac', 1.0), ('hors', 1.0), ('horseracingtip', 1.0), ('guitar', 1.0), ('cocoar', 1.0), ('brief', 1.0), ('introduct', 1.0), ('earliest', 1.0), ('indian', 1.0), ('subcontin', 1.0), ('bfr', 1.0), ('maurya', 1.0), ('jordanian', 1.0), ('00962778381', 1.0), ('838', 1.0), ('tenyai', 1.0), ('hee', 1.0), ('ss', 1.0), ('semi', 1.0), ('atp', 1.0), ('wimbledon', 1.0), ('feder', 1.0), ('nadal', 1.0), ('monfil', 1.0), ('handsom', 1.0), ('cilic', 1.0), ('firm', 1.0), ('potenti', 1.0), ('nyc', 1.0), ('chillin', 1.0), ('tail', 1.0), ('kitten', 1.0), ('garret', 1.0), ('baz', 1.0), ('leo', 1.0), ('xst', 1.0), ('centrifug', 1.0), ('etern', 1.0), ('forgiv', 1.0), ('kangin', 1.0), ('بندر', 1.0), ('العنزي', 1.0), ('kristin', 1.0), ('cass', 1.0), ('surajettan', 1.0), ('kashi', 1.0), ('ashwathi', 1.0), ('mommi', 1.0), ('tirth', 1.0), ('brambhatt', 1.0), ('snooker', 1.0), ('compens', 1.0), ('theoper', 1.0), ('479', 1.0), ('premiostumundo', 1.0), ('philosoph', 1.0), ('x5', 1.0), ('graphic', 1.0), ('level', 1.0), ('aug', 1.0), ('excl', 1.0), ('raw', 1.0), ('weeni', 1.0), ('annoyingbabi', 1.0), ('lazi', 1.0), ('cosi', 1.0), ('client_amends_edit', 1.0), ('_5_final_final_fin', 1.0), ('pdf', 1.0), ('mauliat', 1.0), ('ito', 1.0), ('okkay', 1.0), ('knock', 1.0), (\"soloist'\", 1.0), ('ryu', 1.0), ('saera', 1.0), ('pinkeu', 1.0), ('angri', 1.0), ('←', 1.0), ('aqui', 1.0), ('screencap', 1.0), ('jonghyun', 1.0), ('seungyeon', 1.0), ('cnblue', 1.0), ('mbc', 1.0), ('wgm', 1.0), ('masa', 1.0), ('entrepreneurship', 1.0), ('empow', 1.0), ('limpopo', 1.0), ('pict', 1.0), ('norapowel', 1.0), ('hornykik', 1.0), ('livesex', 1.0), ('pumpkin', 1.0), ('thrice', 1.0), ('patron', 1.0), ('ventur', 1.0), ('deathcur', 1.0), ('boob', 1.0), ('blame', 1.0), ('dine', 1.0), ('modern', 1.0), ('grill', 1.0), ('disk', 1.0), ('nt4', 1.0), ('iirc', 1.0), ('ux', 1.0), ('refin', 1.0), ('zdp', 1.0), ('didnt', 1.0), ('justic', 1.0), ('daw', 1.0), ('tine', 1.0), ('gensan', 1.0), ('frightl', 1.0), ('undead', 1.0), ('plush', 1.0), ('cushion', 1.0), ('nba', 1.0), ('2k15', 1.0), ('mypark', 1.0), ('chronicl', 1.0), ('gryph', 1.0), ('volum', 1.0), ('ellen', 1.0), ('degener', 1.0), ('shirt', 1.0), ('mint', 1.0), ('superdri', 1.0), ('berangkaat', 1.0), ('lagiii', 1.0), ('siguro', 1.0), ('un', 1.0), ('kesa', 1.0), ('lotsa', 1.0), ('organis', 1.0), ('4am', 1.0), ('fingers-cross', 1.0), ('deep', 1.0), ('htaccess', 1.0), ('file', 1.0), ('adf', 1.0), ('womad', 1.0), ('gran', 1.0), ('canaria', 1.0), ('gig', 1.0), ('twist', 1.0), ('youv', 1.0), ('teamnatur', 1.0), ('huni', 1.0), ('yayayayay', 1.0), ('yt', 1.0), ('convent', 1.0), ('brighton', 1.0), ('slay', 1.0), ('nicknam', 1.0), ('babygirl', 1.0), ('regard', 1.0), ('himmat', 1.0), ('karain', 1.0), ('baat', 1.0), ('meri', 1.0), ('hotee-mi', 1.0), ('uncl', 1.0), ('tongu', 1.0), ('pronounc', 1.0), ('nativ', 1.0), ('american', 1.0), ('proverb', 1.0), ('lovabl', 1.0), ('yesha', 1.0), ('montoya', 1.0), ('eagerli', 1.0), ('payment', 1.0), ('suprem', 1.0), ('leon', 1.0), ('ks', 1.0), ('randi', 1.0), ('9bi', 1.0), ('physiqu', 1.0), ('shave', 1.0), ('uncut', 1.0), ('boi', 1.0), ('cheapest', 1.0), ('regular', 1.0), ('printer', 1.0), ('nz', 1.0), ('larg', 1.0), ('format', 1.0), ('10/10', 1.0), ('senior', 1.0), ('raid', 1.0), ('conserv', 1.0), ('batteri', 1.0), ('comfort', 1.0), ('swt', 1.0), ('reservations@sandsbeach.eu', 1.0), ('localgaragederbi', 1.0), ('campu', 1.0), ('subgam', 1.0), ('faceit', 1.0), ('snpcaht', 1.0), ('hakhakhak', 1.0), ('t___t', 1.0), (\"kyungsoo'\", 1.0), ('3d', 1.0), ('properti', 1.0), ('agent', 1.0), ('accur', 1.0), ('descript', 1.0), ('theori', 1.0), ('x4', 1.0), ('marin', 1.0), ('underwat', 1.0), ('ocean', 1.0), ('15.90', 1.0), ('yvett', 1.0), ('author', 1.0), ('mwf', 1.0), ('programm', 1.0), ('taal', 1.0), ('lake', 1.0), ('2emt', 1.0), ('«', 1.0), ('scurri', 1.0), ('agil', 1.0), ('solut', 1.0), ('sme', 1.0), ('omar', 1.0), ('biggest', 1.0), ('kamaal', 1.0), ('amm', 1.0), ('3am', 1.0), ('hopehousekid', 1.0), ('pitmantrain', 1.0), ('walkersmithway', 1.0), ('keepitloc', 1.0), ('sehun', 1.0), ('se100lead', 1.0), ('unev', 1.0), ('sofa', 1.0), ('surf', 1.0), ('cunt', 1.0), ('rescoop', 1.0), ('multiraci', 1.0), ('fk', 1.0), ('narrow', 1.0), ('warlock', 1.0), ('balloon', 1.0), ('mj', 1.0), ('madison', 1.0), ('beonknockknock', 1.0), ('con-gradu', 1.0), ('gent', 1.0), ('bitchfac', 1.0), ('organ', 1.0), ('12pm', 1.0), ('york', 1.0), ('nearest', 1.0), ('lendal', 1.0), ('pikami', 1.0), ('captur', 1.0), ('fulton', 1.0), ('sheen', 1.0), ('baloney', 1.0), ('unvarnish', 1.0), ('laid', 1.0), ('thick', 1.0), ('blarney', 1.0), ('flatteri', 1.0), ('thin', 1.0), ('sachin', 1.0), ('unimport', 1.0), ('context', 1.0), ('dampen', 1.0), ('yu', 1.0), ('rocket', 1.0), ('narendra', 1.0), ('modi', 1.0), ('aaaand', 1.0), (\"team'\", 1.0), ('macauley', 1.0), ('howev', 1.0), ('x3', 1.0), ('wheeen', 1.0), ('heechul', 1.0), ('toast', 1.0), ('coffee-weekday', 1.0), ('9-11', 1.0), ('sail', 1.0), (\"friday'\", 1.0), ('commerci', 1.0), ('insur', 1.0), ('requir', 1.0), ('lookfortheo', 1.0), ('cl', 1.0), ('thou', 1.0), ('april', 1.0), ('airforc', 1.0), ('clark', 1.0), ('field', 1.0), ('pampanga', 1.0), ('hotairballoon', 1.0), ('troll', 1.0), ('⚡', 1.0), ('👏', 1.0), ('brow', 1.0), ('oili', 1.0), ('maricarljanah', 1.0), ('navi', 1.0), ('battlefield', 1.0), ('6:15', 1.0), ('degre', 1.0), ('fahrenheit', 1.0), ('🍸', 1.0), ('╲', 1.0), ('─', 1.0), ('╱', 1.0), ('🍤', 1.0), ('╭', 1.0), ('╮', 1.0), ('┓', 1.0), ('┳', 1.0), ('┣', 1.0), ('╰', 1.0), ('╯', 1.0), ('┗', 1.0), ('┻', 1.0), ('stool', 1.0), ('toppl', 1.0), ('findyourfit', 1.0), ('prefer', 1.0), ('whomosexu', 1.0), ('stack', 1.0), ('pandora', 1.0), ('digitalexet', 1.0), ('digitalmarket', 1.0), ('sociamedia', 1.0), ('nb', 1.0), ('bom', 1.0), ('dia', 1.0), ('todo', 1.0), ('forklift', 1.0), ('warehous', 1.0), ('worker', 1.0), ('lsceen', 1.0), ('immatur', 1.0), ('gandhi', 1.0), ('grassi', 1.0), ('feetblog', 1.0), ('infrar', 1.0), ('daughter', 1.0), ('4yr', 1.0), ('old-porridg', 1.0), ('fiend', 1.0), ('2nite', 1.0), ('comp', 1.0), ('vike', 1.0), ('t20blast', 1.0), ('np', 1.0), ('tax', 1.0), ('ooohh', 1.0), ('petjam', 1.0), ('virtual', 1.0), ('pounc', 1.0), ('bentek', 1.0), ('agn', 1.0), ('socialmedia@dpdgroup.co.uk', 1.0), ('sam', 1.0), ('fruiti', 1.0), ('vodka', 1.0), ('sellyourcarin', 1.0), ('5word', 1.0), ('chaloniklo', 1.0), ('pic.twitter.com/jxz2lbv6o', 1.0), (\"paperwhite'\", 1.0), ('laser-lik', 1.0), ('focu', 1.0), ('ghost', 1.0), ('tagsforlikesapp', 1.0), ('instagood', 1.0), ('tbt', 1.0), ('socket', 1.0), ('spanner', 1.0), ('😴', 1.0), ('pglcsgo', 1.0), ('x2', 1.0), ('crave', 1.0), ('slower', 1.0), ('sjw', 1.0), ('cakehamp', 1.0), ('glow', 1.0), ('yayyy', 1.0), ('merced', 1.0), ('hood', 1.0), ('badg', 1.0), ('host', 1.0), ('drone', 1.0), ('blow', 1.0), ('ignor', 1.0), ('retali', 1.0), ('bolling', 1.0), (\"where'\", 1.0), ('denmark', 1.0), ('whitey', 1.0), ('cultur', 1.0), ('course', 1.0), ('intro', 1.0), ('graphicdesign', 1.0), ('videograph', 1.0), ('space', 1.0), (\"ted'\", 1.0), ('bogu', 1.0), ('1000', 1.0), ('hahahaaah', 1.0), ('owli', 1.0), ('afternon', 1.0), ('whangarei', 1.0), ('kati', 1.0), ('paulin', 1.0), ('traffick', 1.0), ('wors', 1.0), ('henc', 1.0), ('express', 1.0), ('wot', 1.0), ('hand-lett', 1.0), ('roof', 1.0), ('eas', 1.0), ('2/2', 1.0), ('sour', 1.0), ('dough', 1.0), ('egypt', 1.0), ('hubbi', 1.0), ('sakin', 1.0), ('six', 1.0), ('christma', 1.0), ('avril', 1.0), ('n04j', 1.0), ('25', 1.0), ('prosecco', 1.0), ('pech', 1.0), ('micro', 1.0), ('catspj', 1.0), ('4:15', 1.0), ('lazyweekend', 1.0), ('overdu', 1.0), ('mice', 1.0), ('💃', 1.0), ('jurass', 1.0), ('ding', 1.0), ('nila', 1.0), ('8)', 1.0), ('cooki', 1.0), ('shir', 1.0), ('0', 1.0), ('hale', 1.0), ('cheshir', 1.0), ('decor', 1.0), ('lemm', 1.0), ('rec', 1.0), ('ingat', 1.0), ('din', 1.0), ('mono', 1.0), ('kathryn', 1.0), ('jr', 1.0), ('hsr', 1.0), ('base', 1.0), ('major', 1.0), ('sugarrush', 1.0), ('knit', 1.0), ('partli', 1.0), ('homegirl', 1.0), ('nanci', 1.0), ('fenja', 1.0), ('aapk', 1.0), ('benchmark', 1.0), ('ke', 1.0), ('hisaab', 1.0), ('ho', 1.0), ('gaya', 1.0), ('ofc', 1.0), ('rtss', 1.0), ('hwait', 1.0), ('titanfal', 1.0), ('xbox', 1.0), ('ultim', 1.0), ('gastronomi', 1.0), ('newblogpost', 1.0), ('foodiefriday', 1.0), ('foodi', 1.0), ('yoghurt', 1.0), ('pancak', 1.0), ('sabah', 1.0), ('kapima', 1.0), ('gelen', 1.0), ('guzel', 1.0), ('bir', 1.0), ('hediy', 1.0), ('thanx', 1.0), ('💞', 1.0), ('visa', 1.0), ('parisa', 1.0), ('epiphani', 1.0), ('lit', 1.0), ('em-con', 1.0), ('swore', 1.0), ('0330 333 7234', 1.0), ('kianweareproud', 1.0), ('distract', 1.0), ('dayofarch', 1.0), ('10-20', 1.0), ('bapu', 1.0), ('ivypowel', 1.0), ('newmus', 1.0), ('sexchat', 1.0), ('🍅', 1.0), ('pathway', 1.0), ('balkan', 1.0), ('gypsi', 1.0), ('mayhem', 1.0), ('burek', 1.0), ('meat', 1.0), ('gibanica', 1.0), ('pie', 1.0), ('surrey', 1.0), ('afterward', 1.0), ('10.30', 1.0), ('tempor', 1.0), ('void', 1.0), ('stem', 1.0), ('sf', 1.0), ('ykr', 1.0), ('sparki', 1.0), ('40mm', 1.0), ('3.5', 1.0), ('gr', 1.0), ('rockfish', 1.0), ('topwat', 1.0), ('twitlong', 1.0), ('me.so', 1.0), ('jummah', 1.0), ('durood', 1.0), ('pak', 1.0), ('cjradacomateada', 1.0), ('supris', 1.0), ('debut', 1.0), ('bebravetoday', 1.0), ('shipper', 1.0), ('asid', 1.0), ('housem', 1.0), ('737bigatingconcert', 1.0), ('jedzjabłka', 1.0), ('pijjabłka', 1.0), ('polish', 1.0), ('cider', 1.0), ('mustread', 1.0), ('cricket', 1.0), ('5pm', 1.0), ('queri', 1.0), ('abbi', 1.0), ('sumedh', 1.0), ('sunnah', 1.0), ('عن', 1.0), ('quad', 1.0), ('bike', 1.0), ('carri', 1.0), ('proprieti', 1.0), ('chronic', 1.0), ('superday', 1.0), ('chocolatey', 1.0), ('yasu', 1.0), ('ooooh', 1.0), ('hallo', 1.0), ('dylan', 1.0), ('laura', 1.0), ('patric', 1.0), ('keepin', 1.0), ('mohr', 1.0), ('guest', 1.0), (\"o'neal\", 1.0), ('tk', 1.0), ('lua', 1.0), ('stone', 1.0), ('quicker', 1.0), ('diet', 1.0), ('sosweet', 1.0), ('nominier', 1.0), ('und', 1.0), ('hardcor', 1.0), ('😌', 1.0), ('ff__special', 1.0), ('acha', 1.0), ('banda', 1.0), ('✌', 1.0), ('bhi', 1.0), ('krta', 1.0), ('beautifully-craft', 1.0), ('mockingbird', 1.0), ('diploma', 1.0), ('blend', 1.0), ('numbero', 1.0), ('lolz', 1.0), ('ambros', 1.0), ('gwinett', 1.0), ('bierc', 1.0), ('ravag', 1.0), ('illadvis', 1.0), ('marriag', 1.0), ('stare', 1.0), ('cynic', 1.0), ('yahuda', 1.0), ('nosmet', 1.0), ('poni', 1.0), ('cuuut', 1.0), (\"f'ing\", 1.0), ('vacant', 1.0), ('hauc', 1.0), ('lovesss', 1.0), ('hiss', 1.0), ('overnight', 1.0), ('cornish', 1.0), ('all-clear', 1.0), ('raincoat', 1.0), ('measur', 1.0), ('wealth', 1.0), ('invest', 1.0), ('garbi', 1.0), ('wash', 1.0), ('refuel', 1.0), ('dunedin', 1.0), ('kall', 1.0), ('rakhi', 1.0), ('12th', 1.0), ('repres', 1.0), ('slovenia', 1.0), ('fridg', 1.0), ('ludlow', 1.0), ('28th', 1.0), ('selway', 1.0), ('submit', 1.0), ('spanish', 1.0), ('90210', 1.0), ('oitnb', 1.0), ('prepar', 1.0), ('condit', 1.0), ('msged', 1.0), ('chiquito', 1.0), ('ohaha', 1.0), ('delhi', 1.0), ('95', 1.0), ('webtogsaward', 1.0), ('grace', 1.0), ('sheffield', 1.0), ('tramlin', 1.0), ('tl', 1.0), ('hack', 1.0), ('lad', 1.0), ('beeepin', 1.0), ('duper', 1.0), ('handl', 1.0), ('critiqu', 1.0), ('contectu', 1.0), ('ultor', 1.0), ('mamaya', 1.0), ('loiyal', 1.0), ('para', 1.0), ('truthfulwordsof', 1.0), ('beanatividad', 1.0), ('nknkkpagpapakumbaba', 1.0), ('birthdaypres', 1.0), ('compliment', 1.0), ('swerv', 1.0), ('goodtim', 1.0), ('sinist', 1.0), ('scare', 1.0), ('tryna', 1.0), ('anonym', 1.0), ('dipsatch', 1.0), ('aunt', 1.0), ('dagga', 1.0), ('burket', 1.0), ('2am', 1.0), ('twine', 1.0), (\"diane'\", 1.0), ('happybirthday', 1.0), ('thanksss', 1.0), ('randomli', 1.0), ('buckinghampalac', 1.0), ('chibi', 1.0), ('maker', 1.0), ('timog', 1.0), ('18th', 1.0), ('otw', 1.0), ('kami', 1.0), ('feelinggood', 1.0), ('demand', 1.0), ('naman', 1.0), ('barkin', 1.0), ('yeap', 1.0), ('onkey', 1.0), ('umma', 1.0), ('pervert', 1.0), ('onyu', 1.0), ('appa', 1.0), ('luci', 1.0), ('horribl', 1.0), ('quantum', 1.0), ('greater', 1.0), ('blockchain', 1.0), ('nowplay', 1.0), ('loftey', 1.0), ('routt', 1.0), ('assia', 1.0), ('.\\n.\\n.', 1.0), ('joint', 1.0), ('futurereleas', 1.0), (\"look'\", 1.0), ('scari', 1.0), ('murder', 1.0), ('mysteri', 1.0), ('comma', 1.0), (\"j'\", 1.0), ('hunni', 1.0), ('diva', 1.0), ('emili', 1.0), ('nathan', 1.0), ('pete', 1.0), ('medit', 1.0), ('alumni', 1.0), ('mba', 1.0), ('foto', 1.0), ('what-is-your-fashion', 1.0), ('lorenangel', 1.0), ('kw', 1.0), ('boatbound', 1.0), ('luxuri', 1.0), ('yacht', 1.0), ('mass', 1.0), ('tellanoldjokeday', 1.0), ('reqd', 1.0), ('specul', 1.0), ('consist', 1.0), ('tropic', 1.0), ('startupph', 1.0), ('zodiac', 1.0), ('rapunzel', 1.0), ('therver', 1.0), ('85552', 1.0), ('bestoftheday', 1.0), ('oralsex', 1.0), ('carli', 1.0), ('happili', 1.0), ('contract', 1.0), ('matsu_bouzu', 1.0), ('sonic', 1.0), ('videogam', 1.0), ('harana', 1.0), ('belfast', 1.0), ('danni', 1.0), ('rare', 1.0), ('sponsorship', 1.0), ('aswel', 1.0), ('gigi', 1.0), ('nick', 1.0), ('austin', 1.0), ('youll', 1.0), ('weak', 1.0), ('10,000', 1.0), ('bravo', 1.0), ('iamamonst', 1.0), ('rxthedailysurveyvot', 1.0), ('broke', 1.0), ('ass', 1.0), ('roux', 1.0), ('walkin', 1.0), ('audienc', 1.0), ('pfb', 1.0), ('jute', 1.0), ('walangmakakapigilsakin', 1.0), ('lori', 1.0), ('ehm', 1.0), ('trick', 1.0), ('baekhyun', 1.0), ('eyesmil', 1.0), ('borrow', 1.0), ('knive', 1.0), ('thek', 1.0), ('eventu', 1.0), ('reaapear', 1.0), ('kno', 1.0), ('whet', 1.0), ('gratti', 1.0), ('shorter', 1.0), ('tweetin', 1.0), ('inshallah', 1.0), ('banana', 1.0), ('raspberri', 1.0), ('healthylifestyl', 1.0), ('aint', 1.0), ('skate', 1.0), ('analyz', 1.0), ('varieti', 1.0), ('4:13', 1.0), ('insomnia', 1.0), ('medic', 1.0), ('opposit', 1.0), ('everlast', 1.0), ('yoga', 1.0), ('massag', 1.0), ('osteopath', 1.0), ('trainer', 1.0), ('sharm', 1.0), ('al_master_band', 1.0), ('tbc', 1.0), ('unives', 1.0), ('architectur', 1.0), ('random', 1.0), ('isnt', 1.0), ('typo', 1.0), ('snark', 1.0), ('lession', 1.0), ('drunk', 1.0), ('bruuh', 1.0), ('2week', 1.0), ('50europ', 1.0), ('🇫', 1.0), ('🇷', 1.0), ('iov', 1.0), ('accord', 1.0), ('mne', 1.0), ('pchelok', 1.0), ('ja', 1.0), ('=:', 1.0), ('sweetest', 1.0), ('comet', 1.0), ('ahah', 1.0), ('candi', 1.0), ('axio', 1.0), ('rabbit', 1.0), ('nutshel', 1.0), ('taken', 1.0), ('letshavecocktailsafternuclai', 1.0), ('malik', 1.0), ('umair', 1.0), ('canon', 1.0), ('gang', 1.0), ('grind', 1.0), ('thoracicbridg', 1.0), ('5minut', 1.0), ('nonscript', 1.0), ('password', 1.0), ('shoshannavassil', 1.0), ('addmeonsnapchat', 1.0), ('dmme', 1.0), ('mpoint', 1.0), ('soph', 1.0), ('hopeless', 0.0), ('tmr', 0.0), (':(', 0.0), ('everyth', 0.0), ('kid', 0.0), ('section', 0.0), ('ikea', 0.0), ('cute', 0.0), ('shame', 0.0), (\"i'm\", 0.0), ('nearli', 0.0), ('19', 0.0), ('2', 0.0), ('month', 0.0), ('heart', 0.0), ('slide', 0.0), ('wast', 0.0), ('basket', 0.0), ('“', 0.0), ('hate', 0.0), ('japanes', 0.0), ('call', 0.0), ('bani', 0.0), ('”', 0.0), ('dang', 0.0), ('start', 0.0), ('next', 0.0), ('week', 0.0), ('work', 0.0), ('oh', 0.0), ('god', 0.0), ('babi', 0.0), ('face', 0.0), ('make', 0.0), ('smile', 0.0), ('neighbour', 0.0), ('motor', 0.0), ('ask', 0.0), ('said', 0.0), ('updat', 0.0), ('search', 0.0), ('sialan', 0.0), ('athabasca', 0.0), ('glacier', 0.0), ('1948', 0.0), (':-(', 0.0), ('jasper', 0.0), ('jaspernationalpark', 0.0), ('alberta', 0.0), ('explorealberta', 0.0), ('…', 0.0), ('realli', 0.0), ('good', 0.0), ('g', 0.0), ('idea', 0.0), ('never', 0.0), ('go', 0.0), ('meet', 0.0), ('mare', 0.0), ('ivan', 0.0), ('happi', 0.0), ('trip', 0.0), ('keep', 0.0), ('safe', 0.0), ('see', 0.0), ('soon', 0.0), ('tire', 0.0), ('hahahah', 0.0), ('knee', 0.0), ('replac', 0.0), ('get', 0.0), ('day', 0.0), ('ouch', 0.0), ('relat', 0.0), ('sweet', 0.0), ('n', 0.0), ('sour', 0.0), ('kind', 0.0), ('bi-polar', 0.0), ('peopl', 0.0), ('life', 0.0), ('...', 0.0), ('cuz', 0.0), ('full', 0.0), ('pleass', 0.0), ('im', 0.0), ('sure', 0.0), ('tho', 0.0), ('feel', 0.0), ('stupid', 0.0), (\"can't\", 0.0), ('seem', 0.0), ('grasp', 0.0), ('basic', 0.0), ('digit', 0.0), ('paint', 0.0), ('noth', 0.0), (\"i'v\", 0.0), ('research', 0.0), ('help', 0.0), ('lord', 0.0), ('lone', 0.0), ('someon', 0.0), ('talk', 0.0), ('guy', 0.0), ('girl', 0.0), ('assign', 0.0), ('project', 0.0), ('😩', 0.0), ('want', 0.0), ('play', 0.0), ('video', 0.0), ('game', 0.0), ('watch', 0.0), ('movi', 0.0), ('choreograph', 0.0), ('hard', 0.0), ('email', 0.0), ('link', 0.0), ('still', 0.0), ('say', 0.0), ('longer', 0.0), ('avail', 0.0), ('cri', 0.0), ('bc', 0.0), ('miss', 0.0), ('mingm', 0.0), ('much', 0.0), ('sorri', 0.0), ('mom', 0.0), ('far', 0.0), ('away', 0.0), (\"we'r\", 0.0), ('truli', 0.0), ('flight', 0.0), ('friend', 0.0), ('happen', 0.0), ('sad', 0.0), ('dog', 0.0), ('pee', 0.0), ('’', 0.0), ('bag', 0.0), ('take', 0.0), ('newwin', 0.0), ('15', 0.0), ('doushit', 0.0), ('late', 0.0), ('suck', 0.0), ('sick', 0.0), ('plan', 0.0), ('first', 0.0), ('gundam', 0.0), ('night', 0.0), ('nope', 0.0), ('dollar', 0.0), ('😭', 0.0), ('listen', 0.0), ('back', 0.0), ('old', 0.0), ('show', 0.0), ('know', 0.0), ('weird', 0.0), ('got', 0.0), ('u', 0.0), ('leav', 0.0), ('might', 0.0), ('give', 0.0), ('pale', 0.0), ('imit', 0.0), ('went', 0.0), ('sea', 0.0), ('massiv', 0.0), ('fuck', 0.0), ('rash', 0.0), ('bodi', 0.0), ('pain', 0.0), ('thing', 0.0), ('ever', 0.0), ('home', 0.0), ('hi', 0.0), ('absent', 0.0), ('gran', 0.0), ('knew', 0.0), ('care', 0.0), ('tell', 0.0), ('love', 0.0), ('wish', 0.0), ('would', 0.0), ('sequel', 0.0), ('busi', 0.0), ('sa', 0.0), ('school', 0.0), ('time', 0.0), ('yah', 0.0), ('xx', 0.0), ('ouucchhh', 0.0), ('one', 0.0), ('wisdom', 0.0), ('teeth', 0.0), ('come', 0.0), ('frighten', 0.0), ('case', 0.0), ('pret', 0.0), ('wkwkw', 0.0), ('verfi', 0.0), ('activ', 0.0), ('forget', 0.0), ('follow', 0.0), ('member', 0.0), ('thank', 0.0), ('join', 0.0), ('goodby', 0.0), ('´', 0.0), ('chain', 0.0), ('—', 0.0), ('sentir-s', 0.0), ('incompleta', 0.0), ('okay', 0.0), ('..', 0.0), ('wednesday', 0.0), ('marvel', 0.0), ('thwart', 0.0), ('awh', 0.0), (\"what'\", 0.0), ('chanc', 0.0), ('zant', 0.0), ('need', 0.0), ('someth', 0.0), ('x', 0.0), (\"when'\", 0.0), ('birthday', 0.0), ('worst', 0.0), ('part', 0.0), ('bad', 0.0), ('audraesar', 0.0), ('sushi', 0.0), ('pic', 0.0), ('tl', 0.0), ('drive', 0.0), ('craaazzyy', 0.0), ('pop', 0.0), ('like', 0.0), ('helium', 0.0), ('balloon', 0.0), ('climatechang', 0.0), ('cc', 0.0), (\"california'\", 0.0), ('power', 0.0), ('influenti', 0.0), ('air', 0.0), ('pollut', 0.0), ('watchdog', 0.0), ('califor', 0.0), ('uniteblu', 0.0), ('tcot', 0.0), ('elhaida', 0.0), ('rob', 0.0), ('juri', 0.0), ('came', 0.0), ('10th', 0.0), ('televot', 0.0), ('idaho', 0.0), ('restrict', 0.0), ('fish', 0.0), ('despit', 0.0), ('region', 0.0), ('drought-link', 0.0), ('die-of', 0.0), ('abrupt', 0.0), ('climat', 0.0), ('chang', 0.0), ('may', 0.0), ('doom', 0.0), ('mammoth', 0.0), ('megafauna', 0.0), ('sc', 0.0), (\"australia'\", 0.0), ('dirtiest', 0.0), ('station', 0.0), ('consid', 0.0), ('clean', 0.0), ('energi', 0.0), ('biomass', 0.0), (\"ain't\", 0.0), ('easi', 0.0), ('green', 0.0), ('golf', 0.0), ('cours', 0.0), ('california', 0.0), ('ulti', 0.0), ('well', 0.0), ('mine', 0.0), ('gonna', 0.0), ('sexi', 0.0), ('prexi', 0.0), ('kindergarten', 0.0), ('hungri', 0.0), ('cant', 0.0), ('find', 0.0), ('book', 0.0), ('sane', 0.0), ('liter', 0.0), ('three', 0.0), ('loung', 0.0), ('event', 0.0), ('turn', 0.0), ('boss', 0.0), ('hozier', 0.0), (\"that'\", 0.0), ('true', 0.0), ('soooner', 0.0), ('ahh', 0.0), ('fam', 0.0), ('respectlost', 0.0), ('hypercholesteloremia', 0.0), ('ok', 0.0), ('look', 0.0), ('gift', 0.0), ('calibraska', 0.0), ('actual', 0.0), ('genuin', 0.0), ('contend', 0.0), ('head', 0.0), ('alway', 0.0), ('hurt', 0.0), ('stay', 0.0), ('lmao', 0.0), ('older', 0.0), ('sound', 0.0), ('upset', 0.0), ('infinit', 0.0), ('ao', 0.0), ('stick', 0.0), ('8th', 0.0), ('either', 0.0), ('seriou', 0.0), ('yun', 0.0), ('eh', 0.0), ('room', 0.0), ('way', 0.0), ('hot', 0.0), ('havent', 0.0), ('found', 0.0), ('handsom', 0.0), ('jack', 0.0), ('draw', 0.0), ('shit', 0.0), ('cut', 0.0), ('encor', 0.0), ('4thwin', 0.0), ('baymax', 0.0), ('french', 0.0), ('mixer', 0.0), ('💜', 0.0), ('wft', 0.0), ('awesom', 0.0), ('replay', 0.0), ('parti', 0.0), ('promot', 0.0), ('music', 0.0), ('bank', 0.0), ('short', 0.0), ('boy', 0.0), ('order', 0.0), ('receiv', 0.0), ('hub', 0.0), ('nearest', 0.0), ('deliv', 0.0), ('today', 0.0), ('1/2', 0.0), ('mum', 0.0), ('loud', 0.0), ('final', 0.0), ('parasyt', 0.0), ('alll', 0.0), ('zayniscomingbackonjuli', 0.0), ('26', 0.0), ('bye', 0.0), ('era', 0.0), ('。', 0.0), ('ω', 0.0), ('」', 0.0), ('∠', 0.0), ('):', 0.0), ('nathann', 0.0), ('💕', 0.0), ('hug', 0.0), ('😊', 0.0), ('beauti', 0.0), ('dieididieieiei', 0.0), ('stage', 0.0), ('mean', 0.0), ('hello', 0.0), ('lion', 0.0), ('think', 0.0), ('screw', 0.0), ('netflix', 0.0), ('chill', 0.0), ('di', 0.0), ('ervin', 0.0), ('ohh', 0.0), ('yeah', 0.0), ('hope', 0.0), ('accept', 0.0), ('offer', 0.0), ('desper', 0.0), ('year', 0.0), ('snapchat', 0.0), ('amargolonnard', 0.0), ('kikhorni', 0.0), ('snapm', 0.0), ('tagsforlik', 0.0), ('batalladelosgallo', 0.0), ('webcamsex', 0.0), ('ugh', 0.0), ('stream', 0.0), ('duti', 0.0), (\"u'v\", 0.0), ('gone', 0.0), ('alien', 0.0), ('aww', 0.0), ('wanna', 0.0), ('sorka', 0.0), ('funer', 0.0), ('text', 0.0), ('phone', 0.0), ('sunni', 0.0), ('nonexist', 0.0), ('wowza', 0.0), ('fah', 0.0), ('taylor', 0.0), ('crop', 0.0), ('boo', 0.0), ('count', 0.0), ('new', 0.0), ('guitar', 0.0), ('jonghyun', 0.0), ('hyung', 0.0), ('pleas', 0.0), ('predict', 0.0), ('sj', 0.0), ('nomin', 0.0), ('vs', 0.0), ('pl', 0.0), ('dude', 0.0), ('calm', 0.0), ('brace', 0.0), ('sir', 0.0), ('plu', 0.0), ('4', 0.0), ('shock', 0.0), ('omggg', 0.0), ('yall', 0.0), ('deserv', 0.0), ('whenev', 0.0), ('spend', 0.0), ('smoke', 0.0), ('end', 0.0), ('fall', 0.0), ('asleep', 0.0), ('1', 0.0), ('point', 0.0), ('close', 0.0), ('grand', 0.0), ('whyyi', 0.0), ('long', 0.0), ('must', 0.0), ('annoy', 0.0), ('evan', 0.0), ('option', 0.0), ('opt', 0.0), (\"who'\", 0.0), ('giveaway', 0.0), ('muster', 0.0), ('merch', 0.0), ('ah', 0.0), ('funni', 0.0), ('drink', 0.0), ('savanna', 0.0), ('straw', 0.0), ('ignor', 0.0), ('yester', 0.0), ('afternoon', 0.0), ('sleep', 0.0), ('ye', 0.0), ('sadli', 0.0), ('when', 0.0), ('album', 0.0), ('last', 0.0), ('chocol', 0.0), ('consum', 0.0), ('werk', 0.0), ('morn', 0.0), ('foreal', 0.0), ('wesen', 0.0), ('uwes', 0.0), ('mj', 0.0), ('😂', 0.0), ('catch', 0.0), ('onlin', 0.0), ('enough', 0.0), ('haha', 0.0), (\"he'\", 0.0), ('bosen', 0.0), ('die', 0.0), ('egg', 0.0), ('benni', 0.0), ('sometim', 0.0), ('followback', 0.0), ('huhu', 0.0), ('understand', 0.0), ('badli', 0.0), ('scare', 0.0), ('>:(', 0.0), ('al', 0.0), ('kati', 0.0), ('zaz', 0.0), ('ami', 0.0), ('lot', 0.0), ('sub', 0.0), ('plz', 0.0), ('diari', 0.0), ('read', 0.0), ('rehash', 0.0), ('websit', 0.0), ('mushroom', 0.0), ('piec', 0.0), ('except', 0.0), ('reach', 0.0), ('anyway', 0.0), ('vicki', 0.0), ('omg', 0.0), ('wtf', 0.0), ('lip', 0.0), ('virgin', 0.0), ('your', 0.0), ('45', 0.0), ('hahah', 0.0), ('ninasti', 0.0), ('tsktsk', 0.0), ('oppa', 0.0), ('wont', 0.0), ('dick', 0.0), ('kawaii', 0.0), ('manli', 0.0), ('xbox', 0.0), ('alreadi', 0.0), ('comfi', 0.0), ('bed', 0.0), ('youu', 0.0), ('sigh', 0.0), ('lol', 0.0), ('potato', 0.0), ('fri', 0.0), ('guess', 0.0), (\"y'all\", 0.0), ('ugli', 0.0), ('asf', 0.0), ('huh', 0.0), ('eish', 0.0), ('ive', 0.0), ('quit', 0.0), ('lost', 0.0), ('twitter', 0.0), ('mojo', 0.0), ('dont', 0.0), ('mara', 0.0), ('neh', 0.0), ('fever', 0.0), ('<3', 0.0), ('poor', 0.0), ('bb', 0.0), ('abl', 0.0), ('associ', 0.0), ('councillor', 0.0), ('confer', 0.0), ('weekend', 0.0), ('skype', 0.0), ('account', 0.0), ('hack', 0.0), ('contact', 0.0), ('creat', 0.0), ('tweet', 0.0), ('spree', 0.0), ('na', 0.0), ('sholong', 0.0), ('reject', 0.0), ('propos', 0.0), ('gee', 0.0), ('fli', 0.0), ('gidi', 0.0), ('pamper', 0.0), ('lago', 0.0), ('ehn', 0.0), ('arrest', 0.0), ('girlfriend', 0.0), ('he', 0.0), ('nice', 0.0), ('person', 0.0), ('idk', 0.0), ('anybodi', 0.0), ('song', 0.0), ('disappear', 0.0), ('itun', 0.0), ('daze', 0.0), ('confus', 0.0), ('surviv', 0.0), ('fragment', 0.0), (\"would'v\", 0.0), ('forc', 0.0), ('horribl', 0.0), ('weather', 0.0), ('us', 0.0), ('could', 0.0), ('walao', 0.0), ('kb', 0.0), ('send', 0.0), ('ill', 0.0), ('djderek', 0.0), ('mani', 0.0), ('fun', 0.0), ('gig', 0.0), ('absolut', 0.0), ('legend', 0.0), ('wait', 0.0), ('till', 0.0), ('saturday', 0.0), ('homework', 0.0), ('pa', 0.0), ('made', 0.0), ('da', 0.0), ('greek', 0.0), ('tragedi', 0.0), ('rain', 0.0), ('gym', 0.0), ('💪', 0.0), ('🏻', 0.0), ('🐒', 0.0), ('what', 0.0), ('wrong', 0.0), ('struck', 0.0), ('anymor', 0.0), ('belgium', 0.0), ('fabian', 0.0), ('delph', 0.0), ('fallen', 0.0), ('hide', 0.0), ('drake', 0.0), ('silent', 0.0), ('hear', 0.0), ('rest', 0.0), ('peac', 0.0), ('mo', 0.0), ('tonight', 0.0), ('t20blast', 0.0), ('ahhh', 0.0), ('wake', 0.0), ('mumma', 0.0), ('7', 0.0), ('dead', 0.0), ('tomorrow', 0.0), (\"i'll\", 0.0), ('high', 0.0), ('low', 0.0), ('pray', 0.0), ('appropri', 0.0), ('. . .', 0.0), ('awak', 0.0), ('woke', 0.0), ('upp', 0.0), ('dm', 0.0), ('luke', 0.0), ('hey', 0.0), ('babe', 0.0), ('across', 0.0), ('hindi', 0.0), ('reaction', 0.0), ('5s', 0.0), ('run', 0.0), ('space', 0.0), ('tbh', 0.0), ('disabl', 0.0), ('pension', 0.0), ('ptsd', 0.0), ('imposs', 0.0), ('physic', 0.0), ('financi', 0.0), ('nooo', 0.0), ('broke', 0.0), ('soo', 0.0), ('amaz', 0.0), ('toghet', 0.0), ('around', 0.0), ('p', 0.0), ('hold', 0.0), ('anoth', 0.0), ('septemb', 0.0), ('21st', 0.0), ('snsd', 0.0), ('interact', 0.0), ('anna', 0.0), ('akana', 0.0), ('askip', 0.0), (\"t'exist\", 0.0), ('channel', 0.0), ('owner', 0.0), ('decid', 0.0), ('broadcast', 0.0), ('kei', 0.0), ('rate', 0.0), ('se', 0.0), ('notic', 0.0), ('exist', 0.0), ('traffic', 0.0), ('terribl', 0.0), ('eye', 0.0), ('small', 0.0), ('kate', 0.0), ('spade', 0.0), ('pero', 0.0), ('walang', 0.0), ('maganda', 0.0), ('aw', 0.0), ('seen', 0.0), ('agesss', 0.0), ('add', 0.0), ('corinehurleigh', 0.0), ('snapchatm', 0.0), ('instagram', 0.0), ('addmeonsnapchat', 0.0), ('sf', 0.0), ('quot', 0.0), ('kiksext', 0.0), ('bum', 0.0), ('zara', 0.0), ('trouser', 0.0), ('effect', 0.0), ('spanish', 0.0), (\"it'okay\", 0.0), ('health', 0.0), ('luck', 0.0), ('freed', 0.0), ('rock', 0.0), ('orcalov', 0.0), ('tri', 0.0), ('result', 0.0), ('big', 0.0), ('cuddl', 0.0), ('lew', 0.0), ('kiss', 0.0), ('em', 0.0), ('crave', 0.0), ('banana', 0.0), ('crumbl', 0.0), ('mcflurri', 0.0), ('cabl', 0.0), ('car', 0.0), ('brother', 0.0), (\"venus'\", 0.0), ('concept', 0.0), ('rli', 0.0), ('tea', 0.0), ('tagal', 0.0), (\"we'v\", 0.0), ('appoint', 0.0), (\"i'd\", 0.0), ('sinc', 0.0), (\"there'\", 0.0), ('milk', 0.0), ('left', 0.0), ('cereal', 0.0), ('via', 0.0), ('film', 0.0), ('date', 0.0), ('previou', 0.0), ('73', 0.0), ('user', 0.0), ('everywher', 0.0), ('fansign', 0.0), ('photo', 0.0), ('expens', 0.0), ('zzzz', 0.0), ('let', 0.0), ('sun', 0.0), ('yet', 0.0), (\"bff'\", 0.0), ('extrem', 0.0), ('stress', 0.0), ('anyth', 0.0), ('win', 0.0), (\"deosn't\", 0.0), ('liverpool', 0.0), ('pool', 0.0), ('though', 0.0), ('bro', 0.0), ('great', 0.0), ('news', 0.0), ('self', 0.0), ('esteem', 0.0), ('lowest', 0.0), ('better', 0.0), ('tacki', 0.0), ('taken', 0.0), ('man', 0.0), ('lucki', 0.0), ('charm', 0.0), ('haaretz', 0.0), ('israel', 0.0), ('syria', 0.0), ('continu', 0.0), ('develop', 0.0), ('chemic', 0.0), ('weapon', 0.0), ('offici', 0.0), ('wsj', 0.0), ('rep', 0.0), ('bt', 0.0), ('mr', 0.0), ('wong', 0.0), ('confisc', 0.0), ('art', 0.0), ('thought', 0.0), ('icepack', 0.0), ('dose', 0.0), ('killer', 0.0), ('board', 0.0), ('whimper', 0.0), ('fan', 0.0), ('senpai', 0.0), ('buttsex', 0.0), ('joke', 0.0), ('headlin', 0.0), (\"dn't\", 0.0), ('brk', 0.0), (\":'(\", 0.0), ('hit', 0.0), ('voic', 0.0), ('falsetto', 0.0), ('zone', 0.0), ('leannerin', 0.0), ('hornykik', 0.0), ('loveofmylif', 0.0), ('dmme', 0.0), ('pussi', 0.0), ('newmus', 0.0), ('sexo', 0.0), ('s2', 0.0), ('spain', 0.0), ('delay', 0.0), ('kill', 0.0), ('singl', 0.0), ('untruth', 0.0), ('cross', 0.0), ('countri', 0.0), ('ij', 0.0), ('💥', 0.0), ('✨', 0.0), ('💫', 0.0), ('bear', 0.0), ('littl', 0.0), ('apart', 0.0), ('live', 0.0), ('soshi', 0.0), ('didnt', 0.0), ('buttt', 0.0), ('congrat', 0.0), ('sunday', 0.0), ('friday', 0.0), ('shoulda', 0.0), ('move', 0.0), ('w', 0.0), ('caus', 0.0), (\"they'r\", 0.0), ('heyyy', 0.0), ('yeol', 0.0), ('solo', 0.0), ('dancee', 0.0), ('inter', 0.0), ('nemanja', 0.0), ('vidic', 0.0), ('roma', 0.0), (\"mom'\", 0.0), ('linguist', 0.0), (\"dad'\", 0.0), ('comput', 0.0), ('scientist', 0.0), ('dumbest', 0.0), ('famili', 0.0), ('broken', 0.0), ('ice', 0.0), ('cream', 0.0), ('pour', 0.0), ('crash', 0.0), ('scienc', 0.0), ('resourc', 0.0), ('vehicl', 0.0), ('ate', 0.0), ('ayex', 0.0), ('eat', 0.0), ('swear', 0.0), ('lamon', 0.0), ('scroll', 0.0), ('curv', 0.0), ('😉', 0.0), ('cement', 0.0), ('cast', 0.0), ('10.3', 0.0), ('k', 0.0), ('sign', 0.0), ('zayn', 0.0), ('bot', 0.0), ('mention', 0.0), ('jmu', 0.0), ('camp', 0.0), ('teas', 0.0), ('sweetest', 0.0), ('awuna', 0.0), ('mbulelo', 0.0), ('match', 0.0), ('pig', 0.0), ('although', 0.0), ('crackl', 0.0), ('nois', 0.0), ('plug', 0.0), ('fuse', 0.0), ('dammit', 0.0), ('tip', 0.0), ('carlton', 0.0), ('aflblueshawk', 0.0), (\"alex'\", 0.0), ('hous', 0.0), ('motorsport', 0.0), ('seri', 0.0), ('disc', 0.0), ('right', 0.0), ('cheeki', 0.0), ('j', 0.0), ('instead', 0.0), ('seo', 0.0), ('nl', 0.0), ('bud', 0.0), ('christi', 0.0), ('xo', 0.0), ('niec', 0.0), ('summer', 0.0), ('bloodi', 0.0), ('sandwhich', 0.0), ('buset', 0.0), ('discrimin', 0.0), ('five', 0.0), ('learn', 0.0), ('pregnanc', 0.0), ('foot', 0.0), ('f', 0.0), ('matern', 0.0), ('kick', 0.0), ('domesticviol', 0.0), ('law', 0.0), ('domest', 0.0), ('violenc', 0.0), ('victim', 0.0), ('98fm', 0.0), ('vaw', 0.0), ('exactli', 0.0), ('unfortun', 0.0), ('yesterday', 0.0), ('uk', 0.0), ('govern', 0.0), ('sapiosexu', 0.0), ('damn', 0.0), ('beta', 0.0), ('12', 0.0), ('hour', 0.0), ('world', 0.0), ('hulk', 0.0), ('hogan', 0.0), ('scrub', 0.0), ('wwe', 0.0), ('histori', 0.0), ('iren', 0.0), ('mistak', 0.0), ('naa', 0.0), ('sold', 0.0), ('h_my_k', 0.0), ('lose', 0.0), ('valentin', 0.0), ('et', 0.0), (\"r'ship\", 0.0), ('btwn', 0.0), ('homo', 0.0), ('biphob', 0.0), ('comment', 0.0), ('certain', 0.0), ('disciplin', 0.0), ('incl', 0.0), ('european', 0.0), ('lang', 0.0), ('lit', 0.0), ('educ', 0.0), ('fresherstofin', 0.0), ('💔', 0.0), ('dream', 0.0), ('gettin', 0.0), ('realist', 0.0), ('thx', 0.0), ('real', 0.0), ('isnt', 0.0), ('prefer', 0.0), ('benzema', 0.0), ('hahahahahaah', 0.0), ('donno', 0.0), ('korean', 0.0), ('languag', 0.0), ('russian', 0.0), ('waaa', 0.0), ('eidwithgrof', 0.0), ('boreddd', 0.0), ('mug', 0.0), ('piss', 0.0), ('tiddler', 0.0), ('silli', 0.0), ('least', 0.0), ('card', 0.0), ('chorong', 0.0), ('leader', 0.0), ('에이핑크', 0.0), ('더쇼', 0.0), ('clan', 0.0), ('slot', 0.0), ('open', 0.0), ('pfff', 0.0), ('privat', 0.0), ('bugbounti', 0.0), ('self-xss', 0.0), ('host', 0.0), ('header', 0.0), ('poison', 0.0), ('code', 0.0), ('execut', 0.0), ('ktksbye', 0.0), ('connect', 0.0), ('compani', 0.0), ('alert', 0.0), ('cancel', 0.0), ('uber', 0.0), ('everyon', 0.0), ('els', 0.0), ('offic', 0.0), ('ahahah', 0.0), ('petit', 0.0), ('relationship', 0.0), ('height', 0.0), ('cost', 0.0), ('600', 0.0), ('£', 0.0), ('secur', 0.0), ('odoo', 0.0), ('8', 0.0), ('partner', 0.0), ('commun', 0.0), ('spirit', 0.0), ('jgh', 0.0), ('effin', 0.0), ('facebook', 0.0), ('anyon', 0.0), (\"else'\", 0.0), ('box', 0.0), ('ap', 0.0), ('stori', 0.0), ('london', 0.0), ('imagin', 0.0), ('elsewher', 0.0), ('someday', 0.0), ('ben', 0.0), ('provid', 0.0), ('name', 0.0), ('branch', 0.0), ('visit', 0.0), ('address', 0.0), ('concern', 0.0), ('welsh', 0.0), ('pod', 0.0), ('juli', 0.0), ('laura', 0.0), ('insid', 0.0), ('train', 0.0), ('D;', 0.0), ('talk-kama', 0.0), ('hawako', 0.0), ('waa', 0.0), ('kimaaani', 0.0), ('prisss', 0.0), ('baggag', 0.0), ('claim', 0.0), ('plane', 0.0), ('niamh', 0.0), ('forev', 0.0), ('hmmm', 0.0), ('sugar', 0.0), ('rare', 0.0), ('paper', 0.0), ('town', 0.0), ('score', 0.0), ('stuck', 0.0), ('agh', 0.0), ('middl', 0.0), ('undercoverboss', 0.0), ('تكفى', 0.0), ('10', 0.0), ('job', 0.0), ('cat', 0.0), ('forgotten', 0.0), ('yep', 0.0), ('stop', 0.0), ('ach', 0.0), ('wrist', 0.0), ('nake', 0.0), ('forgot', 0.0), ('bracelet', 0.0), ('ligo', 0.0), ('dozen', 0.0), ('parent', 0.0), ('children', 0.0), ('shark', 0.0), ('selfi', 0.0), ('heartach', 0.0), ('zayniscomingback', 0.0), ('mix', 0.0), ('sweden', 0.0), ('breath', 0.0), ('moment', 0.0), ('word', 0.0), ('elmhurst', 0.0), ('fc', 0.0), ('etid', 0.0), (\"chillin'with\", 0.0), ('father', 0.0), ('istanya', 0.0), ('2suppli', 0.0), ('extra', 0.0), ('infrastructur', 0.0), ('teacher', 0.0), ('doctor', 0.0), ('nurs', 0.0), ('paramed', 0.0), ('countless', 0.0), ('2cope', 0.0), ('pasha', 0.0), ('donat', 0.0), ('bore', 0.0), ('plea', 0.0), ('arian', 0.0), ('hahahaha', 0.0), ('slr', 0.0), ('kendal', 0.0), ('kyli', 0.0), (\"kylie'\", 0.0), ('manila', 0.0), ('jeebu', 0.0), ('reabsorbt', 0.0), ('tooth', 0.0), ('abscess', 0.0), ('threaten', 0.0), ('affect', 0.0), ('front', 0.0), ('crown', 0.0), ('ooouch', 0.0), ('barney', 0.0), (\"be'\", 0.0), ('yo', 0.0), ('later', 0.0), ('realis', 0.0), ('problemat', 0.0), ('expect', 0.0), ('proud', 0.0), ('mess', 0.0), ('maa', 0.0), ('without', 0.0), ('bangalor', 0.0), ('awww', 0.0), ('lui', 0.0), ('manzano', 0.0), ('shaaa', 0.0), ('super', 0.0), ('7th', 0.0), ('conven', 0.0), ('2:30', 0.0), ('pm', 0.0), ('forward', 0.0), ('delet', 0.0), ('turkey', 0.0), ('bomb', 0.0), ('isi', 0.0), ('allow', 0.0), ('usa', 0.0), ('use', 0.0), ('airfield', 0.0), ('jet', 0.0), (\"jack'\", 0.0), ('spam', 0.0), ('sooo', 0.0), ('☺', 0.0), (\"mommy'\", 0.0), ('reason', 0.0), ('overweight', 0.0), ('sigeg', 0.0), ('habhab', 0.0), ('masud', 0.0), ('kaha', 0.0), ('ko', 0.0), ('akong', 0.0), ('un', 0.0), ('hella', 0.0), ('matter', 0.0), ('pala', 0.0), ('hahaha', 0.0), ('lesson', 0.0), ('dolphin', 0.0), ('xxx', 0.0), ('holi', 0.0), ('anythin', 0.0), ('trend', 0.0), ('radio', 0.0), ('sing', 0.0), ('bewar', 0.0), ('agonis', 0.0), ('experi', 0.0), ('ahead', 0.0), ('modimo', 0.0), ('ho', 0.0), ('tseba', 0.0), ('wena', 0.0), ('fela', 0.0), ('emot', 0.0), ('hubbi', 0.0), ('delight', 0.0), ('return', 0.0), ('bill', 0.0), ('nowt', 0.0), ('wors', 0.0), ('willi', 0.0), ('gon', 0.0), ('vomit', 0.0), ('famou', 0.0), ('bowl', 0.0), ('devast', 0.0), ('titan', 0.0), ('ae', 0.0), ('mark', 0.0), ('hair', 0.0), ('shini', 0.0), ('wavi', 0.0), ('emo', 0.0), ('germani', 0.0), ('load', 0.0), ('shed', 0.0), ('ha', 0.0), ('bheyp', 0.0), ('ayemso', 0.0), ('ear', 0.0), ('swell', 0.0), ('sm', 0.0), ('fb', 0.0), ('remind', 0.0), ('abt', 0.0), ('womad', 0.0), ('wut', 0.0), ('hell', 0.0), ('viciou', 0.0), ('circl', 0.0), ('surpris', 0.0), ('ticket', 0.0), ('codi', 0.0), ('simpson', 0.0), ('concert', 0.0), ('singapor', 0.0), ('august', 0.0), ('spinorbinmusicxcodysimpson', 0.0), ('pooo', 0.0), ('bh3', 0.0), ('enter', 0.0), ('pitchwar', 0.0), ('chap', 0.0), (\"mine'\", 0.0), ('transcript', 0.0), (\"apma'\", 0.0), ('shoulder', 0.0), ('bitch', 0.0), ('competit', 0.0), (\"it'll\", 0.0), ('fine', 0.0), ('timw', 0.0), ('acc', 0.0), ('rude', 0.0), ('vitamin', 0.0), ('e', 0.0), ('oil', 0.0), ('massag', 0.0), ('everyday', 0.0), ('healthier', 0.0), ('easier', 0.0), ('stretch', 0.0), ('choos', 0.0), ('blockjam', 0.0), (\"schedule'\", 0.0), ('whack', 0.0), ('kik', 0.0), ('thelock', 0.0), ('76', 0.0), ('sex', 0.0), ('omegl', 0.0), ('coupl', 0.0), ('travel', 0.0), ('hotgirl', 0.0), ('2009', 0.0), ('3', 0.0), ('ghantay', 0.0), ('light', 0.0), ('nai', 0.0), ('hay', 0.0), ('deni', 0.0), ('ruin', 0.0), ('laguna', 0.0), ('exit', 0.0), ('gomen', 0.0), ('heck', 0.0), ('fair', 0.0), ('grew', 0.0), ('half', 0.0), ('inch', 0.0), ('two', 0.0), ('problem', 0.0), ('suuuper', 0.0), ('65', 0.0), ('sale', 0.0), ('inact', 0.0), ('orphan', 0.0), ('black', 0.0), ('earlier', 0.0), ('whaaat', 0.0), ('kaya', 0.0), ('naaan', 0.0), ('paus', 0.0), ('randomli', 0.0), ('app', 0.0), ('3:30', 0.0), ('walk', 0.0), ('inglewood', 0.0), ('ummm', 0.0), ('anxieti', 0.0), ('readi', 0.0), ('also', 0.0), ('charcoal', 0.0), ('til', 0.0), ('mid-end', 0.0), ('aug', 0.0), ('noooo', 0.0), ('heard', 0.0), ('rip', 0.0), ('rodfanta', 0.0), ('wasp', 0.0), ('sting', 0.0), ('avert', 0.0), ('bug', 0.0), ('(:', 0.0), ('exo', 0.0), ('seekli', 0.0), ('riptito', 0.0), ('manbearpig', 0.0), ('cannot', 0.0), ('grow', 0.0), ('shorter', 0.0), ('academ', 0.0), ('free', 0.0), ('exclus', 0.0), ('unfair', 0.0), ('esp', 0.0), ('regard', 0.0), ('current', 0.0), ('bleak', 0.0), ('german', 0.0), ('chart', 0.0), ('situat', 0.0), ('entri', 0.0), ('even', 0.0), ('top', 0.0), ('100', 0.0), ('pfft', 0.0), ('place', 0.0), ('white', 0.0), ('wash', 0.0), ('polaroid', 0.0), ('newbethvideo', 0.0), ('greec', 0.0), ('xur', 0.0), ('imi', 0.0), ('fill', 0.0), ('♡', 0.0), ('♥', 0.0), ('xoxoxo', 0.0), ('pictur', 0.0), ('stud', 0.0), ('hund', 0.0), ('6', 0.0), ('kikchat', 0.0), ('amazon', 0.0), ('3.4', 0.0), ('yach', 0.0), ('telat', 0.0), ('huvvft', 0.0), ('zoo', 0.0), ('fieldtrip', 0.0), ('touch', 0.0), ('yan', 0.0), ('posit', 0.0), ('king', 0.0), ('futur', 0.0), ('sizw', 0.0), ('write', 0.0), ('20', 0.0), ('km', 0.0), ('four', 0.0), ('shift', 0.0), ('aaahhh', 0.0), ('boredom', 0.0), ('en', 0.0), ('aint', 0.0), ('who', 0.0), ('sins', 0.0), ('that', 0.0), ('somehow', 0.0), ('tini', 0.0), ('ball', 0.0), ('barbel', 0.0), ('owww', 0.0), ('amsterdam', 0.0), ('luv', 0.0), ('💖', 0.0), ('ps', 0.0), ('looong', 0.0), ('especi', 0.0), (':/', 0.0), ('lap', 0.0), ('litro', 0.0), ('shepherd', 0.0), ('lami', 0.0), ('mayb', 0.0), ('relax', 0.0), ('lungomar', 0.0), ('pesaro', 0.0), ('giachietittiwed', 0.0), ('igersoftheday', 0.0), ('summertim', 0.0), ('nose', 0.0), ('bruis', 0.0), ('lil', 0.0), ('snake', 0.0), ('journey', 0.0), ('scarf', 0.0), ('au', 0.0), ('afford', 0.0), ('fridayfeel', 0.0), ('earli', 0.0), ('money', 0.0), ('chicken', 0.0), ('woe', 0.0), ('nigga', 0.0), ('motn', 0.0), ('make-up', 0.0), ('justic', 0.0), ('import', 0.0), ('sit', 0.0), ('mind', 0.0), ('buy', 0.0), ('limit', 0.0), ('ver', 0.0), ('normal', 0.0), ('edit', 0.0), ('huhuhu', 0.0), ('stack', 0.0), (\"m'ladi\", 0.0), ('j8', 0.0), ('j11', 0.0), ('m20', 0.0), ('jk', 0.0), ('acad', 0.0), ('schedul', 0.0), ('nowww', 0.0), ('cop', 0.0), ('jame', 0.0), ('window', 0.0), ('hugh', 0.0), ('paw', 0.0), ('muddi', 0.0), ('distract', 0.0), ('heyi', 0.0), ('otherwis', 0.0), ('picnic', 0.0), ('24', 0.0), ('cupcak', 0.0), ('talaga', 0.0), ('best', 0.0), ('femal', 0.0), ('poppin', 0.0), ('joc', 0.0), ('playin', 0.0), ('saw', 0.0), ('fix', 0.0), ('coldplay', 0.0), ('media', 0.0), ('player', 0.0), ('fail', 0.0), ('subj', 0.0), ('sobrang', 0.0), ('bv', 0.0), ('zamn', 0.0), ('line', 0.0), ('afropunk', 0.0), ('fest', 0.0), ('brooklyn', 0.0), ('id', 0.0), ('put', 0.0), ('50', 0.0), ('madrid', 0.0), ('shithous', 0.0), ('cutest', 0.0), ('danc', 0.0), ('ur', 0.0), ('arm', 0.0), ('rais', 0.0), ('hand', 0.0), ('ladder', 0.0), ('told', 0.0), ('climb', 0.0), ('success', 0.0), ('nerv', 0.0), ('wrack', 0.0), ('test', 0.0), ('booset', 0.0), ('restart', 0.0), ('assassin', 0.0), ('creed', 0.0), ('ii', 0.0), ('heap', 0.0), ('fell', 0.0), ('daughter', 0.0), ('begin', 0.0), ('ps3', 0.0), ('ankl', 0.0), ('step', 0.0), ('puddl', 0.0), ('wear', 0.0), ('slipper', 0.0), ('eve', 0.0), ('bbi', 0.0), ('sararoc', 0.0), ('angri', 0.0), ('pretti', 0.0), ('fnaf', 0.0), ('holiday', 0.0), ('cheer', 0.0), ('😘', 0.0), ('anywayhedidanicejob', 0.0), ('😞', 0.0), ('3am', 0.0), ('other', 0.0), ('local', 0.0), ('cruis', 0.0), ('done', 0.0), ('doubl', 0.0), ('wail', 0.0), ('manual', 0.0), ('wheelchair', 0.0), ('check', 0.0), ('fit', 0.0), ('nh', 0.0), ('26week', 0.0), ('sbenu', 0.0), ('sasin', 0.0), ('team', 0.0), ('anarchi', 0.0), ('af', 0.0), ('candl', 0.0), ('forehead', 0.0), ('medicin', 0.0), ('welcom', 0.0), ('oop', 0.0), ('hoya', 0.0), ('mah', 0.0), ('a', 0.0), ('nobodi', 0.0), ('awhil', 0.0), ('ago', 0.0), ('b', 0.0), ('hush', 0.0), ('gurli', 0.0), ('bring', 0.0), ('purti', 0.0), ('mouth', 0.0), ('closer', 0.0), ('shiver', 0.0), ('solut', 0.0), ('paid', 0.0), ('properli', 0.0), ('gol', 0.0), ('pea', 0.0), ('english', 0.0), ('mental', 0.0), ('tierd', 0.0), ('third', 0.0), (\"eye'\", 0.0), ('thnkyouuu', 0.0), ('carolin', 0.0), ('neither', 0.0), ('figur', 0.0), ('mirror', 0.0), ('highlight', 0.0), ('pure', 0.0), ('courag', 0.0), ('bit', 0.0), ('fishi', 0.0), ('idek', 0.0), ('apink', 0.0), ('perform', 0.0), ('bulet', 0.0), ('gendut', 0.0), ('noo', 0.0), ('race', 0.0), ('hotwheel', 0.0), ('ms', 0.0), ('patch', 0.0), ('typic', 0.0), ('ahaha', 0.0), ('lay', 0.0), ('wine', 0.0), ('glass', 0.0), (\"where'\", 0.0), ('akon', 0.0), ('somewher', 0.0), ('nightmar', 0.0), ('ya', 0.0), ('mino', 0.0), ('crazyyi', 0.0), ('thooo', 0.0), ('zz', 0.0), ('airport', 0.0), ('straight', 0.0), ('soundcheck', 0.0), ('hmm', 0.0), ('antagonist', 0.0), ('ob', 0.0), ('phantasi', 0.0), ('star', 0.0), ('ip', 0.0), ('issu', 0.0), ('bruce', 0.0), ('sleepdepriv', 0.0), ('tiredashel', 0.0), ('4aspot', 0.0), (\"kinara'\", 0.0), ('awami', 0.0), ('question', 0.0), ('niqqa', 0.0), ('answer', 0.0), ('mockingjay', 0.0), ('slow', 0.0), ('pb.contest', 0.0), ('cycl', 0.0), ('aarww', 0.0), ('lmbo', 0.0), ('dangit', 0.0), ('ohmygod', 0.0), ('scenario', 0.0), ('tooo', 0.0), ('duck', 0.0), ('baechyyi', 0.0), ('okayyy', 0.0), ('noon', 0.0), ('drag', 0.0), ('serious', 0.0), ('misundersrand', 0.0), ('chal', 0.0), ('raha', 0.0), ('hai', 0.0), ('yhm', 0.0), ('edsa', 0.0), ('jasmingarrick', 0.0), ('kikmeguy', 0.0), ('webcam', 0.0), ('milf', 0.0), ('nakamaforev', 0.0), ('kiksex', 0.0), (\"unicef'\", 0.0), ('fu', 0.0), ('alon', 0.0), ('manag', 0.0), ('stephen', 0.0), ('street', 0.0), ('35', 0.0), ('min', 0.0), ('appear', 0.0), ('record', 0.0), ('coz', 0.0), ('frustrat', 0.0), ('sent', 0.0), ('interest', 0.0), ('woza', 0.0), ('promis', 0.0), ('senight', 0.0), ('468', 0.0), ('kikmeboy', 0.0), ('gay', 0.0), ('teen', 0.0), ('amateur', 0.0), ('hotscratch', 0.0), ('sell', 0.0), ('sock', 0.0), ('150-160', 0.0), ('peso', 0.0), ('gotta', 0.0), ('pay', 0.0), ('degrassi', 0.0), ('4-6', 0.0), ('bcz', 0.0), ('kat', 0.0), ('chem', 0.0), ('onscreen', 0.0), ('ofscreen', 0.0), ('kinda', 0.0), ('pak', 0.0), ('class', 0.0), ('monthli', 0.0), ('roll', 0.0), ('band', 0.0), ('throw', 0.0), ('ironi', 0.0), ('rhisfor', 0.0), ('500', 0.0), ('bestoftheday', 0.0), ('chat', 0.0), ('camsex', 0.0), ('unfollow', 0.0), ('particular', 0.0), ('support', 0.0), ('fxhelp', 0.0), ('bae', 0.0), ('poopi', 0.0), ('pip', 0.0), ('post', 0.0), ('felt', 0.0), ('uff', 0.0), ('1.300', 0.0), ('credit', 0.0), ('glue', 0.0), ('factori', 0.0), ('kuchar', 0.0), ('fast', 0.0), ('graduat', 0.0), ('up', 0.0), ('definit', 0.0), ('uni', 0.0), ('ee', 0.0), ('tommi', 0.0), ('georgia', 0.0), ('bout', 0.0), ('instant', 0.0), ('transmiss', 0.0), ('malik', 0.0), ('orang', 0.0), ('suma', 0.0), ('shouldeeerr', 0.0), ('outfit', 0.0), ('age', 0.0), ('repack', 0.0), ('group', 0.0), ('charl', 0.0), ('grown', 0.0), ('rememb', 0.0), ('dy', 0.0), ('rihanna', 0.0), ('red', 0.0), ('ging', 0.0), ('boot', 0.0), ('closest', 0.0), ('nike', 0.0), ('adida', 0.0), ('inform', 0.0), ('pro@illamasqua.com', 0.0), ('set', 0.0), ('ifeely', 0.0), ('harder', 0.0), ('usual', 0.0), ('ratbaglat', 0.0), ('second', 0.0), ('semest', 0.0), ('gin', 0.0), ('gut', 0.0), ('reynold', 0.0), ('dessert', 0.0), ('season', 0.0), ('villag', 0.0), ('differ', 0.0), ('citi', 0.0), ('unit', 0.0), ('oppress', 0.0), ('mass', 0.0), ('wat', 0.0), ('afghanistn', 0.0), ('war', 0.0), ('tore', 0.0), ('sunggyu', 0.0), ('injur', 0.0), ('plaster', 0.0), ('rtd', 0.0), ('loui', 0.0), ('harri', 0.0), ('5so', 0.0), ('crowd', 0.0), ('stadium', 0.0), ('welder', 0.0), ('ghost', 0.0), ('hogo', 0.0), ('vishaya', 0.0), ('adu', 0.0), ('bjp', 0.0), ('madatt', 0.0), ('anta', 0.0), ('vishwa', 0.0), ('ne', 0.0), ('illa', 0.0), ('wua', 0.0), ('picki', 0.0), ('finger', 0.0), ('favourit', 0.0), ('mutual', 0.0), ('gn', 0.0), ('along', 0.0), ('ass', 0.0), ('thent', 0.0), ('423', 0.0), ('sabadodeganarseguidor', 0.0), ('sexual', 0.0), ('sync', 0.0), ('plug.dj', 0.0), ('peel', 0.0), ('suspems', 0.0), ('cope', 0.0), ('offroad', 0.0), ('adventur', 0.0), ('there', 0.0), ('harvest', 0.0), ('machineri', 0.0), ('inapropri', 0.0), ('weav', 0.0), ('nowher', 0.0), ('decent', 0.0), ('invest', 0.0), ('scottish', 0.0), ('footbal', 0.0), ('dire', 0.0), ('nomoney', 0.0), ('nawf', 0.0), ('sum', 0.0), ('becho', 0.0), ('danni', 0.0), ('eng', 0.0), (\"let'\", 0.0), ('overli', 0.0), ('lab', 0.0), ('ty', 0.0), ('zap', 0.0), ('distress', 0.0), ('shot', 0.0), ('cinema', 0.0), ('louisianashoot', 0.0), ('laugh', 0.0), ('har', 0.0), (\"how'\", 0.0), ('chum', 0.0), ('ncc', 0.0), ('ph', 0.0), ('balik', 0.0), ('naman', 0.0), ('kayo', 0.0), ('itong', 0.0), ('shirt', 0.0), ('thaaat', 0.0), ('ctto', 0.0), ('expir', 0.0), ('bi', 0.0), ('tough', 0.0), ('11', 0.0), ('3:33', 0.0), ('jfc', 0.0), ('bio', 0.0), ('bodo', 0.0), ('amat', 0.0), ('quick', 0.0), ('yelaaa', 0.0), ('dublin', 0.0), ('potter', 0.0), ('marathon', 0.0), ('balanc', 0.0), ('warm', 0.0), ('comic', 0.0), ('pine', 0.0), ('keybind', 0.0), ('featur', 0.0), ('wild', 0.0), ('warfar', 0.0), ('control', 0.0), ('diagnos', 0.0), ('wiv', 0.0), (\"scheuermann'\", 0.0), ('diseas', 0.0), ('bone', 0.0), ('rlyhurt', 0.0), ('howdo', 0.0), ('georgesampson', 0.0), ('stand', 0.0), ('signal', 0.0), ('reckon', 0.0), ('t20', 0.0), ('action', 0.0), ('taunton', 0.0), ('vacat', 0.0), ('excit', 0.0), ('justiceforsandrabland', 0.0), ('sandrabland', 0.0), ('disturb', 0.0), ('women', 0.0), ('happpi', 0.0), ('justinbieb', 0.0), ('daianerufato', 0.0), ('ilysm', 0.0), ('2015', 0.0), ('07:34', 0.0), ('delphi', 0.0), ('weak', 0.0), ('dom', 0.0), ('techniqu', 0.0), ('minc', 0.0), ('complet', 0.0), ('symphoni', 0.0), ('joe', 0.0), ('co', 0.0), ('wth', 0.0), ('aisyhhh', 0.0), ('bald', 0.0), ('14', 0.0), ('seungchan', 0.0), ('aigooo', 0.0), ('riri', 0.0), ('origin', 0.0), ('depend', 0.0), ('vet', 0.0), ('major', 0.0), ('va', 0.0), ('kept', 0.0), ('lumin', 0.0), ('follback', 0.0), ('treat', 0.0), ('v', 0.0), ('product', 0.0), ('letter', 0.0), ('z', 0.0), ('uniqu', 0.0), ('refresh', 0.0), ('popular', 0.0), ('bebee', 0.0), ('lt', 0.0), ('inaccuraci', 0.0), ('inaccur', 0.0), ('worri', 0.0), ('burn', 0.0), ('rn', 0.0), ('tragic', 0.0), ('joy', 0.0), ('sam', 0.0), ('rush', 0.0), ('toronto', 0.0), ('stuart', 0.0), (\"party'\", 0.0), ('iyalaya', 0.0), ('shade', 0.0), ('round', 0.0), ('clock', 0.0), (';(', 0.0), ('happier', 0.0), ('h', 0.0), ('ubusi', 0.0), ('le', 0.0), ('fifa', 0.0), ('gymnast', 0.0), ('aahhh', 0.0), ('noggin', 0.0), ('bump', 0.0), ('feelslikeanidiot', 0.0), ('pregnant', 0.0), ('woman', 0.0), ('dearli', 0.0), ('sunshin', 0.0), ('suk', 0.0), ('pumpkin', 0.0), ('scone', 0.0), ('outnumb', 0.0), ('vidcon', 0.0), ('eri', 0.0), ('geez', 0.0), ('preciou', 0.0), ('hive', 0.0), ('vote', 0.0), ('vietnam', 0.0), ('decemb', 0.0), ('dunt', 0.0), ('ikr', 0.0), ('sob', 0.0), ('buff', 0.0), ('leg', 0.0), ('toni', 0.0), ('deactiv', 0.0), ('bra', 0.0), (\"shady'\", 0.0), ('isibaya', 0.0), ('special', 0.0), ('❤', 0.0), ('️', 0.0), ('😓', 0.0), ('slept', 0.0), ('colder', 0.0), ('took', 0.0), ('med', 0.0), ('sausag', 0.0), ('adio', 0.0), ('cold', 0.0), ('sore', 0.0), ('ew', 0.0), ('h8', 0.0), ('messeng', 0.0), ('shittier', 0.0), ('leno', 0.0), ('ident', 0.0), ('crisi', 0.0), ('roommat', 0.0), ('knock', 0.0), ('nighter', 0.0), ('bird', 0.0), ('flew', 0.0), ('thru', 0.0), ('derek', 0.0), ('tour', 0.0), ('wetherspoon', 0.0), ('pub', 0.0), ('polic', 0.0), ('frank', 0.0), ('ocean', 0.0), ('releas', 0.0), ('ff', 0.0), ('lisah', 0.0), ('kikm', 0.0), ('eboni', 0.0), ('weloveyounamjoon', 0.0), ('gave', 0.0), ('dress', 0.0), ('polka', 0.0), ('dot', 0.0), ('ndi', 0.0), ('yum', 0.0), ('feed', 0.0), ('leftov', 0.0), ('side', 0.0), ('cs', 0.0), ('own', 0.0), ('walnut', 0.0), ('whip', 0.0), ('wife', 0.0), ('boah', 0.0), ('madi', 0.0), ('def', 0.0), ('manga', 0.0), ('giant', 0.0), ('aminormalyet', 0.0), ('cooki', 0.0), ('breakfast', 0.0), ('clutch', 0.0), ('poorli', 0.0), ('tummi', 0.0), ('pj', 0.0), ('groan', 0.0), ('nou', 0.0), ('adam', 0.0), ('ken', 0.0), ('sara', 0.0), ('sister', 0.0), ('accid', 0.0), ('sort', 0.0), ('mate', 0.0), ('pick', 0.0), ('rang', 0.0), ('fk', 0.0), ('freak', 0.0), ('describ', 0.0), ('eric', 0.0), ('prydz', 0.0), ('sister-in-law', 0.0), ('instal', 0.0), ('seat', 0.0), ('bought', 0.0), ('rear-end', 0.0), (\"everyone'\", 0.0), ('trash', 0.0), ('boob', 0.0), ('whilst', 0.0), ('stair', 0.0), ('childhood', 0.0), ('toothsensit', 0.0), ('size', 0.0), ('ke', 0.0), ('shem', 0.0), ('trust', 0.0), ('awel', 0.0), ('drunk', 0.0), ('weekendofmad', 0.0), ('🍹', 0.0), ('🍸', 0.0), ('cb', 0.0), ('dancer', 0.0), ('choregraph', 0.0), ('626-430-8715', 0.0), ('messag', 0.0), ('repli', 0.0), ('hoe', 0.0), ('xd', 0.0), ('xiu', 0.0), ('nk', 0.0), ('gi', 0.0), ('uss', 0.0), ('eliss', 0.0), ('ksoo', 0.0), ('session', 0.0), ('tat', 0.0), ('bcoz', 0.0), ('bet', 0.0), ('rancho', 0.0), ('imperi', 0.0), ('de', 0.0), ('silang', 0.0), ('subdivis', 0.0), ('center', 0.0), ('39', 0.0), ('evri', 0.0), ('cornwal', 0.0), ('verit', 0.0), ('prize', 0.0), ('regular', 0.0), ('workout', 0.0), ('spin', 0.0), ('base', 0.0), ('upon', 0.0), ('penni', 0.0), ('ebook', 0.0), ('фотосет', 0.0), ('addicted-to-analsex', 0.0), ('sweetbj', 0.0), ('blowjob', 0.0), ('mhhh', 0.0), ('sed', 0.0), ('sg', 0.0), ('dinner', 0.0), ('bless', 0.0), ('mee', 0.0), ('enviou', 0.0), ('eonni', 0.0), ('lovey', 0.0), ('dovey', 0.0), ('dongsaeng', 0.0), ('workin', 0.0), ('tuesday', 0.0), ('schade', 0.0), ('belfast', 0.0), ('jealou', 0.0), ('jacob', 0.0), ('isco', 0.0), ('peni', 0.0), ('everi', 0.0), ('convers', 0.0), ('wonder', 0.0), ('soul', 0.0), ('nation', 0.0), ('louisiana', 0.0), ('lafayett', 0.0), ('matteroftheheart', 0.0), ('waduh', 0.0), ('pant', 0.0), ('suspend', 0.0), ('believ', 0.0), ('teenag', 0.0), ('clich', 0.0), ('youuu', 0.0), ('rma', 0.0), ('jersey', 0.0), ('fake', 0.0), ('jaclintil', 0.0), ('model', 0.0), ('likeforlik', 0.0), ('mpoint', 0.0), ('hotfmnoaidilforariana', 0.0), ('ran', 0.0), ('fuckkk', 0.0), ('jump', 0.0), ('justin', 0.0), ('finish', 0.0), ('sanum', 0.0), ('llaollao', 0.0), ('foood', 0.0), ('ubericecream', 0.0), ('glare', 0.0), ('vine', 0.0), ('tweetin', 0.0), ('mood', 0.0), ('elbow', 0.0), ('choreo', 0.0), ('offens', 0.0), ('yeyi', 0.0), ('hd', 0.0), ('brow', 0.0), ('kit', 0.0), ('slightli', 0.0), ('monday', 0.0), ('sux', 0.0), ('enjoy', 0.0), ('nothaveld', 0.0), ('765', 0.0), ('edm', 0.0), ('likeforfollow', 0.0), ('hannib', 0.0), ('mosquito', 0.0), ('bite', 0.0), ('kinki', 0.0), ('hsould', 0.0), ('justget', 0.0), ('marri', 0.0), ('la', 0.0), ('shuffl', 0.0), ('int', 0.0), ('buckl', 0.0), ('spring', 0.0), ('millz', 0.0), ('aski', 0.0), ('awusasho', 0.0), ('unlucki', 0.0), ('driver', 0.0), ('briefli', 0.0), ('spot', 0.0), ('144p', 0.0), ('brook', 0.0), ('crack', 0.0), ('＠', 0.0), ('maverickgam', 0.0), ('07:32', 0.0), ('07:25', 0.0), ('max', 0.0), ('file', 0.0), ('extern', 0.0), ('sd', 0.0), ('airdroid', 0.0), ('android', 0.0), ('4.4+', 0.0), ('googl', 0.0), ('alright', 0.0), ('cramp', 0.0), ('unstan', 0.0), ('tay', 0.0), ('ngeze', 0.0), ('cocktaili', 0.0), ('classi', 0.0), ('07:24', 0.0), ('✈', 0.0), ('raini', 0.0), ('☔', 0.0), ('peter', 0.0), ('pen', 0.0), ('spare', 0.0), ('guest', 0.0), ('barcelona', 0.0), ('bilbao', 0.0), ('booti', 0.0), ('sharyl', 0.0), ('shane', 0.0), ('ta', 0.0), ('giddi', 0.0), ('d1', 0.0), ('zipper', 0.0), ('beyond', 0.0), ('repair', 0.0), ('iphon', 0.0), ('upgrad', 0.0), ('april', 0.0), ('2016', 0.0), ('cont', 0.0), ('england', 0.0), ('wore', 0.0), ('greet', 0.0), ('tempt', 0.0), ('whole', 0.0), ('pack', 0.0), ('oreo', 0.0), ('strength', 0.0), ('wifi', 0.0), ('network', 0.0), ('within', 0.0), ('lolipop', 0.0), ('kebab', 0.0), ('klappertart', 0.0), ('cake', 0.0), ('moodbost', 0.0), ('shoot', 0.0), ('unprepar', 0.0), ('sri', 0.0), ('dresscod', 0.0), ('door', 0.0), ('iam', 0.0), ('dnt', 0.0), ('stab', 0.0), ('meh', 0.0), ('wrocilam', 0.0), ('otp', 0.0), ('5', 0.0), ('looww', 0.0), ('recov', 0.0), ('wayn', 0.0), ('insur', 0.0), ('loss', 0.0), ('stolen', 0.0), ('accident', 0.0), ('damag', 0.0), ('devic', 0.0), ('warranti', 0.0), ('centr', 0.0), ('👌', 0.0), ('lmfaoo', 0.0), ('accur', 0.0), ('fra', 0.0), ('aliv', 0.0), ('steel', 0.0), ('otamendi', 0.0), ('ny', 0.0), ('🚖', 0.0), ('🗽', 0.0), ('🌃', 0.0), ('stealth', 0.0), ('bastard', 0.0), ('inc', 0.0), ('steam', 0.0), ('therapi', 0.0), ('exhaust', 0.0), ('lie', 0.0), ('total', 0.0), ('block', 0.0), ('choic', 0.0), ('switzerland', 0.0), ('kfc', 0.0), ('common', 0.0), ('th', 0.0), ('wolrd', 0.0), ('fyn', 0.0), ('drop', 0.0), ('state', 0.0), ('3g', 0.0), ('christ', 0.0), ('scale', 0.0), ('deck', 0.0), ('chair', 0.0), ('yk', 0.0), ('resi', 0.0), ('memori', 0.0), ('nude', 0.0), ('bruh', 0.0), ('prepar', 0.0), ('lock', 0.0), ('view', 0.0), ('fbc', 0.0), ('mork', 0.0), ('873', 0.0), ('kikgirl', 0.0), ('premiostumundo', 0.0), ('hotspotwithdanri', 0.0), ('hospit', 0.0), ('food', 0.0), ('sone', 0.0), ('produc', 0.0), ('potag', 0.0), ('tomato', 0.0), ('blight', 0.0), ('sheffield', 0.0), ('mych', 0.0), ('shiiit', 0.0), ('screenshot', 0.0), ('prompt', 0.0), ('areadi', 0.0), ('similar', 0.0), ('soulmat', 0.0), ('canon', 0.0), ('zzz', 0.0), ('britain', 0.0), ('😁', 0.0), ('mana', 0.0), ('hw', 0.0), ('jouch', 0.0), ('por', 0.0), ('que', 0.0), ('liceooo', 0.0), ('30', 0.0), ('minut', 0.0), ('pass', 0.0), ('ayala', 0.0), ('tunnel', 0.0), ('thatscold', 0.0), ('80', 0.0), ('snap', 0.0), ('lourd', 0.0), ('bang', 0.0), ('anywher', 0.0), ('water', 0.0), ('road', 0.0), ('showbox', 0.0), ('naruto', 0.0), ('cartoon', 0.0), ('companion', 0.0), ('skinni', 0.0), ('fat', 0.0), ('bare', 0.0), ('dubai', 0.0), ('calum', 0.0), ('ashton', 0.0), ('✧', 0.0), ('｡', 0.0), ('chelni', 0.0), ('disappoint', 0.0), ('everybodi', 0.0), ('due', 0.0), ('laribuggi', 0.0), ('medic', 0.0), ('nutella', 0.0), (\"could'v\", 0.0), ('siriu', 0.0), ('goat', 0.0), ('frudg', 0.0), ('mike', 0.0), ('cloth', 0.0), ('stuff', 0.0), ('sat', 0.0), ('number', 0.0), ('ring', 0.0), ('bbz', 0.0), ('angek', 0.0), ('sbali', 0.0), ('euuuwww', 0.0), ('lunch', 0.0), ('construct', 0.0), ('worker', 0.0), ('1k', 0.0), ('style', 0.0), ('nell', 0.0), ('ik', 0.0), ('death', 0.0), ('jaysu', 0.0), ('toast', 0.0), ('insecur', 0.0), ('buti', 0.0), ('ure', 0.0), ('poop', 0.0), ('gorgeou', 0.0), ('angel', 0.0), ('rome', 0.0), ('throat', 0.0), ('llama', 0.0), ('urself', 0.0), ('getwellsoonamb', 0.0), ('heath', 0.0), ('ledger', 0.0), ('appl', 0.0), ('permiss', 0.0), ('2-0', 0.0), ('lead', 0.0), ('supersport', 0.0), ('milkshak', 0.0), ('witcher', 0.0), ('papertown', 0.0), ('bale', 0.0), ('9', 0.0), ('méxico', 0.0), ('bahay', 0.0), ('bahayan', 0.0), ('magisa', 0.0), ('sadlyf', 0.0), ('bunso', 0.0), ('sleeep', 0.0), ('astonvilla', 0.0), ('berigaud', 0.0), ('bakar', 0.0), ('club', 0.0), ('dear', 0.0), ('allerg', 0.0), ('depress', 0.0), (\"blaine'\", 0.0), ('acoust', 0.0), ('version', 0.0), ('excus', 0.0), ('hernia', 0.0), ('toxin', 0.0), ('freedom', 0.0), ('organ', 0.0), ('ariel', 0.0), ('slap', 0.0), ('slam', 0.0), ('bee', 0.0), ('unknown', 0.0), ('finddjderek', 0.0), ('smell', 0.0), ('uuughhh', 0.0), ('grabe', 0.0), ('ka', 0.0), ('where', 0.0), ('gf', 0.0), ('james_yammouni', 0.0), ('smi', 0.0), ('nemesi', 0.0), ('rule', 0.0), ('doesnt', 0.0), ('appeal', 0.0), ('neeein', 0.0), ('saaad', 0.0), ('less', 0.0), ('hang', 0.0), ('creas', 0.0), ('tan', 0.0), ('dalla', 0.0), ('suppos', 0.0), ('infront', 0.0), ('beato', 0.0), ('tim', 0.0), ('prob', 0.0), ('minha', 0.0), ('deleici', 0.0), ('hr', 0.0), ('pcb', 0.0), ('ep', 0.0), ('peregrin', 0.0), ('8.40', 0.0), ('pigeon', 0.0), ('feet', 0.0), ('tram', 0.0), ('hav', 0.0), ('spent', 0.0), ('outsid', 0.0), ('apt', 0.0), ('build', 0.0), ('key', 0.0), ('bldg', 0.0), ('wrote', 0.0), ('dark', 0.0), ('swan', 0.0), ('fifth', 0.0), ('mmmm', 0.0), ('avi', 0.0), ('nicki', 0.0), ('fucjikg', 0.0), ('disgust', 0.0), ('buynotanapologyonitun', 0.0), ('aval', 0.0), ('denmark', 0.0), ('nw', 0.0), ('sch', 0.0), ('share', 0.0), ('jeslyn', 0.0), ('72', 0.0), ('root', 0.0), ('kuch', 0.0), ('nahi', 0.0), ('hua', 0.0), ('newbi', 0.0), ('crap', 0.0), ('miracl', 0.0), ('4th', 0.0), ('linda', 0.0), ('click', 0.0), ('pin', 0.0), ('wing', 0.0), ('epic', 0.0), ('page', 0.0), ('ang', 0.0), ('ganda', 0.0), ('💗', 0.0), ('nux', 0.0), ('hinanap', 0.0), ('ako', 0.0), ('uy', 0.0), ('sched', 0.0), ('anyar', 0.0), ('entertain', 0.0), ('typa', 0.0), ('buddi', 0.0), ('transpar', 0.0), ('photoshop', 0.0), ('planner', 0.0), ('helppp', 0.0), ('wearig', 0.0), ('dri', 0.0), ('alot', 0.0), ('bu', 0.0), ('prey', 0.0), ('gross', 0.0), ('drain', 0.0), ('ausfailia', 0.0), ('snow', 0.0), ('footi', 0.0), ('2nd', 0.0), ('row', 0.0), (\"m'\", 0.0), ('kitkat', 0.0), ('bday', 0.0), ('😢', 0.0), ('suger', 0.0), ('olivia', 0.0), ('audit', 0.0), ('american', 0.0), ('idol', 0.0), ('injuri', 0.0), ('appendix', 0.0), ('burst', 0.0), ('append', 0.0), ('yeahh', 0.0), ('fack', 0.0), ('nhl', 0.0), ('khami', 0.0), ('kadhafi', 0.0), ('favorit', 0.0), ('rise', 0.0), ('reaali', 0.0), ('ja', 0.0), ('naomi', 0.0), ('modern', 0.0), ('contemporari', 0.0), ('slack', 0.0), ('565', 0.0), ('blond', 0.0), ('jahat', 0.0), ('discount', 0.0), ('thorp', 0.0), ('park', 0.0), ('esnho', 0.0), ('node', 0.0), ('advanc', 0.0), ('directx', 0.0), ('workshop', 0.0), ('p2', 0.0), ('upload', 0.0), ('remov', 0.0), ('blackberri', 0.0), ('shitti', 0.0), ('mobil', 0.0), ('povertyyouareevil', 0.0), ('struggl', 0.0), ('math', 0.0), ('emm', 0.0), ('data', 0.0), ('elgin', 0.0), ('vava', 0.0), ('makati', 0.0), ('💛', 0.0), ('baon', 0.0), ('soup', 0.0), ('soak', 0.0), ('bread', 0.0), ('mush', 0.0), (\"they'd\", 0.0), ('matt', 0.0), ('ouat', 0.0), ('beach', 0.0), ('blinkin', 0.0), ('unblock', 0.0), ('headack', 0.0), ('tension', 0.0), ('erit', 0.0), ('perspect', 0.0), ('wed', 0.0), ('playlist', 0.0), ('endlessli', 0.0), ('blush', 0.0), ('bat', 0.0), ('kiddo', 0.0), ('rumbel', 0.0), ('overwhelm', 0.0), ('thrown', 0.0), ('irrespons', 0.0), ('pakighinabi', 0.0), ('pinkfinit', 0.0), ('beb', 0.0), ('migrain', 0.0), ('almost', 0.0), ('coyot', 0.0), ('outta', 0.0), ('mad', 0.0), ('😒', 0.0), ('headach', 0.0), ('인피니트', 0.0), ('save', 0.0), ('baechu', 0.0), ('calibraskaep', 0.0), ('r', 0.0), ('fanci', 0.0), ('yt', 0.0), ('purchas', 0.0), ('elgato', 0.0), ('ant', 0.0), ('unexpect', 0.0), ('bestfriend', 0.0), ('faint', 0.0), ('bp', 0.0), ('appar', 0.0), ('shower', 0.0), ('subway', 0.0), ('cool', 0.0), ('prayer', 0.0), ('fragil', 0.0), ('huge', 0.0), ('gap', 0.0), ('plot', 0.0), ('bungi', 0.0), ('folk', 0.0), ('raspberri', 0.0), ('pi', 0.0), ('shoe', 0.0), ('woohyun', 0.0), ('guilti', 0.0), ('monica', 0.0), ('davao', 0.0), ('luckyyi', 0.0), ('confid', 0.0), ('eunha', 0.0), ('misplac', 0.0), ('den', 0.0), ('dae', 0.0), ('bap', 0.0), ('likewis', 0.0), ('liam', 0.0), ('dylan', 0.0), ('huehu', 0.0), ('rice', 0.0), ('krispi', 0.0), ('marshmallow', 0.0), ('srsli', 0.0), ('birmingham', 0.0), ('m5m6junction', 0.0), ('soulsurvivor', 0.0), ('stafford', 0.0), ('progress', 0.0), ('mixtur', 0.0), (\"they'v\", 0.0), ('practic', 0.0), ('lage', 0.0), ('ramd', 0.0), ('lesbian', 0.0), ('oralsex', 0.0), ('munchkin', 0.0), ('juja', 0.0), ('murugan', 0.0), ('handl', 0.0), ('dia', 0.0), ('bgtau', 0.0), ('harap', 0.0), ('bagi', 0.0), ('aminn', 0.0), ('fraand', 0.0), ('😬', 0.0), ('bigbang', 0.0), ('steak', 0.0), ('younger', 0.0), ('sian', 0.0), ('pizza', 0.0), ('5am', 0.0), ('nicoleapag', 0.0), ('makeup', 0.0), ('hellish', 0.0), ('thirstyyi', 0.0), ('chesti', 0.0), ('dad', 0.0), (\"nando'\", 0.0), ('22', 0.0), ('bow', 0.0), ('queen', 0.0), ('brave', 0.0), ('hen', 0.0), ('leed', 0.0), ('rdd', 0.0), ('dissip', 0.0), ('. .', 0.0), ('pump', 0.0), ('capee', 0.0), ('japan', 0.0), ('random', 0.0), ('young', 0.0), ('outliv', 0.0), ('x-ray', 0.0), ('dental', 0.0), ('spine', 0.0), ('relief', 0.0), ('popol', 0.0), ('stomach', 0.0), ('frog', 0.0), ('brad', 0.0), ('gen.ad', 0.0), ('price', 0.0), ('negoti', 0.0), ('huhuhuhuhu', 0.0), ('bbmadeinmanila', 0.0), ('findavip', 0.0), ('boyirl', 0.0), ('yasss', 0.0), ('6th', 0.0), ('june', 0.0), ('lain', 0.0), ('diffici', 0.0), ('custom', 0.0), ('internet', 0.0), ('near', 0.0), ('speed', 0.0), ('escap', 0.0), ('rapist', 0.0), ('commit', 0.0), ('crime', 0.0), ('bachpan', 0.0), ('ki', 0.0), ('yaadein', 0.0), ('finnair', 0.0), ('heathrow', 0.0), ('norwegian', 0.0), (':\\\\', 0.0), ('batteri', 0.0), ('upvot', 0.0), ('keeno', 0.0), ('whatthefuck', 0.0), ('grotti', 0.0), ('attent', 0.0), ('seeker', 0.0), ('moral', 0.0), ('fern', 0.0), ('mimi', 0.0), ('bali', 0.0), ('she', 0.0), ('pleasee', 0.0), ('brb', 0.0), ('lowbat', 0.0), ('otwolgrandtrail', 0.0), ('funk', 0.0), ('wewanticecream', 0.0), ('sweat', 0.0), ('eugh', 0.0), ('speak', 0.0), ('occasion', 0.0), (\"izzy'\", 0.0), ('dorm', 0.0), ('choppi', 0.0), ('paul', 0.0), ('switch', 0.0), (\"infinite'\", 0.0), ('5:30', 0.0), ('cayton', 0.0), ('bay', 0.0), ('emma', 0.0), ('jen', 0.0), ('darcey', 0.0), ('connor', 0.0), ('spoke', 0.0), ('nail', 0.0), ('biggest', 0.0), ('blue', 0.0), ('bottl', 0.0), ('roommateexperi', 0.0), ('yup', 0.0), ('avoid', 0.0), ('ic', 0.0), ('te', 0.0), ('auto-followback', 0.0), ('asian', 0.0), ('puppi', 0.0), ('ljp', 0.0), ('1/5', 0.0), ('nowday', 0.0), ('attach', 0.0), ('beat', 0.0), ('numb', 0.0), ('dentist', 0.0), ('misss', 0.0), ('muchhh', 0.0), ('youtub', 0.0), ('rid', 0.0), ('tab', 0.0), ('uca', 0.0), ('onto', 0.0), ('track', 0.0), ('bigtim', 0.0), ('rumor', 0.0), ('warmest', 0.0), ('chin', 0.0), ('tickl', 0.0), ('♫', 0.0), ('zikra', 0.0), ('lusi', 0.0), ('hasya', 0.0), ('nugget', 0.0), ('som', 0.0), ('lu', 0.0), ('olymp', 0.0), (\"millie'\", 0.0), ('guinea', 0.0), ('lewi', 0.0), ('748292', 0.0), (\"we'll\", 0.0), ('ano', 0.0), ('22stan', 0.0), ('24/7', 0.0), ('thankyou', 0.0), ('kanina', 0.0), ('breakdown', 0.0), ('mag', 0.0), ('hatee', 0.0), ('leas', 0.0), ('written', 0.0), ('hurri', 0.0), ('attempt', 0.0), ('6g', 0.0), ('unsuccess', 0.0), ('earlob', 0.0), ('sue', 0.0), ('dreari', 0.0), ('denis', 0.0), ('muriel', 0.0), ('ahouré', 0.0), ('pr', 0.0), ('brand', 0.0), ('imag', 0.0), ('opportun', 0.0), ('po', 0.0), ('beg', 0.0), (\"kath'd\", 0.0), ('respond', 0.0), ('chop', 0.0), ('wbu', 0.0), ('yess', 0.0), ('kme', 0.0), ('tom', 0.0), ('cram', 0.0), ('–', 0.0), ('curiou', 0.0), ('on-board', 0.0), ('announc', 0.0), ('trespass', 0.0), ('fr', 0.0), ('clandestin', 0.0), ('muller', 0.0), ('obviou', 0.0), ('mufc', 0.0), ('colour', 0.0), ('stu', 0.0), ('movie', 0.0), ('buddyyi', 0.0), ('feelgoodfriday', 0.0), ('forest', 0.0), ('6:30', 0.0), ('babysit', 0.0), ('opix', 0.0), ('805', 0.0), ('pilllow', 0.0), ('fool', 0.0), ('brag', 0.0), ('skrillah', 0.0), ('drown', 0.0), ('gue', 0.0), ('report', 0.0), ('eventu', 0.0), ('north', 0.0), ('west', 0.0), ('kitti', 0.0), ('sjkao', 0.0), ('mm', 0.0), ('srri', 0.0), ('stuffi', 0.0), ('bo2', 0.0), ('honma', 0.0), ('yeh', 0.0), ('walay', 0.0), ('bhi', 0.0), ('bohat', 0.0), ('wailay', 0.0), ('hain', 0.0), ('pre-season', 0.0), ('friendli', 0.0), ('pe', 0.0), ('itna', 0.0), ('shor', 0.0), ('machaya', 0.0), ('mein', 0.0), ('samjha', 0.0), ('cup', 0.0), ('note', 0.0), ('😄', 0.0), ('👍', 0.0), ('😔', 0.0), ('sirkay', 0.0), ('wali', 0.0), ('pyaaz', 0.0), ('daal', 0.0), ('onion', 0.0), ('vinegar', 0.0), ('cook', 0.0), ('tutori', 0.0), ('soho', 0.0), ('wobbl', 0.0), ('server', 0.0), ('ciao', 0.0), ('masaan', 0.0), ('muv', 0.0), ('beast', 0.0), ('hayst', 0.0), ('cr', 0.0), ('hnnn', 0.0), ('fluffi', 0.0), ('comeback', 0.0), ('korea', 0.0), ('wow', 0.0), ('act', 0.0), ('optimis', 0.0), ('soniii', 0.0), ('kahaaa', 0.0), ('shave', 0.0), ('tryna', 0.0), ('healthi', 0.0), ('freez', 0.0), ('fml', 0.0), ('jacket', 0.0), ('sleepi', 0.0), ('cyber', 0.0), ('bulli', 0.0), ('racial', 0.0), ('scari', 0.0), ('hall', 0.0), ('stockholm', 0.0), ('loool', 0.0), ('bunch', 0.0), ('among', 0.0), ('__', 0.0), ('busier', 0.0), ('onward', 0.0), ('ol', 0.0), ('coincid', 0.0), ('imac', 0.0), ('launch', 0.0), ('gram', 0.0), ('nearer', 0.0), ('blain', 0.0), ('darren', 0.0), ('layout', 0.0), ('fuuuck', 0.0), ('jesu', 0.0), ('gishwh', 0.0), ('exclud', 0.0), ('unless', 0.0), ('c', 0.0), ('angelica', 0.0), ('pull', 0.0), ('colleg', 0.0), ('movement', 0.0), ('frou', 0.0), ('vaccin', 0.0), ('armor', 0.0), ('legendari', 0.0), ('cash', 0.0), ('effort', 0.0), ('nat', 0.0), ('brake', 0.0), ('grumpi', 0.0), ('wreck', 0.0), ('decis', 0.0), ('gahhh', 0.0), ('teribl', 0.0), ('kilig', 0.0), ('togeth', 0.0), ('weaker', 0.0), ('shravan', 0.0), ('tv', 0.0), ('stooop', 0.0), ('gi-guilti', 0.0), ('akooo', 0.0), ('imveryverysorri', 0.0), ('cd', 0.0), ('grey', 0.0), ('basenam', 0.0), ('path', 0.0), ('theme', 0.0), ('cigar', 0.0), ('speaker', 0.0), ('volum', 0.0), ('promethazin', 0.0), ('zopiclon', 0.0), ('addit', 0.0), ('quetiapin', 0.0), ('modifi', 0.0), ('prescript', 0.0), ('greska', 0.0), ('macedonian', 0.0), ('slovak', 0.0), ('hike', 0.0), ('certainli', 0.0), ('browser', 0.0), ('os', 0.0), ('zokay', 0.0), ('accent', 0.0), ('b-but', 0.0), ('gintama', 0.0), ('shinsengumi', 0.0), ('chapter', 0.0), ('andi', 0.0), ('crappl', 0.0), ('agre', 0.0), ('ftw', 0.0), ('phandroid', 0.0), ('tline', 0.0), ('orchestra', 0.0), ('ppl', 0.0), ('rehears', 0.0), ('bittersweet', 0.0), ('eunji', 0.0), ('bakit', 0.0), ('121st', 0.0), (\"yesterday'\", 0.0), ('rt', 0.0), ('ehdar', 0.0), ('pegea', 0.0), ('panga', 0.0), ('dosto', 0.0), ('nd', 0.0), ('real_liam_payn', 0.0), ('retweet', 0.0), ('3/10', 0.0), ('dmed', 0.0), ('ad', 0.0), ('yay', 0.0), ('23', 0.0), ('alreaddyyi', 0.0), ('luceleva', 0.0), ('21', 0.0), ('porno', 0.0), ('countrymus', 0.0), ('sexysasunday', 0.0), ('naeun', 0.0), ('goal', 0.0), (\"son'\", 0.0), ('kidney', 0.0), ('printer', 0.0), ('ink', 0.0), ('asham', 0.0), ('ihatesomepeopl', 0.0), ('tabl', 0.0), ('0-2', 0.0), ('brain', 0.0), ('hard-wir', 0.0), ('canadian', 0.0), ('acn', 0.0), ('gulo', 0.0), ('kandekj', 0.0), ('rize', 0.0), ('meydan', 0.0), ('experienc', 0.0), ('fcking', 0.0), ('crei', 0.0), ('stabl', 0.0), ('dormmat', 0.0), ('pre', 0.0), ('bo3', 0.0), ('cod', 0.0), ('redeem', 0.0), ('invalid', 0.0), ('wag', 0.0), ('hopia', 0.0), ('campaign', 0.0), ('editor', 0.0), ('reveal', 0.0), ('booo', 0.0), ('extens', 0.0), ('rightnow', 0.0), ('btu', 0.0), ('karaok', 0.0), ('licenc', 0.0), ('apb', 0.0), ('mbf', 0.0), ('kpop', 0.0), ('hahahaokay', 0.0), ('basara', 0.0), ('capcom', 0.0), ('pc', 0.0), ('url', 0.0), ('web', 0.0), ('site', 0.0), ('design', 0.0), ('grumbl', 0.0), ('migrant', 0.0), ('daddi', 0.0), ('legit', 0.0), ('australia', 0.0), ('awsm', 0.0), ('entir', 0.0), ('tmw', 0.0), ('uwu', 0.0), ('jinki', 0.0), ('taem', 0.0), ('gif', 0.0), ('cambridg', 0.0), ('viath', 0.0), ('brilliant', 0.0), ('cypru', 0.0), ('wet', 0.0), ('30th', 0.0), ('zayncomebackto', 0.0), ('1d', 0.0), ('senior', 0.0), ('spazz', 0.0), ('soobin', 0.0), ('27', 0.0), ('unmarri', 0.0), ('float', 0.0), ('pressur', 0.0), ('winter', 0.0), ('lifetim', 0.0), ('hiondsh', 0.0), ('58543', 0.0), ('kikmenow', 0.0), ('sexdat', 0.0), (\"demi'\", 0.0), ('junjou', 0.0), ('romantica', 0.0), ('cruel', 0.0), ('privileg', 0.0), ('mixtap', 0.0), ('convinc', 0.0), ('friex', 0.0), ('taco', 0.0), ('europ', 0.0), ('shaylan', 0.0), ('4:20', 0.0), ('ylona', 0.0), ('realiti', 0.0), ('nah', 0.0), ('notanapolog', 0.0), ('ouh', 0.0), ('tax', 0.0), ('ohhh', 0.0), ('nm', 0.0), ('term', 0.0), ('apolog', 0.0), ('encanta', 0.0), ('vale', 0.0), ('osea', 0.0), ('bea', 0.0), ('♛', 0.0), ('》', 0.0), ('beli̇ev', 0.0), ('wi̇ll', 0.0), ('justi̇n', 0.0), ('x15', 0.0), ('350', 0.0), ('ｓｅｅ', 0.0), ('ｍｅ', 0.0), ('40', 0.0), ('dj', 0.0), ('net', 0.0), ('349', 0.0), ('baek', 0.0), ('tight', 0.0), ('dunwan', 0.0), ('suan', 0.0), ('ba', 0.0), ('haiz', 0.0), ('otw', 0.0), ('trade', 0.0), ('venic', 0.0), ('348', 0.0), ('strong', 0.0), ('adult', 0.0), ('347', 0.0), ('tree', 0.0), ('hill', 0.0), ('😕', 0.0), ('com', 0.0), ('insonia', 0.0), ('346', 0.0), ('rick', 0.0), ('ross', 0.0), ('wallet', 0.0), ('empti', 0.0), ('heartbreak', 0.0), ('episod', 0.0), ('345', 0.0), ('milli', 0.0), (':)', 0.0), ('diff', 0.0), ('persona', 0.0), ('golden', 0.0), ('scene', 0.0), ('advert', 0.0), ('determin', 0.0), ('roseburi', 0.0), ('familyhom', 0.0), ('daw', 0.0), ('344', 0.0), ('monkey', 0.0), ('yea', 0.0), ('343', 0.0), ('sweeti', 0.0), ('erica', 0.0), ('istg', 0.0), ('lick', 0.0), ('jackson', 0.0), ('nsbzhdnxndamal', 0.0), ('342', 0.0), ('11:15', 0.0), ('2hour', 0.0), ('11:25', 0.0), ('341', 0.0), ('fandom', 0.0), ('mahilig', 0.0), ('mam-bulli', 0.0), ('mtaani', 0.0), ('tunaita', 0.0), ('viazi', 0.0), ('choma', 0.0), ('laid', 0.0), ('celebr', 0.0), ('7am', 0.0), ('jerk', 0.0), ('lah', 0.0), ('magic', 0.0), ('menil', 0.0), ('340', 0.0), (\"kam'\", 0.0), ('meee', 0.0), ('diz', 0.0), ('biooo', 0.0), ('ay', 0.0), ('taray', 0.0), ('yumu-youtub', 0.0), ('339', 0.0), ('parijat', 0.0), ('willmissyouparijat', 0.0), ('abroad', 0.0), ('jolli', 0.0), ('scotland', 0.0), ('338', 0.0), ('mcnugget', 0.0), ('sophi', 0.0), ('feedback', 0.0), ('met', 0.0), ('caramello', 0.0), ('koala', 0.0), ('bar', 0.0), ('suckmejimin', 0.0), ('337', 0.0), ('sucki', 0.0), ('laughter', 0.0), ('pou', 0.0), ('goddamn', 0.0), ('bark', 0.0), ('nje', 0.0), ('blast', 0.0), ('hun', 0.0), ('dbn', 0.0), ('🎀', 0.0), ('336', 0.0), ('hardest', 0.0), ('335', 0.0), ('pledg', 0.0), ('realiz', 0.0), ('viber', 0.0), ('mwah', 0.0), ('estat', 0.0), ('crush', 0.0), ('lansi', 0.0), ('334', 0.0), ('hp', 0.0), ('waah', 0.0), ('miami', 0.0), ('vandag', 0.0), ('kgola', 0.0), ('neng', 0.0), ('eintlik', 0.0), ('porn', 0.0), ('4like', 0.0), ('repost', 0.0), ('333', 0.0), ('magpi', 0.0), ('22.05', 0.0), ('15-24', 0.0), ('05.15', 0.0), ('coach', 0.0), ('ador', 0.0), ('chswiyfxcskcalum', 0.0), ('nvm', 0.0), ('lemm', 0.0), ('quiet', 0.0), ('foof', 0.0), ('332', 0.0), ('casilla', 0.0), ('manchest', 0.0), ('xi', 0.0), ('rmtour', 0.0), ('heavi', 0.0), ('irl', 0.0), ('blooper', 0.0), ('huhuhuhu', 0.0), ('na-tak', 0.0), ('sorta', 0.0), ('unfriend', 0.0), ('greysonch', 0.0), ('sandwich', 0.0), ('bell', 0.0), ('sebastian', 0.0), ('rewatch', 0.0), ('s4', 0.0), ('ser', 0.0), ('past', 0.0), ('heart-break', 0.0), ('outdat', 0.0), ('m4', 0.0), ('abandon', 0.0), ('theater', 0.0), ('smh', 0.0), ('7-3', 0.0), ('7.30-', 0.0), ('ekk', 0.0), ('giriboy', 0.0), ('harriet', 0.0), ('gegu', 0.0), ('gray', 0.0), ('truth', 0.0), ('tbt', 0.0), ('331', 0.0), ('roof', 0.0), ('indian', 0.0), ('polit', 0.0), ('blame', 0.0), ('68', 0.0), ('repres', 0.0), ('corbyn', 0.0), (\"labour'\", 0.0), ('fortun', 0.0), ('rant', 0.0), ('icecream', 0.0), ('cuti', 0.0), ('ry', 0.0), ('lfccw', 0.0), ('5ever', 0.0), ('america', 0.0), ('ontheroadagain', 0.0), ('halaaang', 0.0), ('reciev', 0.0), ('flip', 0.0), ('flop', 0.0), ('caesarspalac', 0.0), ('socialreward', 0.0), ('requir', 0.0), ('cali', 0.0), ('fuckboy', 0.0), ('330', 0.0), ('deliveri', 0.0), ('chrompet', 0.0), ('easili', 0.0), ('immun', 0.0), ('system', 0.0), ('lush', 0.0), ('bathtub', 0.0), ('php', 0.0), ('mysql', 0.0), ('libmysqlclient-dev', 0.0), ('dev', 0.0), ('pleasanton', 0.0), ('wala', 0.0), ('329', 0.0), ('quickli', 0.0), ('megan', 0.0), ('heed', 0.0), ('328', 0.0), ('gwss', 0.0), ('thankyouu', 0.0), ('charad', 0.0), ('becom', 0.0), ('piano', 0.0), ('327', 0.0), ('complaint', 0.0), ('yell', 0.0), ('whatsoev', 0.0), ('pete', 0.0), ('wentz', 0.0), ('shogi', 0.0), ('blameshoghicp', 0.0), ('classmat', 0.0), ('troubl', 0.0), ('fixedgearfrenzi', 0.0), ('dispatch', 0.0), ('theyr', 0.0), ('hat', 0.0), (\"shamuon'\", 0.0), ('tokyo', 0.0), ('toe', 0.0), ('horrend', 0.0), (\"someone'\", 0.0), ('326', 0.0), ('hasb', 0.0), ('atti', 0.0), ('muji', 0.0), ('sirf', 0.0), ('sensibl', 0.0), ('etc', 0.0), ('brum', 0.0), ('cyclerevolut', 0.0), ('caaannnttt', 0.0), ('payment', 0.0), ('overdrawn', 0.0), ('tbf', 0.0), ('complain', 0.0), ('perfum', 0.0), ('sampl', 0.0), ('chanel', 0.0), ('burberri', 0.0), ('prada', 0.0), ('325', 0.0), ('noesss', 0.0), ('topgear', 0.0), ('worthi', 0.0), ('bridesmaid', 0.0), (\"tomorrow'\", 0.0), ('gather', 0.0), ('sudden', 0.0), ('324', 0.0), ('randomrestart', 0.0), ('randomreboot', 0.0), ('lumia', 0.0), ('windowsphon', 0.0), (\"microsoft'\", 0.0), ('mañana', 0.0), ('male', 0.0), ('rap', 0.0), ('sponsor', 0.0), ('striker', 0.0), ('lvg', 0.0), ('behind', 0.0), ('refurbish', 0.0), ('cintiq', 0.0), (\"finnick'\", 0.0), ('askfinnick', 0.0), ('contain', 0.0), ('hairi', 0.0), ('323', 0.0), ('buri', 0.0), ('omaygad', 0.0), ('vic', 0.0), ('surgeri', 0.0), ('amber', 0.0), ('tt.tt', 0.0), ('hyper', 0.0), ('vega', 0.0), ('322', 0.0), ('imiss', 0.0), ('321', 0.0), ('320', 0.0), ('know.for', 0.0), ('prepaid', 0.0), ('none', 0.0), ('319', 0.0), ('grandma', 0.0), (\"grandpa'\", 0.0), ('farm', 0.0), ('cow', 0.0), ('sheep', 0.0), ('hors', 0.0), ('fruit', 0.0), ('veget', 0.0), ('puke', 0.0), ('deliri', 0.0), ('motilium', 0.0), ('shite', 0.0), ('318', 0.0), ('schoolwork', 0.0), (\"phoebe'\", 0.0), ('317', 0.0), ('pothol', 0.0), ('316', 0.0), ('notif', 0.0), ('1,300', 0.0), ('robyn', 0.0), ('necklac', 0.0), ('rachel', 0.0), ('bhai', 0.0), ('ramzan', 0.0), ('crosss', 0.0), ('clapham', 0.0), ('investig', 0.0), ('sth', 0.0), ('essenti', 0.0), ('photoshooot', 0.0), ('austin', 0.0), ('mahon', 0.0), ('shut', 0.0), ('andam', 0.0), ('memor', 0.0), ('cotton', 0.0), ('candi', 0.0), ('stock', 0.0), ('swallow', 0.0), ('snot', 0.0), ('choke', 0.0), ('taknottem', 0.0), ('477', 0.0), ('btob', 0.0), ('percentag', 0.0), ('shoshannavassil', 0.0), ('swift', 0.0), ('flat', 0.0), ('a9', 0.0), ('wsalelov', 0.0), ('sexyjan', 0.0), ('horni', 0.0), ('goodmus', 0.0), ('debut', 0.0), ('lart', 0.0), ('sew', 0.0), ('skyfal', 0.0), ('premier', 0.0), ('yummi', 0.0), ('manteca', 0.0), (\"she'd\", 0.0), ('probabl', 0.0), ('shiatsu', 0.0), ('heat', 0.0), ('risk', 0.0), ('edward', 0.0), ('hopper', 0.0), ('eyyah', 0.0), ('utd', 0.0), ('born', 0.0), ('1-0', 0.0), ('cart', 0.0), ('shop', 0.0), ('log', 0.0), ('aaa', 0.0), ('waifu', 0.0), ('break', 0.0), ('breakup', 0.0), ('bother', 0.0), ('bia', 0.0), ('syndrom', 0.0), ('shi', 0.0), ('bias', 0.0), ('pixel', 0.0), ('weh', 0.0), ('area', 0.0), ('maymay', 0.0), ('magpaalam', 0.0), ('tf', 0.0), ('subtitl', 0.0), ('oitnb', 0.0), ('backstori', 0.0), ('jeremi', 0.0), ('kyle', 0.0), ('gimm', 0.0), ('meal', 0.0), ('neat-o', 0.0), ('wru', 0.0), ('scissor', 0.0), ('creation', 0.0), ('public', 0.0), ('amtir', 0.0), ('imysm', 0.0), ('tut', 0.0), ('trop', 0.0), ('tard', 0.0), ('deadlin', 0.0), ('31', 0.0), ('st', 0.0), ('child', 0.0), ('oct', 0.0), ('bush', 0.0), ('premiun', 0.0), ('notcool', 0.0), ('2/3', 0.0), ('lahat', 0.0), ('ng', 0.0), ('araw', 0.0), ('nage', 0.0), ('gyu', 0.0), ('lmfaooo', 0.0), ('download', 0.0), ('leagu', 0.0), ('mashup', 0.0), ('eu', 0.0), ('lc', 0.0), ('typo', 0.0), ('itali', 0.0), ('yass', 0.0), ('christma', 0.0), ('rel', 0.0), ('yr', 0.0), ('sydney', 0.0), ('mb', 0.0), ('perf', 0.0), ('programm', 0.0), ('bff', 0.0), ('hashtag', 0.0), ('omfg', 0.0), ('exercis', 0.0), ('combat', 0.0), ('dosent', 0.0), (\"sod'\", 0.0), ('20min', 0.0), ('request', 0.0), ('yahoo', 0.0), ('yodel', 0.0), ('jokingli', 0.0), ('regret', 0.0), ('starbuck', 0.0), ('lynettelow', 0.0), ('interraci', 0.0), (\"today'\", 0.0), ('tgif', 0.0), ('gahd', 0.0), ('26th', 0.0), ('discov', 0.0), ('12.00', 0.0), ('obyun', 0.0), ('unni', 0.0), ('wayhh', 0.0), ('preval', 0.0), ('controversi', 0.0), ('🍵', 0.0), ('☕', 0.0), ('tube', 0.0), ('strike', 0.0), ('meck', 0.0), ('mcfc', 0.0), ('fresh', 0.0), ('ucan', 0.0), ('anxiou', 0.0), ('poc', 0.0), ('specif', 0.0), ('sinhala', 0.0), ('billionair', 0.0), ('1645', 0.0), ('island', 0.0), ('1190', 0.0), ('maldiv', 0.0), ('dheena', 0.0), ('fasgadah', 0.0), ('alvadhaau', 0.0), ('countdown', 0.0), ('function', 0.0), ('desktop', 0.0), ('evelineconrad', 0.0), ('facetim', 0.0), ('kikmsn', 0.0), ('selfshot', 0.0), ('panda', 0.0), ('backkk', 0.0), ('transfer', 0.0), ('dan', 0.0), ('dull', 0.0), ('overcast', 0.0), ('folder', 0.0), ('truck', 0.0), ('missin', 0.0), ('hangin', 0.0), ('wiff', 0.0), ('dept', 0.0), ('cherri', 0.0), ('bakewel', 0.0), ('collect', 0.0), ('teal', 0.0), ('sect', 0.0), ('tennunb', 0.0), ('rather', 0.0), ('skip', 0.0), ('doomsday', 0.0), ('neglect', 0.0), ('posti', 0.0), ('goodnight', 0.0), ('ship', 0.0), ('bellami', 0.0), ('raven', 0.0), ('clark', 0.0), ('helmi', 0.0), ('uh', 0.0), ('cnt', 0.0), ('whereisthesun', 0.0), ('summerismiss', 0.0), ('longgg', 0.0), ('ridicul', 0.0), ('stocko', 0.0), ('lucozad', 0.0), ('explos', 0.0), ('beh', 0.0), ('half-rememb', 0.0), (\"melody'\", 0.0), ('recal', 0.0), ('level', 0.0), ('target', 0.0), ('difficult', 0.0), ('mile', 0.0), ('pfb', 0.0), ('nate', 0.0), ('expo', 0.0), ('jisoo', 0.0), ('chloe', 0.0), ('anon', 0.0), ('mager', 0.0), ('wi', 0.0), ('knw', 0.0), ('wht', 0.0), ('distant', 0.0), ('buffer', 0.0), ('insan', 0.0), ('charli', 0.0), ('finland', 0.0), ('gana', 0.0), ('studio', 0.0), ('arch', 0.0), ('lyin', 0.0), ('kian', 0.0), ('supercar', 0.0), ('gurgaon', 0.0), ('locat', 0.0), ('9:15', 0.0), ('satir', 0.0), ('gener', 0.0), ('peanut', 0.0), ('butter', 0.0), ('garden', 0.0), ('beer', 0.0), ('viner', 0.0), ('palembang', 0.0), ('sorrryyi', 0.0), ('fani', 0.0), ('hahahahaha', 0.0), ('boner', 0.0), ('merci', 0.0), ('yuki', 0.0), ('2500k', 0.0), ('mari', 0.0), ('jake', 0.0), ('gyllenha', 0.0), ('impact', 0.0), (\"ledger'\", 0.0), ('btw', 0.0), ('cough', 0.0), ('hunni', 0.0), ('b4', 0.0), ('deplet', 0.0), ('mbasa', 0.0), ('client', 0.0), ('ray', 0.0), ('aah', 0.0), ('type', 0.0), ('suit', 0.0), ('pa-copi', 0.0), ('proper', 0.0), ('biom', 0.0), ('mosqu', 0.0), ('smelli', 0.0), ('taxi', 0.0), ('emptier', 0.0), (\"ciara'\", 0.0), (\"everything'\", 0.0), ('clip', 0.0), ('tall', 0.0), ('gladli', 0.0), ('intent', 0.0), ('amb', 0.0), (\"harry'\", 0.0), ('jean', 0.0), ('mayday', 0.0), ('parad', 0.0), ('lyf', 0.0), ('13th', 0.0), ('anim', 0.0), ('kingdom', 0.0), ('chri', 0.0), ('brown', 0.0), ('riski', 0.0), ('cologn', 0.0), ('duo', 0.0), ('ballad', 0.0), ('bish', 0.0), ('intern', 0.0), ('brought', 0.0), ('yumyum', 0.0), (\"cathy'\", 0.0), ('missyou', 0.0), ('rubi', 0.0), ('rose', 0.0), ('tou', 0.0), ('main', 0.0), ('pora', 0.0), ('stalk', 0.0), ('karlia', 0.0), ('khatam', 0.0), ('bandi', 0.0), ('👑', 0.0), ('pyaari', 0.0), ('gawd', 0.0), ('understood', 0.0), ('review', 0.0), ('massi', 0.0), ('thatselfiethough', 0.0), ('loop', 0.0), ('ofc', 0.0), ('pict', 0.0), ('caught', 0.0), ('aishhh', 0.0), ('viewer', 0.0), ('exam', 0.0), ('sighsss', 0.0), ('burnt', 0.0), ('toffe', 0.0), ('honesti', 0.0), ('cheatday', 0.0), ('protein', 0.0), ('sissi', 0.0), ('tote', 0.0), ('slowli', 0.0), ('church', 0.0), ('pll', 0.0), ('sel', 0.0), ('beth', 0.0), ('serbia', 0.0), ('serbian', 0.0), ('selen', 0.0), ('motav', 0.0), ('💋', 0.0), ('zayyyn', 0.0), ('momma', 0.0), ('happend', 0.0), ('imper', 0.0), ('trmdhesit', 0.0), ('pana', 0.0), ('quickest', 0.0), ('blood', 0.0), ('sake', 0.0), ('hamstr', 0.0), ('rodwel', 0.0), ('trace', 0.0), ('artist', 0.0), ('tp', 0.0), ('powder', 0.0), ('wider', 0.0), ('honestli', 0.0), ('comfort', 0.0), ('bruno', 0.0), ('1.8', 0.0), ('ed', 0.0), ('croke', 0.0), ('deal', 0.0), ('toll', 0.0), ('packag', 0.0), ('shape', 0.0), ('unluckiest', 0.0), ('bettor', 0.0), ('nstp', 0.0), ('sem', 0.0), ('chipotl', 0.0), ('chick-fil-a', 0.0), ('stole', 0.0), ('evet', 0.0), ('ramadhan', 0.0), ('eid', 0.0), ('stexpert', 0.0), ('ripstegi', 0.0), ('nickyyi', 0.0), ('¿', 0.0), ('centralis', 0.0), ('discontinu', 0.0), ('sniff', 0.0), (\"i't\", 0.0), ('glad', 0.0), ('fab', 0.0), ('theres', 0.0), ('cred', 0.0), ('t_t', 0.0), ('elimin', 0.0), ('teamzip', 0.0), ('smtm', 0.0), ('assingn', 0.0), ('editi', 0.0), ('nakaka', 0.0), ('beastmod', 0.0), ('gaaawd', 0.0), ('jane', 0.0), ('mango', 0.0), ('colombia', 0.0), ('yot', 0.0), ('labyo', 0.0), ('pano', 0.0), ('nalamannn', 0.0), ('hardhead', 0.0), ('cell', 0.0), (\"zach'\", 0.0), ('burger', 0.0), ('xpress', 0.0), ('hopkin', 0.0), ('melatonin', 0.0), ('2-4', 0.0), ('nap', 0.0), ('wide', 0.0), ('task', 0.0), ('9pm', 0.0), ('hahaah', 0.0), ('frequent', 0.0), ('jail', 0.0), ('weirddd', 0.0), ('donghyuk', 0.0), ('stan', 0.0), ('bek', 0.0), ('13', 0.0), ('reynoldsgrl', 0.0), ('ole', 0.0), ('beardi', 0.0), ('kaussi', 0.0), ('bummer', 0.0), ('fightingmciren', 0.0), (\"michael'\", 0.0), ('�', 0.0), ('miser', 0.0), ('💦', 0.0), ('yoga', 0.0), ('🌞', 0.0), ('💃', 0.0), ('🏽', 0.0), ('shouldv', 0.0), ('saffron', 0.0), ('peasant', 0.0), ('wouldv', 0.0), ('nfinit', 0.0), ('admin_myung', 0.0), ('slp', 0.0), ('saddest', 0.0), ('laomma', 0.0), ('kebaya', 0.0), ('bandung', 0.0), ('indonesia', 0.0), ('7df89150', 0.0), ('whatsapp', 0.0), ('62', 0.0), ('08962464174', 0.0), ('laomma_coutur', 0.0), ('haizzz', 0.0), ('urghhh', 0.0), ('working-on-a-tight-schedul', 0.0), ('ganbarimasu', 0.0), ('livid', 0.0), ('whammi', 0.0), ('quuuee', 0.0), ('friooo', 0.0), ('ladi', 0.0), ('stereo', 0.0), ('chwang', 0.0), ('lorm', 0.0), ('823', 0.0), ('rp', 0.0), ('indiemus', 0.0), ('unhappi', 0.0), ('jennyjean', 0.0), ('elfindelmundo', 0.0), ('lolzz', 0.0), ('dat', 0.0), ('corey', 0.0), ('appreci', 0.0), ('weekli', 0.0), ('mahirap', 0.0), ('nash', 0.0), ('gosh', 0.0), ('noodl', 0.0), ('veeerri', 0.0), ('rted', 0.0), ('orig', 0.0), ('starholicxx', 0.0), ('07:17', 0.0), ('@the', 0.0), ('notr', 0.0), ('hwi', 0.0), ('niall', 0.0), ('fraud', 0.0), ('diplomaci', 0.0), ('fittest', 0.0), ('zero', 0.0), ('toler', 0.0), ('gurl', 0.0), ('notion', 0.0), ('pier', 0.0), ('approach', 0.0), ('rattl', 0.0), ('robe', 0.0), ('emphasi', 0.0), ('vocal', 0.0), ('chose', 0.0), ('erm', 0.0), ('abby.can', 0.0), ('persuad', 0.0), ('lyric', 0.0), (\"emily'\", 0.0), ('odd', 0.0), ('possibl', 0.0), ('elect', 0.0), ('kamiss', 0.0), ('mwa', 0.0), ('mommi', 0.0), ('scream', 0.0), ('fight', 0.0), ('cafe', 0.0), ('melbourn', 0.0), ('anyonnee', 0.0), ('loner', 0.0), ('fricken', 0.0), ('rito', 0.0), ('friendzon', 0.0), ('panel', 0.0), ('repeat', 0.0), ('audienc', 0.0), ('hsm', 0.0), ('canario', 0.0), ('hotel', 0.0), ('ukiss', 0.0), ('faith', 0.0), ('kurt', 0.0), (\"fatma'm\", 0.0), ('alex', 0.0), ('swag', 0.0), ('lmfao', 0.0), ('flapjack', 0.0), ('countthecost', 0.0), ('ihop', 0.0), ('infra', 0.0), ('lq', 0.0), ('knive', 0.0), ('sotir', 0.0), ('mybrainneedstoshutoff', 0.0), ('macci', 0.0), ('chees', 0.0), ('25', 0.0), ('tend', 0.0), ('510', 0.0), ('silicon', 0.0), ('cover', 0.0), ('kbye', 0.0), ('ini', 0.0), ('anytim', 0.0), ('citizen', 0.0), ('compar', 0.0), ('rank', 0.0), ('mcountdown', 0.0), ('5h', 0.0), ('thapelo', 0.0), ('op', 0.0), ('civ', 0.0), ('wooden', 0.0), ('mic', 0.0), ('embarrass', 0.0), ('translat', 0.0), ('daili', 0.0), ('mecha-totem', 0.0), ('nak', 0.0), ('tgk', 0.0), ('townsss', 0.0), ('jokid', 0.0), ('rent', 0.0), ('degre', 0.0), ('inconsider', 0.0), ('softbal', 0.0), ('appli', 0.0), ('tomcat', 0.0), ('chel', 0.0), ('jemma', 0.0), ('detail', 0.0), ('list', 0.0), ('matchi', 0.0), ('elsa', 0.0), ('postpon', 0.0), ('karin', 0.0), ('honey', 0.0), ('vist', 0.0), ('unhealthi', 0.0), ('propa', 0.0), ('knockin', 0.0), ('bacon', 0.0), ('market', 0.0), ('pre-holiday', 0.0), ('diet', 0.0), ('meani', 0.0), ('deathbybaconsmel', 0.0), ('init', 0.0), ('destin', 0.0), ('victoria', 0.0), ('luna', 0.0), ('krystal', 0.0), ('sarajevo', 0.0), ('haix', 0.0), ('sp', 0.0), ('student', 0.0), ('wii', 0.0), ('bayonetta', 0.0), ('101', 0.0), ('doabl', 0.0), ('drove', 0.0), ('agenc', 0.0), ('story.miss', 0.0), ('everon', 0.0), ('jp', 0.0), ('mamabear', 0.0), ('imintoh', 0.0), ('underr', 0.0), (\"slovakia'\", 0.0), ('D:', 0.0), ('saklap', 0.0), ('grade', 0.0), ('rizal', 0.0), ('lib', 0.0), ('discuss', 0.0), ('advisori', 0.0), ('period', 0.0), ('dit', 0.0), ('du', 0.0), ('harsh', 0.0), ('ohgod', 0.0), ('abligaverin', 0.0), ('photooftheday', 0.0), ('sexygirlbypreciouslemmi', 0.0), ('ripsandrabland', 0.0), ('edel', 0.0), ('salam', 0.0), ('mubark', 0.0), ('dong', 0.0), ('tammirossm', 0.0), ('speck', 0.0), ('abbymil', 0.0), ('18', 0.0), ('ion', 0.0), ('5min', 0.0), ('hse', 0.0), ('noob', 0.0), ('nxt', 0.0), ('2week', 0.0), ('300', 0.0), ('fck', 0.0), ('nae', 0.0), ('deep', 0.0), ('human', 0.0), ('whit', 0.0), ('van', 0.0), ('bristol', 0.0), ('subserv', 0.0), ('si', 0.0), ('oo', 0.0), ('tub', 0.0), ('penyfan', 0.0), ('forecast', 0.0), ('breconbeacon', 0.0), ('tittheir', 0.0), ('42', 0.0), ('hotti', 0.0), ('uu', 0.0), ('rough', 0.0), ('fuzzi', 0.0), ('san', 0.0), ('antonio', 0.0), ('kang', 0.0), ('junhe', 0.0), ('couldv', 0.0), ('pz', 0.0), ('somerset', 0.0), ('given', 0.0), ('sunburnt', 0.0), ('safer', 0.0), ('k3g', 0.0), ('input', 0.0), ('gamestomp', 0.0), ('desc', 0.0), (\"angelo'\", 0.0), ('yna', 0.0), ('psygustokita', 0.0), ('fiver', 0.0), ('toward', 0.0), ('sakho', 0.0), ('threat', 0.0), ('goalscor', 0.0), ('10:59', 0.0), ('11.00', 0.0), ('sham', 0.0), ('tricki', 0.0), ('baao', 0.0), ('nisrina', 0.0), ('crazi', 0.0), ('ladygaga', 0.0), (\"you'\", 0.0), ('pari', 0.0), ('marrish', 0.0), (\"otp'\", 0.0), ('6:15', 0.0), ('edomnt', 0.0), ('qih', 0.0), ('shxb', 0.0), ('1000', 0.0), ('chilton', 0.0), ('mother', 0.0), ('obsess', 0.0), ('creepi', 0.0), ('josh', 0.0), ('boohoo', 0.0), ('fellow', 0.0), ('tweep', 0.0), ('roar', 0.0), ('victori', 0.0), ('tweepsmatchout', 0.0), ('nein', 0.0), ('404', 0.0), ('midnight', 0.0), ('willlow', 0.0), ('hbd', 0.0), ('sowwi', 0.0), ('3000', 0.0), ('grind', 0.0), ('gear', 0.0), ('0.001', 0.0), ('meant', 0.0), ('portrait', 0.0), ('mode', 0.0), ('fact', 0.0), ('11:11', 0.0), ('shanzay', 0.0), ('salabrati', 0.0), ('journo', 0.0), ('lure', 0.0), ('gang', 0.0), ('twist', 0.0), ('mashaket', 0.0), ('pet', 0.0), ('bapak', 0.0), ('royal', 0.0), ('prima', 0.0), ('mune', 0.0), ('874', 0.0), ('plisss', 0.0), ('elf', 0.0), ('teenchoic', 0.0), ('choiceinternationalartist', 0.0), ('superjunior', 0.0), (\"he'll\", 0.0), ('sunway', 0.0), ('petal', 0.0), ('jaya', 0.0), ('selangor', 0.0), ('glow', 0.0), ('huhuu', 0.0), ('congratul', 0.0), ('margo', 0.0), ('konga', 0.0), ('ni', 0.0), ('wa', 0.0), ('ode', 0.0), ('disvirgin', 0.0), ('bride', 0.0), ('yulin', 0.0), ('meat', 0.0), ('festiv', 0.0), ('imma', 0.0), ('syawal', 0.0), ('lapar', 0.0), ('foundat', 0.0), ('clash', 0.0), ('facil', 0.0), ('dh', 0.0), ('chalet', 0.0), ('suay', 0.0), ('anot', 0.0), ('bugger', 0.0), ('एक', 0.0), ('ब', 0.0), ('ा', 0.0), ('र', 0.0), ('फ', 0.0), ('ि', 0.0), ('स', 0.0), ('े', 0.0), ('ँ', 0.0), ('ध', 0.0), ('ो', 0.0), ('ख', 0.0), ('chandauli', 0.0), ('majhwar', 0.0), ('railway', 0.0), ('tito', 0.0), ('tita', 0.0), ('cousin', 0.0), ('critic', 0.0), ('condit', 0.0), ('steal', 0.0), ('narco', 0.0), ('regen', 0.0), ('unfav', 0.0), ('benadryl', 0.0), ('offlin', 0.0), ('arent', 0.0), ('msg', 0.0), ('yg', 0.0), ('gg', 0.0), ('sxrew', 0.0), ('dissappear', 0.0), ('swap', 0.0), ('bleed', 0.0), ('ishal', 0.0), ('mi', 0.0), ('thaank', 0.0), ('jhezz', 0.0), ('sneak', 0.0), ('soft', 0.0), ('defenc', 0.0), ('defens', 0.0), ('nrltigersroost', 0.0), ('indiana', 0.0), ('hibb', 0.0), ('biblethump', 0.0), ('rlyyi', 0.0), ('septum', 0.0), ('pierc', 0.0), ('goood', 0.0), ('hiya', 0.0), ('fire', 0.0), ('venom', 0.0), ('carriag', 0.0), ('pink', 0.0), ('fur-trim', 0.0), ('stetson', 0.0), ('error', 0.0), ('59', 0.0), ('xue', 0.0), ('midori', 0.0), ('sakit', 0.0), ('mateo', 0.0), ('hawk', 0.0), ('bartend', 0.0), ('surf', 0.0), ('despair', 0.0), ('insta', 0.0), ('promo', 0.0), ('iwantin', 0.0), ('___', 0.0), ('fault', 0.0), ('goodluck', 0.0), ('pocket', 0.0), ('help@veryhq.co.uk', 0.0), ('benedictervent', 0.0), ('content', 0.0), ('221b', 0.0), ('popcorn', 0.0), ('joyc', 0.0), ('ooop', 0.0), ('spotifi', 0.0), ('paalam', 0.0), ('sazbal', 0.0), ('incid', 0.0), ('aaahh', 0.0), ('gooo', 0.0), (\"stomach'\", 0.0), ('growl', 0.0), ('beard', 0.0), ('nooop', 0.0), ('🎉', 0.0), ('ding', 0.0), ('hundr', 0.0), ('meg', 0.0), (\"verity'\", 0.0), ('rupert', 0.0), ('amin', 0.0), ('studi', 0.0), ('pleaaas', 0.0), ('👆', 0.0), ('woaah', 0.0), ('solvo', 0.0), ('twin', 0.0), (\"friday'\", 0.0), ('lego', 0.0), ('barefoot', 0.0), ('twelvyy', 0.0), ('boaz', 0.0), ('myhil', 0.0), ('takeov', 0.0), ('wba', 0.0), (\"taeyeon'\", 0.0), ('derp', 0.0), ('pd', 0.0), ('zoom', 0.0), (\"sunny'\", 0.0), ('besst', 0.0), ('plagu', 0.0), ('pit', 0.0), ('rich', 0.0), ('sight', 0.0), ('frail', 0.0), ('lotteri', 0.0), ('ride', 0.0), ('twurkin', 0.0), ('razzist', 0.0), ('tumblr', 0.0), ('shek', 0.0), ('609', 0.0), ('mugshot', 0.0), ('attend', 0.0), ('plsss', 0.0), ('taissa', 0.0), ('farmiga', 0.0), ('robert', 0.0), ('qualiti', 0.0), ('daniel', 0.0), ('latest', 0.0), ('softwar', 0.0), ('restor', 0.0), ('momo', 0.0), ('pharma', 0.0), ('immov', 0.0), ('messi', 0.0), ('ansh', 0.0), ('f1', 0.0), ('billion', 0.0), ('rand', 0.0), ('bein', 0.0), ('tla', 0.0), ('tweng', 0.0), ('gene', 0.0), ('up.com', 0.0), ('counti', 0.0), ('cooler', 0.0), ('minhyuk', 0.0), ('gold', 0.0), ('1900', 0.0), ('😪', 0.0), ('yu', 0.0), ('hz', 0.0), ('selena', 0.0), ('emta', 0.0), ('hatigii', 0.0), ('b2aa', 0.0), ('yayyy', 0.0), ('anesthesia', 0.0), ('penrith', 0.0), ('emu', 0.0), ('plain', 0.0), ('staff', 0.0), ('untouch', 0.0), ('brienn', 0.0), ('lsh', 0.0), ('gunna', 0.0), ('former', 0.0), ('darn', 0.0), ('allah', 0.0), ('pakistan', 0.0), ('juudiciari', 0.0), (\"horton'\", 0.0), ('dunkin', 0.0), ('socialis', 0.0), ('cara', 0.0), (\"delevingne'\", 0.0), ('fear', 0.0), ('drug', 0.0), ('lace', 0.0), ('fank', 0.0), ('takfaham', 0.0), ('ufff', 0.0), ('sr', 0.0), ('dard', 0.0), ('katekyn', 0.0), ('ehh', 0.0), ('yeahhh', 0.0), ('hacharatt', 0.0), ('niwll', 0.0), ('defin', 0.0), ('wit', 0.0), ('goa', 0.0), ('lini', 0.0), ('kasi', 0.0), ('rhd', 0.0), ('1st', 0.0), ('wae', 0.0), ('subsid', 0.0), ('20th', 0.0), ('anniversari', 0.0), ('youngja', 0.0), ('harumph', 0.0), ('soggi', 0.0), ('weed', 0.0), ('ireland', 0.0), ('sakura', 0.0), ('flavour', 0.0), ('chokki', 0.0), ('🌸', 0.0), ('unavail', 0.0), ('richard', 0.0), ('laptop', 0.0), ('satya', 0.0), ('aditya', 0.0), ('🍜', 0.0), ('vibrat', 0.0), ('an', 0.0), ('cu', 0.0), ('dhaka', 0.0), ('jam', 0.0), ('shall', 0.0), ('cornetto', 0.0), ('noseble', 0.0), ('nintendo', 0.0), ('wew', 0.0), ('ramo', 0.0), ('ground', 0.0), ('shawn', 0.0), ('mend', 0.0), ('l', 0.0), ('dinghi', 0.0), ('skye', 0.0), ('store', 0.0), ('descript', 0.0), ('colleagu', 0.0), ('gagal', 0.0), ('txt', 0.0), ('sim', 0.0), ('nooot', 0.0), ('notch', 0.0), ('tht', 0.0), ('starv', 0.0), ('\\U000fe196', 0.0), ('pyjama', 0.0), ('swifti', 0.0), ('sorna', 0.0), ('lurgi', 0.0), ('jim', 0.0), ('6gb', 0.0), ('fenestoscop', 0.0), ('etienn', 0.0), ('bandana', 0.0), ('bigger', 0.0), ('vagina', 0.0), ('suriya', 0.0), ('dangl', 0.0), ('mjhe', 0.0), ('aaj', 0.0), ('tak', 0.0), ('kisi', 0.0), ('kiya', 0.0), ('eyesight', 0.0), ('25x30', 0.0), ('aftenoon', 0.0), ('booor', 0.0), ('uuu', 0.0), ('boyfriend', 0.0), ('freebiefriday', 0.0), ('garag', 0.0), ('michael', 0.0), ('obvious', 0.0), ('denim', 0.0), ('somebodi', 0.0), ('ce', 0.0), ('gw', 0.0), ('anatomi', 0.0), ('no1', 0.0), (\"morisette'\", 0.0), ('flash', 0.0), ('non-trial', 0.0), ('sayhernam', 0.0), ('lootcrat', 0.0), ('item', 0.0), ('inca', 0.0), ('trail', 0.0), ('sandboard', 0.0), ('derbi', 0.0), ('coffe', 0.0), ('unabl', 0.0), ('signatur', 0.0), ('dish', 0.0), ('unfamiliar', 0.0), ('kitchen', 0.0), ('coldest', 0.0), (\"old'\", 0.0), ('14518344', 0.0), ('61', 0.0), ('thirdwheel', 0.0), ('lovebird', 0.0), ('nth', 0.0), ('imo', 0.0), ('familiar', 0.0), ('@juliettemaughan', 0.0), ('copi', 0.0), ('sensiesha', 0.0), ('eldest', 0.0), ('netbal', 0.0), ('😟', 0.0), ('keedz', 0.0), ('taybigail', 0.0), ('jordan', 0.0), ('tournament', 0.0), ('goin', 0.0), ('ps4', 0.0), ('kink', 0.0), ('charger', 0.0), ('streak', 0.0), ('scorch', 0.0), ('srski', 0.0), ('tdc', 0.0), ('egypt', 0.0), ('in-sensit', 0.0), ('cooper', 0.0), ('invit', 0.0), ('donna', 0.0), ('thurston', 0.0), ('collin', 0.0), ('quietli', 0.0), ('kennel', 0.0), ('911', 0.0), ('pluckersss', 0.0), ('gion', 0.0), ('886', 0.0), ('nsfw', 0.0), ('kidschoiceaward', 0.0), ('ming', 0.0), ('pbr', 0.0), ('shoutout', 0.0), ('periscop', 0.0), ('ut', 0.0), ('shawti', 0.0), ('naw', 0.0), (\"sterling'\", 0.0), ('9muse', 0.0), ('hrryok', 0.0), ('asap', 0.0), ('wnt', 0.0), ('9:30', 0.0), ('9:48', 0.0), ('9/11', 0.0), ('bueno', 0.0), ('receptionist', 0.0), ('ella', 0.0), ('goe', 0.0), ('ketchup', 0.0), ('tasteless', 0.0), ('deantd', 0.0), ('justgotkanekifi', 0.0), ('notgonnabeactivefor', 0.0), ('2weeksdontmissittoomuch', 0.0), ('2013', 0.0), ('disney', 0.0), ('vlog', 0.0), ('swim', 0.0), ('turtl', 0.0), ('cnn', 0.0), ('straplin', 0.0), ('theatr', 0.0), ('guncontrol', 0.0), ('stung', 0.0), ('tweak', 0.0), (\"thát'\", 0.0), ('powerpoint', 0.0), ('present', 0.0), ('diner', 0.0), ('no-no', 0.0), ('hind', 0.0), ('circuit', 0.0), ('secondari', 0.0), ('sodder', 0.0), ('perhap', 0.0), ('mobitel', 0.0), ('colin', 0.0), ('playstat', 0.0), ('charg', 0.0), ('exp', 0.0), ('misspelt', 0.0), ('wan', 0.0), ('hyungwon', 0.0), ('alarm', 0.0), ('needicecreamnow', 0.0), ('shake', 0.0), ('repeatedli', 0.0), ('nu-uh', 0.0), ('jace', 0.0), ('mostest', 0.0), ('vip', 0.0), ('urgh', 0.0), ('consol', 0.0), (\"grigson'\", 0.0), ('carrot', 0.0), ('>:-(', 0.0), ('sunburn', 0.0), ('ughh', 0.0), ('enabl', 0.0), ('otter', 0.0), ('protect', 0.0), ('argh', 0.0), ('pon', 0.0), ('otl', 0.0), ('sleepov', 0.0), ('jess', 0.0), ('bebe', 0.0), ('fabina', 0.0), (\"barrista'\", 0.0), ('plant', 0.0), ('pup', 0.0), ('brolli', 0.0), ('mere', 0.0), ('nhi', 0.0), ('dey', 0.0), ('serv', 0.0), ('kepo', 0.0), ('bitin', 0.0), ('pretzel', 0.0), ('bb17', 0.0), ('bblf', 0.0), ('fuckin', 0.0), ('vanilla', 0.0), ('latt', 0.0), ('skulker', 0.0), ('thread', 0.0), ('pg279q', 0.0), ('hungrrryyi', 0.0), ('icloud', 0.0), ('ipod', 0.0), ('hallyu', 0.0), ('buuut', 0.0), ('über', 0.0), ('oki', 0.0), ('8p', 0.0), ('champagn', 0.0), ('harlo', 0.0), ('torrentialrain', 0.0), ('lloyd', 0.0), ('asshol', 0.0), ('clearli', 0.0), ('knowww', 0.0), ('runni', 0.0), ('sehun', 0.0), ('sweater', 0.0), ('intoler', 0.0), ('xenophob', 0.0), ('wtfff', 0.0), ('tone', 0.0), ('wasnt', 0.0), ('1pm', 0.0), ('fantasi', 0.0), ('newer', 0.0), ('pish', 0.0), ('comparison', 0.0), ('remast', 0.0), ('fe14', 0.0), ('icon', 0.0), ('strawberri', 0.0), ('loos', 0.0), ('kapatidkongpogi', 0.0), ('steph', 0.0), ('mel', 0.0), ('longest', 0.0), ('carmen', 0.0), ('login', 0.0), ('respons', 0.0), ('00128835', 0.0), ('wingstop', 0.0), ('budg', 0.0), ('fuq', 0.0), ('ilhoon', 0.0), ('ganteng', 0.0), ('simpl', 0.0), ('getthescoop', 0.0), ('hearess', 0.0), ('677', 0.0), ('txt_shot', 0.0), ('standbi', 0.0), ('inatal', 0.0), ('zenmat', 0.0), ('namecheck', 0.0), ('whistl', 0.0), ('junmyeon', 0.0), ('ddi', 0.0), ('arini', 0.0), ('je', 0.0), ('bright', 0.0), ('igbo', 0.0), ('blamehoney', 0.0), ('whhr', 0.0), ('juan', 0.0), ('snuggl', 0.0), ('internship', 0.0), ('usag', 0.0), ('warn', 0.0), ('vertigo', 0.0), ('panic', 0.0), ('attack', 0.0), ('dual', 0.0), ('carriageway', 0.0), ('aragalang', 0.0), ('08', 0.0), ('tam', 0.0), ('bose', 0.0), ('theo', 0.0), ('anymoree', 0.0), ('rubbish', 0.0), ('cactu', 0.0), ('sorrri', 0.0), ('bowel', 0.0), ('nasti', 0.0), ('tumour', 0.0), ('faster', 0.0), ('puffi', 0.0), ('eyelid', 0.0), ('musica', 0.0), ('dota', 0.0), ('4am', 0.0), ('campsit', 0.0), ('miah', 0.0), ('hahay', 0.0), ('churro', 0.0), ('montana', 0.0), ('reign', 0.0), ('exampl', 0.0), ('inflat', 0.0), ('sic', 0.0), ('reset', 0.0), ('entlerbountli', 0.0), ('tinder', 0.0), ('dirtykik', 0.0), ('sexcam', 0.0), ('spray', 0.0), ('industri', 0.0), ('swollen', 0.0), ('distanc', 0.0), ('jojo', 0.0), ('postcod', 0.0), ('kafi', 0.0), ('din', 0.0), ('mene', 0.0), ('aj', 0.0), ('koi', 0.0), ('rewert', 0.0), ('bunta', 0.0), ('warnaaa', 0.0), ('tortur', 0.0), ('field', 0.0), ('wall', 0.0), ('iran', 0.0), ('irand', 0.0), ('us-iran', 0.0), ('nuclear', 0.0), (\"mit'\", 0.0), ('expert', 0.0), ('sever', 0.0), ('li', 0.0), ('s2e12', 0.0), ('rumpi', 0.0), ('gallon', 0.0), ('ryan', 0.0), ('secret', 0.0), ('dandia', 0.0), ('rbi', 0.0), ('cage', 0.0), ('parrot', 0.0), ('1li', 0.0), ('commiss', 0.0), ('cag', 0.0), ('stripe', 0.0), ('gujarat', 0.0), ('tear', 0.0), ('ily.melani', 0.0), ('unlik', 0.0), ('talent', 0.0), ('deepxcap', 0.0), ('doin', 0.0), ('5:08', 0.0), ('thesi', 0.0), ('belieb', 0.0), ('gtg', 0.0), ('compet', 0.0), ('vv', 0.0), ('respect', 0.0), ('opt-out', 0.0), ('vam', 0.0), ('spece', 0.0), ('ell', 0.0), ('articl', 0.0), ('sexyameli', 0.0), ('fineandyu', 0.0), ('gd', 0.0), ('flesh', 0.0), ('daft', 0.0), ('imsorri', 0.0), ('aku', 0.0), ('chelsea', 0.0), ('koe', 0.0), ('emyu', 0.0), ('confetti', 0.0), ('bf', 0.0), ('sini', 0.0), ('dipoppo', 0.0), ('hop', 0.0), ('bestweekend', 0.0), ('okay-ish', 0.0), ('html', 0.0), ('geneva', 0.0), ('patml', 0.0), ('482', 0.0), ('orgasm', 0.0), ('abouti', 0.0), ('797', 0.0), ('reaalli', 0.0), ('aldub', 0.0), ('nila', 0.0), ('smart', 0.0), ('meter', 0.0), ('display', 0.0), ('unansw', 0.0), ('bri', 0.0), ('magcon', 0.0), ('sinuend', 0.0), ('kak', 0.0), ('laper', 0.0), ('rage', 0.0), ('loser', 0.0), ('brendon', 0.0), (\"urie'\", 0.0), ('sumer', 0.0), ('repackag', 0.0), (\":'d\", 0.0), ('matthew', 0.0), ('yongb', 0.0), ('sued', 0.0), ('suprem', 0.0), ('warm-up', 0.0), ('arriv', 0.0), ('brill', 0.0), ('120', 0.0), ('rub', 0.0), ('belli', 0.0), ('jannatul', 0.0), ('ferdou', 0.0), ('ekta', 0.0), ('kharap', 0.0), ('manush', 0.0), ('mart', 0.0), ('gua', 0.0), ('can', 0.0), (\"khloe'\", 0.0), ('nhe', 0.0), ('yar', 0.0), ('minkyuk', 0.0), ('hol', 0.0), ('isol', 0.0), ('hk', 0.0), ('sensor', 0.0), ('broker', 0.0), ('wna', 0.0), ('flaviana', 0.0), ('chickmt', 0.0), ('123', 0.0), ('letsfootbal', 0.0), ('atk', 0.0), ('greymind', 0.0), ('43', 0.0), ('gayl', 0.0), ('cricket', 0.0), ('2-3', 0.0), ('mood-dump', 0.0), ('livestream', 0.0), ('gotten', 0.0), ('felton', 0.0), ('veriti', 0.0), (\"standen'\", 0.0), ('shortli', 0.0), ('😆', 0.0), ('takoyaki', 0.0), ('piti', 0.0), ('aisyah', 0.0), ('ffvi', 0.0), ('youtu.be/2_gpctsojkw', 0.0), ('donutsss', 0.0), ('50p', 0.0), ('grate', 0.0), ('spars', 0.0), ('dd', 0.0), ('lagi', 0.0), ('rider', 0.0), ('pride', 0.0), ('hueee', 0.0), ('password', 0.0), ('thingi', 0.0), ('georg', 0.0), ('afraid', 0.0), ('chew', 0.0), ('toy', 0.0), ('stella', 0.0), ('threw', 0.0), ('theaccidentalcoupl', 0.0), ('smooth', 0.0), ('handov', 0.0), ('spick', 0.0), ('bebii', 0.0), ('happenend', 0.0), ('dr', 0.0), ('balm', 0.0), ('hmph', 0.0), ('bubba', 0.0), ('floor', 0.0), ('georgi', 0.0), ('oi', 0.0), ('bengali', 0.0), ('masterchef', 0.0), ('whatchya', 0.0), ('petrol', 0.0), ('diesel', 0.0), ('wardrob', 0.0), ('awe', 0.0), ('cock', 0.0), ('nyquil', 0.0), ('poootek', 0.0), ('1,500', 0.0), ('bobbl', 0.0), ('leak', 0.0), ('thermo', 0.0), ('classic', 0.0), ('ti5', 0.0), ('12th', 0.0), ('skate', 0.0), ('tae', 0.0), ('kita', 0.0), ('ia', 0.0), ('pkwalasawa', 0.0), ('india', 0.0), ('corrupt', 0.0), ('access', 0.0), ('anything.sur', 0.0), ('info', 0.0), ('octob', 0.0), ('mubank', 0.0), ('ene', 0.0), ('3k', 0.0), ('zehr', 0.0), ('khani', 0.0), ('groceri', 0.0), ('hubba', 0.0), ('bubbl', 0.0), ('gum', 0.0), ('closet', 0.0), ('jhalak', 0.0), ('. ..', 0.0), ('bakwa', 0.0), ('. ...', 0.0), ('seehiah', 0.0), ('goy', 0.0), ('nacho', 0.0), ('braid', 0.0), ('initi', 0.0), ('ruth', 0.0), ('boong', 0.0), ('recommend', 0.0), ('gta', 0.0), ('cwnt', 0.0), ('trivia', 0.0), ('belat', 0.0), ('rohingya', 0.0), ('muslim', 0.0), ('indict', 0.0), ('traffick', 0.0), ('thailand', 0.0), ('asia', 0.0), ('savetherohingya', 0.0), ('rumbl', 0.0), ('kumbl', 0.0), ('scold', 0.0), ('phrase', 0.0), ('includ', 0.0), ('tag', 0.0), ('melt', 0.0), ('tfw', 0.0), ('jest', 0.0), ('offend', 0.0), ('sleepingwithsiren', 0.0), ('17th', 0.0), ('bringmethehorizon', 0.0), ('18th', 0.0), ('carva', 0.0), ('regularli', 0.0), ('sympathi', 0.0), ('revamp', 0.0), ('headphon', 0.0), ('cunt', 0.0), ('wacha', 0.0), ('niend', 0.0), ('bravo', 0.0), ('2hr', 0.0), ('13m', 0.0), ('kk', 0.0), ('calibraksaep', 0.0), ('darlin', 0.0), ('stun', 0.0), (\"doedn't\", 0.0), ('meaning', 0.0), ('horrif', 0.0), ('scoup', 0.0), ('paypal', 0.0), ('sweedi', 0.0), ('nam', 0.0), (\"sacconejoly'\", 0.0), ('bethesda', 0.0), ('fallout', 0.0), ('minecon', 0.0), ('perfect', 0.0), ('katee', 0.0), ('iloveyouu', 0.0), ('linux', 0.0), ('nawww', 0.0), ('chikka', 0.0), ('ug', 0.0), ('rata', 0.0), ('soonest', 0.0), ('mwamwa', 0.0), ('faggot', 0.0), ('doubt', 0.0), ('fyi', 0.0), ('profil', 0.0), ('nicest', 0.0), ('mehendi', 0.0), ('dash', 0.0), ('bookmark', 0.0), ('whay', 0.0), ('shaa', 0.0), ('prami', 0.0), ('😚', 0.0), ('ngee', 0.0), ('ann', 0.0), ('crikey', 0.0), ('snit', 0.0), ('nathanielhinanakit', 0.0), ('naya', 0.0), ('spinni', 0.0), ('wheel', 0.0), ('albeit', 0.0), ('athlet', 0.0), ('gfriend', 0.0), ('yung', 0.0), ('ariana', 0.0), ('fugli', 0.0), ('💞', 0.0), ('jongda', 0.0), ('hardli', 0.0), ('tlist', 0.0), ('budget', 0.0), ('pabebegirl', 0.0), ('pabeb', 0.0), ('alter', 0.0), ('sandra', 0.0), ('bland', 0.0), ('storifi', 0.0), ('abbi', 0.0), ('mtvhottest', 0.0), ('gaga', 0.0), ('rib', 0.0), ('😵', 0.0), ('hulkamania', 0.0), ('unlov', 0.0), ('lazi', 0.0), ('ihhh', 0.0), ('stackar', 0.0), ('basil', 0.0), ('remedi', 0.0), ('ov', 0.0), ('raiz', 0.0), ('nvr', 0.0), ('gv', 0.0), ('up.wt', 0.0), ('wt', 0.0), ('imran', 0.0), ('achiev', 0.0), ('thr', 0.0), ('soln', 0.0), (\"sister'\", 0.0), ('hong', 0.0), ('kong', 0.0), ('31st', 0.0), ('pipe', 0.0), ('sept', 0.0), ('lawn', 0.0), (\"cupid'\", 0.0), ('torn', 0.0), ('retain', 0.0), ('clown', 0.0), ('lipstick', 0.0), ('haiss', 0.0), ('todayi', 0.0), ('thoo', 0.0), ('everday', 0.0), ('hangout', 0.0), ('steven', 0.0), ('william', 0.0), ('umboh', 0.0), ('goodafternoon', 0.0), ('jadin', 0.0), ('thiz', 0.0), ('iz', 0.0), ('emeg', 0.0), ('kennat', 0.0), ('reunit', 0.0), ('abi', 0.0), ('arctic', 0.0), ('chicsirif', 0.0), ('structur', 0.0), ('cumbia', 0.0), ('correct', 0.0), ('badlif', 0.0), ('4-5', 0.0), ('kaslkdja', 0.0), ('3wk', 0.0), ('flower', 0.0), ('feverfew', 0.0), ('weddingflow', 0.0), ('diyflow', 0.0), ('fitn', 0.0), ('worth', 0.0), ('wolverin', 0.0), ('khan', 0.0), ('innoc', 0.0), ('🙏', 0.0), ('🎂', 0.0), ('memem', 0.0), ('krystoria', 0.0), ('snob', 0.0), ('zumba', 0.0), ('greekcrisi', 0.0), ('remain', 0.0), ('dutch', 0.0), ('legibl', 0.0), ('isra', 0.0), ('passport', 0.0), ('froze', 0.0), ('theori', 0.0), ('23rd', 0.0), ('24th', 0.0), ('stomachach', 0.0), ('slice', 0.0), ('ཀ', 0.0), ('again', 0.0), ('otani', 0.0), ('3-0', 0.0), ('3rd', 0.0), ('bottom', 0.0), ('niaaa', 0.0), ('2/4', 0.0), ('scheme', 0.0), ('fckin', 0.0), ('hii', 0.0), ('vin', 0.0), ('plss', 0.0), ('rpli', 0.0), ('rat', 0.0), ('bollywood', 0.0), ('mac', 0.0), ('backup', 0.0), ('lune', 0.0), ('robinhood', 0.0), ('robinhoodi', 0.0), ('🚙', 0.0), ('💚', 0.0), ('docopenhagen', 0.0), ('setter', 0.0), ('swipe', 0.0), ('bbygurl', 0.0), ('neil', 0.0), ('caribbean', 0.0), ('6yr', 0.0), ('jabongatpumaurbanstamped', 0.0), ('takraw', 0.0), ('fersure', 0.0), ('angi', 0.0), ('sheriff', 0.0), ('aaag', 0.0), (\"i'mo\", 0.0), ('sulk', 0.0), ('selfish', 0.0), ('trick', 0.0), ('nonc', 0.0), ('pad', 0.0), ('bison', 0.0), ('motiv', 0.0), (\"q'don\", 0.0), ('cheat', 0.0), ('stomp', 0.0), ('aaaaaaaaah', 0.0), ('kany', 0.0), ('mama', 0.0), ('jdjdjdjd', 0.0), (\"jimin'\", 0.0), ('fancaf', 0.0), ('waffl', 0.0), ('87.7', 0.0), ('2fm', 0.0), ('himseek', 0.0), ('kissm', 0.0), ('akua', 0.0), ('glo', 0.0), ('cori', 0.0), ('monteith', 0.0), ('often', 0.0), ('hashbrown', 0.0), ('💘', 0.0), ('pg', 0.0), ('msc', 0.0), ('hierro', 0.0), ('shirleycam', 0.0), ('phonesex', 0.0), ('pal', 0.0), ('111', 0.0), ('gilet', 0.0), ('cheek', 0.0), ('squishi', 0.0), ('lahhh', 0.0), ('eon', 0.0), ('sunris', 0.0), ('beeti', 0.0), ('697', 0.0), ('kikkomansabor', 0.0), ('getaway', 0.0), ('crimin', 0.0), ('☼', 0.0), ('amiibo', 0.0), ('batman', 0.0), ('habe', 0.0), ('siannn', 0.0), ('march', 0.0), ('2017', 0.0), ('chuckin', 0.0), ('ampsha', 0.0), ('nia', 0.0), ('strap', 0.0), ('dz9055', 0.0), ('entlead', 0.0), ('590', 0.0), ('twice', 0.0), ('07:02', 0.0), ('ifsc', 0.0), ('mayor', 0.0), ('biodivers', 0.0), ('taxonom', 0.0), ('collabor', 0.0), ('speci', 0.0), ('discoveri', 0.0), ('suppl', 0.0), ('pdf', 0.0), ('collar', 0.0), ('3:03', 0.0), ('belt', 0.0), ('smith', 0.0), ('eyelin', 0.0), ('therefor', 0.0), ('netherland', 0.0), ('el', 0.0), ('jeb', 0.0), ('blacklivesmatt', 0.0), ('slogan', 0.0), ('msnbc', 0.0), ('jebbush', 0.0), ('famish', 0.0), ('marino', 0.0), ('qualifi', 0.0), ('suzi', 0.0), ('skirt', 0.0), ('tama', 0.0), ('warrior', 0.0), ('wound', 0.0), ('iraq', 0.0), ('be', 0.0), ('camara', 0.0), ('coveral', 0.0), ('romanc', 0.0), ('inspi', 0.0), ('happili', 0.0), ('sneezi', 0.0), ('rogerwatch', 0.0), ('stalker', 0.0), ('velvet', 0.0), ('tradit', 0.0), (\"people'\", 0.0), ('beheaviour', 0.0), (\"robert'\", 0.0), ('.\\n.', 0.0), ('aaron', 0.0), ('jelous', 0.0), ('mtg', 0.0), ('thoughtseiz', 0.0), ('playabl', 0.0), ('oldi', 0.0), ('goodi', 0.0), ('mcg', 0.0), ('inspirit', 0.0), ('shine', 0.0), ('ise', 0.0), ('assum', 0.0), ('waist', 0.0), ('guin', 0.0), ('venu', 0.0), ('evil', 0.0), ('pepper', 0.0), ('thessidew', 0.0), ('877', 0.0), ('genesi', 0.0), ('mexico', 0.0), ('novemb', 0.0), ('mash', 0.0), ('whattsap', 0.0), ('inuyasha', 0.0), ('outfwith', 0.0), ('myungsoo', 0.0), ('organis', 0.0), ('satisfi', 0.0), ('wah', 0.0), ('challo', 0.0), ('pliss', 0.0), ('juliana', 0.0), ('enrol', 0.0), ('darlen', 0.0), ('emoji', 0.0), ('brisban', 0.0), ('merlin', 0.0), ('nawwwe', 0.0), ('hyperbulli', 0.0), ('tong', 0.0), ('nga', 0.0), ('seatmat', 0.0), ('rajud', 0.0), ('barkada', 0.0), ('ore', 0.0), ('kayla', 0.0), ('ericavan', 0.0), ('jong', 0.0), ('dongwoo', 0.0), ('photocard', 0.0), ('wh', 0.0), ('dw', 0.0), ('tumor', 0.0), ('vivian', 0.0), ('mmsmalubhangsakit', 0.0), ('jillcruz', 0.0), ('lgbt', 0.0), ('qt', 0.0), ('19th', 0.0), ('toss', 0.0), ('co-work', 0.0), ('mia', 0.0), ('push', 0.0), ('dare', 0.0), ('unsettl', 0.0), ('gh', 0.0), ('18c', 0.0), ('rlli', 0.0), ('hamster', 0.0), ('sheeran', 0.0), ('preform', 0.0), ('monash', 0.0), ('hitmark', 0.0), ('glitch', 0.0), ('safaa', 0.0), (\"selena'\", 0.0), ('galat', 0.0), ('tum', 0.0), ('ab', 0.0), ('non', 0.0), ('lrka', 0.0), ('bna', 0.0), ('kia', 0.0), ('bhook', 0.0), ('jai', 0.0), ('social', 0.0), ('afterschool', 0.0), ('bilal', 0.0), ('ashraf', 0.0), ('icu', 0.0), ('thanksss', 0.0), ('annnd', 0.0), ('winchest', 0.0), ('{:', 0.0), ('grepe', 0.0), ('grepein', 0.0), ('panem', 0.0), ('lover', 0.0), ('sulli', 0.0), ('cpm', 0.0), ('condemn', 0.0), ('✔', 0.0), ('occur', 0.0), ('unagi', 0.0), ('7elw', 0.0), ('mesh', 0.0), ('beyt', 0.0), ('3a2ad', 0.0), ('fluent', 0.0), ('varsiti', 0.0), ('sengenza', 0.0), ('context', 0.0), ('movnat', 0.0), ('yield', 0.0), ('nbhero', 0.0), (\"it'd\", 0.0), ('background', 0.0), ('agov', 0.0), ('brasileirao', 0.0), ('abus', 0.0), ('unpar', 0.0), ('bianca', 0.0), ('bun', 0.0), ('dislik', 0.0), ('burdensom', 0.0), ('clear', 0.0), ('amelia', 0.0), ('melon', 0.0), ('useless', 0.0), ('soccer', 0.0), ('interview', 0.0), ('thursday', 0.0)])"
      ]
     },
     "execution_count": 49,
     "metadata": {},
     "output_type": "execute_result"
    }
   ],
   "source": []
  },
  {
   "cell_type": "code",
   "execution_count": null,
   "metadata": {},
   "outputs": [],
   "source": []
  }
 ],
 "metadata": {
  "kernelspec": {
   "display_name": "Python 3",
   "language": "python",
   "name": "python3"
  },
  "language_info": {
   "codemirror_mode": {
    "name": "ipython",
    "version": 3
   },
   "file_extension": ".py",
   "mimetype": "text/x-python",
   "name": "python",
   "nbconvert_exporter": "python",
   "pygments_lexer": "ipython3",
   "version": "3.7.6"
  }
 },
 "nbformat": 4,
 "nbformat_minor": 5
}
